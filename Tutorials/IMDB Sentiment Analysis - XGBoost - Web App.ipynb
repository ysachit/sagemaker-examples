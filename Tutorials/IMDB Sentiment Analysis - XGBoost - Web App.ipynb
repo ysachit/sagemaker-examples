{
 "cells": [
  {
   "cell_type": "markdown",
   "metadata": {},
   "source": [
    "# Sentiment Analysis Web App\n",
    "\n",
    "_Deep Learning Nanodegree Program | Deployment_\n",
    "\n",
    "---\n",
    "\n",
    "In this notebook we will use Amazon's SageMaker service to construct a random tree model to predict the sentiment of a movie review. In addition, we will deploy this model to an endpoint and construct a very simple web app which will interact with our model's deployed endpoint.\n",
    "\n",
    "## General Outline\n",
    "\n",
    "Typically, when using a notebook instance with SageMaker, you will proceed through the following steps. Of course, not every step will need to be done with each project. Also, there is quite a lot of room for variation in many of the steps, as you will see throughout these lessons.\n",
    "\n",
    "1. Download or otherwise retrieve the data.\n",
    "2. Process / Prepare the data.\n",
    "3. Upload the processed data to S3.\n",
    "4. Train a chosen model.\n",
    "5. Test the trained model (typically using a batch transform job).\n",
    "6. Deploy the trained model.\n",
    "7. Use the deployed model.\n",
    "\n",
    "In this notebook we will progress through each of the steps above. We will also see that the final step, using the deployed model, can be quite challenging."
   ]
  },
  {
   "cell_type": "markdown",
   "metadata": {},
   "source": [
    "## Step 1: Downloading the data\n",
    "\n",
    "The dataset we are going to use is very popular among researchers in Natural Language Processing, usually referred to as the [IMDb dataset](http://ai.stanford.edu/~amaas/data/sentiment/). It consists of movie reviews from the website [imdb.com](http://www.imdb.com/), each labeled as either '**pos**itive', if the reviewer enjoyed the film, or '**neg**ative' otherwise.\n",
    "\n",
    "> Maas, Andrew L., et al. [Learning Word Vectors for Sentiment Analysis](http://ai.stanford.edu/~amaas/data/sentiment/). In _Proceedings of the 49th Annual Meeting of the Association for Computational Linguistics: Human Language Technologies_. Association for Computational Linguistics, 2011.\n",
    "\n",
    "We begin by using some Jupyter Notebook magic to download and extract the dataset."
   ]
  },
  {
   "cell_type": "code",
   "execution_count": 4,
   "metadata": {},
   "outputs": [
    {
     "name": "stdout",
     "output_type": "stream",
     "text": [
      "mkdir: cannot create directory ‘../data’: File exists\n",
      "--2019-05-12 07:19:01--  http://ai.stanford.edu/~amaas/data/sentiment/aclImdb_v1.tar.gz\n",
      "Resolving ai.stanford.edu (ai.stanford.edu)... 171.64.68.10\n",
      "Connecting to ai.stanford.edu (ai.stanford.edu)|171.64.68.10|:80... connected.\n",
      "HTTP request sent, awaiting response... 200 OK\n",
      "Length: 84125825 (80M) [application/x-gzip]\n",
      "Saving to: ‘../data/aclImdb_v1.tar.gz’\n",
      "\n",
      "../data/aclImdb_v1. 100%[===================>]  80.23M  12.5MB/s    in 5.5s    \n",
      "\n",
      "2019-05-12 07:19:07 (14.6 MB/s) - ‘../data/aclImdb_v1.tar.gz’ saved [84125825/84125825]\n",
      "\n"
     ]
    }
   ],
   "source": [
    "%mkdir ../data\n",
    "!wget -O ../data/aclImdb_v1.tar.gz http://ai.stanford.edu/~amaas/data/sentiment/aclImdb_v1.tar.gz\n",
    "!tar -zxf ../data/aclImdb_v1.tar.gz -C ../data"
   ]
  },
  {
   "cell_type": "markdown",
   "metadata": {},
   "source": [
    "## Step 2: Preparing and Processing the data\n",
    "\n",
    "The data we have downloaded is split into various files, each of which contains a single review. It will be much easier going forward if we combine these individual files into two large files, one for training and one for testing."
   ]
  },
  {
   "cell_type": "code",
   "execution_count": 5,
   "metadata": {},
   "outputs": [],
   "source": [
    "import os\n",
    "import glob\n",
    "\n",
    "def read_imdb_data(data_dir='../data/aclImdb'):\n",
    "    data = {}\n",
    "    labels = {}\n",
    "    \n",
    "    for data_type in ['train', 'test']:\n",
    "        data[data_type] = {}\n",
    "        labels[data_type] = {}\n",
    "        \n",
    "        for sentiment in ['pos', 'neg']:\n",
    "            data[data_type][sentiment] = []\n",
    "            labels[data_type][sentiment] = []\n",
    "            \n",
    "            path = os.path.join(data_dir, data_type, sentiment, '*.txt')\n",
    "            files = glob.glob(path)\n",
    "            \n",
    "            for f in files:\n",
    "                with open(f) as review:\n",
    "                    data[data_type][sentiment].append(review.read())\n",
    "                    # Here we represent a positive review by '1' and a negative review by '0'\n",
    "                    labels[data_type][sentiment].append(1 if sentiment == 'pos' else 0)\n",
    "                    \n",
    "            assert len(data[data_type][sentiment]) == len(labels[data_type][sentiment]), \\\n",
    "                    \"{}/{} data size does not match labels size\".format(data_type, sentiment)\n",
    "                \n",
    "    return data, labels"
   ]
  },
  {
   "cell_type": "code",
   "execution_count": 6,
   "metadata": {},
   "outputs": [
    {
     "name": "stdout",
     "output_type": "stream",
     "text": [
      "IMDB reviews: train = 12500 pos / 12500 neg, test = 12500 pos / 12500 neg\n"
     ]
    }
   ],
   "source": [
    "data, labels = read_imdb_data()\n",
    "print(\"IMDB reviews: train = {} pos / {} neg, test = {} pos / {} neg\".format(\n",
    "            len(data['train']['pos']), len(data['train']['neg']),\n",
    "            len(data['test']['pos']), len(data['test']['neg'])))"
   ]
  },
  {
   "cell_type": "code",
   "execution_count": 7,
   "metadata": {},
   "outputs": [],
   "source": [
    "from sklearn.utils import shuffle\n",
    "\n",
    "def prepare_imdb_data(data, labels):\n",
    "    \"\"\"Prepare training and test sets from IMDb movie reviews.\"\"\"\n",
    "    \n",
    "    #Combine positive and negative reviews and labels\n",
    "    data_train = data['train']['pos'] + data['train']['neg']\n",
    "    data_test = data['test']['pos'] + data['test']['neg']\n",
    "    labels_train = labels['train']['pos'] + labels['train']['neg']\n",
    "    labels_test = labels['test']['pos'] + labels['test']['neg']\n",
    "    \n",
    "    #Shuffle reviews and corresponding labels within training and test sets\n",
    "    data_train, labels_train = shuffle(data_train, labels_train)\n",
    "    data_test, labels_test = shuffle(data_test, labels_test)\n",
    "    \n",
    "    # Return a unified training data, test data, training labels, test labets\n",
    "    return data_train, data_test, labels_train, labels_test"
   ]
  },
  {
   "cell_type": "code",
   "execution_count": 8,
   "metadata": {},
   "outputs": [
    {
     "name": "stdout",
     "output_type": "stream",
     "text": [
      "IMDb reviews (combined): train = 25000, test = 25000\n"
     ]
    }
   ],
   "source": [
    "train_X, test_X, train_y, test_y = prepare_imdb_data(data, labels)\n",
    "print(\"IMDb reviews (combined): train = {}, test = {}\".format(len(train_X), len(test_X)))"
   ]
  },
  {
   "cell_type": "code",
   "execution_count": 9,
   "metadata": {},
   "outputs": [
    {
     "data": {
      "text/plain": [
       "'When I was flicking through the TV Guide, and came across \"Twisted Desire\" on the movie section, I read it\\'s description. Three words caught my eye \"Melissa Joan Hart\" ...I find her role in \"Sabrina: The Teenage Witch\" absolutely vile, I hate those kind of programs, so I was just thinking that it was going to be a boring old, love story starring her...Little did I know.<br /><br />It finally started on the television, I had my bucket ready in case I were to puke over it\\'s cheesiness or soppiness, you know what I mean. At first, you think she\\'s just a nice, ordinary girl who\\'s in love, but has mean parents. Then when you find out she\\'s manipulated her boyfriend into killing her parents, so she could be with her TRUE love, you\\'re like \"Whoa\". You just don\\'t expect this sort of role for that sort of actress. She played her role very well in my opinion, I never expected her to be able to act like such a bitch, and voilà, she did it perfectly! Congrats to her, the movie was very good, I\\'d definitely watch it again and recommend it to others.'"
      ]
     },
     "execution_count": 9,
     "metadata": {},
     "output_type": "execute_result"
    }
   ],
   "source": [
    "train_X[100]"
   ]
  },
  {
   "cell_type": "markdown",
   "metadata": {},
   "source": [
    "## Processing the data\n",
    "\n",
    "Now that we have our training and testing datasets merged and ready to use, we need to start processing the raw data into something that will be useable by our machine learning algorithm. To begin with, we remove any html formatting and any non-alpha numeric characters that may appear in the reviews. We will do this in a very simplistic way using Python's regular expression module. We will discuss the reason for this rather simplistic pre-processing later on."
   ]
  },
  {
   "cell_type": "code",
   "execution_count": 10,
   "metadata": {},
   "outputs": [],
   "source": [
    "import re\n",
    "\n",
    "REPLACE_NO_SPACE = re.compile(\"(\\.)|(\\;)|(\\:)|(\\!)|(\\')|(\\?)|(\\,)|(\\\")|(\\()|(\\))|(\\[)|(\\])\")\n",
    "REPLACE_WITH_SPACE = re.compile(\"(<br\\s*/><br\\s*/>)|(\\-)|(\\/)\")\n",
    "\n",
    "def review_to_words(review):\n",
    "    words = REPLACE_NO_SPACE.sub(\"\", review.lower())\n",
    "    words = REPLACE_WITH_SPACE.sub(\" \", words)\n",
    "    return words"
   ]
  },
  {
   "cell_type": "code",
   "execution_count": 11,
   "metadata": {},
   "outputs": [
    {
     "data": {
      "text/plain": [
       "'when i was flicking through the tv guide and came across twisted desire on the movie section i read its description three words caught my eye melissa joan hart i find her role in sabrina the teenage witch absolutely vile i hate those kind of programs so i was just thinking that it was going to be a boring old love story starring herlittle did i know it finally started on the television i had my bucket ready in case i were to puke over its cheesiness or soppiness you know what i mean at first you think shes just a nice ordinary girl whos in love but has mean parents then when you find out shes manipulated her boyfriend into killing her parents so she could be with her true love youre like whoa you just dont expect this sort of role for that sort of actress she played her role very well in my opinion i never expected her to be able to act like such a bitch and voilà she did it perfectly congrats to her the movie was very good id definitely watch it again and recommend it to others'"
      ]
     },
     "execution_count": 11,
     "metadata": {},
     "output_type": "execute_result"
    }
   ],
   "source": [
    "review_to_words(train_X[100])"
   ]
  },
  {
   "cell_type": "code",
   "execution_count": 12,
   "metadata": {},
   "outputs": [],
   "source": [
    "import pickle\n",
    "\n",
    "cache_dir = os.path.join(\"../cache\", \"sentiment_web_app\")  # where to store cache files\n",
    "os.makedirs(cache_dir, exist_ok=True)  # ensure cache directory exists\n",
    "\n",
    "def preprocess_data(data_train, data_test, labels_train, labels_test,\n",
    "                    cache_dir=cache_dir, cache_file=\"preprocessed_data.pkl\"):\n",
    "    \"\"\"Convert each review to words; read from cache if available.\"\"\"\n",
    "\n",
    "    # If cache_file is not None, try to read from it first\n",
    "    cache_data = None\n",
    "    if cache_file is not None:\n",
    "        try:\n",
    "            with open(os.path.join(cache_dir, cache_file), \"rb\") as f:\n",
    "                cache_data = pickle.load(f)\n",
    "            print(\"Read preprocessed data from cache file:\", cache_file)\n",
    "        except:\n",
    "            pass  # unable to read from cache, but that's okay\n",
    "    \n",
    "    # If cache is missing, then do the heavy lifting\n",
    "    if cache_data is None:\n",
    "        # Preprocess training and test data to obtain words for each review\n",
    "        #words_train = list(map(review_to_words, data_train))\n",
    "        #words_test = list(map(review_to_words, data_test))\n",
    "        words_train = [review_to_words(review) for review in data_train]\n",
    "        words_test = [review_to_words(review) for review in data_test]\n",
    "        \n",
    "        # Write to cache file for future runs\n",
    "        if cache_file is not None:\n",
    "            cache_data = dict(words_train=words_train, words_test=words_test,\n",
    "                              labels_train=labels_train, labels_test=labels_test)\n",
    "            with open(os.path.join(cache_dir, cache_file), \"wb\") as f:\n",
    "                pickle.dump(cache_data, f)\n",
    "            print(\"Wrote preprocessed data to cache file:\", cache_file)\n",
    "    else:\n",
    "        # Unpack data loaded from cache file\n",
    "        words_train, words_test, labels_train, labels_test = (cache_data['words_train'],\n",
    "                cache_data['words_test'], cache_data['labels_train'], cache_data['labels_test'])\n",
    "    \n",
    "    return words_train, words_test, labels_train, labels_test"
   ]
  },
  {
   "cell_type": "code",
   "execution_count": 13,
   "metadata": {},
   "outputs": [
    {
     "name": "stdout",
     "output_type": "stream",
     "text": [
      "Wrote preprocessed data to cache file: preprocessed_data.pkl\n"
     ]
    }
   ],
   "source": [
    "# Preprocess data\n",
    "train_X, test_X, train_y, test_y = preprocess_data(train_X, test_X, train_y, test_y)"
   ]
  },
  {
   "cell_type": "markdown",
   "metadata": {},
   "source": [
    "### Extract Bag-of-Words features\n",
    "\n",
    "For the model we will be implementing, rather than using the reviews directly, we are going to transform each review into a Bag-of-Words feature representation. Keep in mind that 'in the wild' we will only have access to the training set so our transformer can only use the training set to construct a representation."
   ]
  },
  {
   "cell_type": "code",
   "execution_count": 14,
   "metadata": {},
   "outputs": [],
   "source": [
    "import numpy as np\n",
    "from sklearn.feature_extraction.text import CountVectorizer\n",
    "from sklearn.externals import joblib\n",
    "# joblib is an enhanced version of pickle that is more efficient for storing NumPy arrays\n",
    "\n",
    "def extract_BoW_features(words_train, words_test, vocabulary_size=5000,\n",
    "                         cache_dir=cache_dir, cache_file=\"bow_features.pkl\"):\n",
    "    \"\"\"Extract Bag-of-Words for a given set of documents, already preprocessed into words.\"\"\"\n",
    "    \n",
    "    # If cache_file is not None, try to read from it first\n",
    "    cache_data = None\n",
    "    if cache_file is not None:\n",
    "        try:\n",
    "            with open(os.path.join(cache_dir, cache_file), \"rb\") as f:\n",
    "                cache_data = joblib.load(f)\n",
    "            print(\"Read features from cache file:\", cache_file)\n",
    "        except:\n",
    "            pass  # unable to read from cache, but that's okay\n",
    "    \n",
    "    # If cache is missing, then do the heavy lifting\n",
    "    if cache_data is None:\n",
    "        # Fit a vectorizer to training documents and use it to transform them\n",
    "        # NOTE: Training documents have already been preprocessed and tokenized into words;\n",
    "        #       pass in dummy functions to skip those steps, e.g. preprocessor=lambda x: x\n",
    "        vectorizer = CountVectorizer(max_features=vocabulary_size)\n",
    "        features_train = vectorizer.fit_transform(words_train).toarray()\n",
    "\n",
    "        # Apply the same vectorizer to transform the test documents (ignore unknown words)\n",
    "        features_test = vectorizer.transform(words_test).toarray()\n",
    "        \n",
    "        # NOTE: Remember to convert the features using .toarray() for a compact representation\n",
    "        \n",
    "        # Write to cache file for future runs (store vocabulary as well)\n",
    "        if cache_file is not None:\n",
    "            vocabulary = vectorizer.vocabulary_\n",
    "            cache_data = dict(features_train=features_train, features_test=features_test,\n",
    "                             vocabulary=vocabulary)\n",
    "            with open(os.path.join(cache_dir, cache_file), \"wb\") as f:\n",
    "                joblib.dump(cache_data, f)\n",
    "            print(\"Wrote features to cache file:\", cache_file)\n",
    "    else:\n",
    "        # Unpack data loaded from cache file\n",
    "        features_train, features_test, vocabulary = (cache_data['features_train'],\n",
    "                cache_data['features_test'], cache_data['vocabulary'])\n",
    "    \n",
    "    # Return both the extracted features as well as the vocabulary\n",
    "    return features_train, features_test, vocabulary"
   ]
  },
  {
   "cell_type": "code",
   "execution_count": 15,
   "metadata": {},
   "outputs": [
    {
     "name": "stdout",
     "output_type": "stream",
     "text": [
      "Wrote features to cache file: bow_features.pkl\n"
     ]
    }
   ],
   "source": [
    "# Extract Bag of Words features for both training and test datasets\n",
    "train_X, test_X, vocabulary = extract_BoW_features(train_X, test_X)"
   ]
  },
  {
   "cell_type": "code",
   "execution_count": 16,
   "metadata": {},
   "outputs": [
    {
     "data": {
      "text/plain": [
       "5000"
      ]
     },
     "execution_count": 16,
     "metadata": {},
     "output_type": "execute_result"
    }
   ],
   "source": [
    "len(train_X[100])"
   ]
  },
  {
   "cell_type": "markdown",
   "metadata": {},
   "source": [
    "## Step 3: Upload data to S3\n",
    "\n",
    "Now that we have created the feature representation of our training (and testing) data, it is time to start setting up and using the XGBoost classifier provided by SageMaker.\n",
    "\n",
    "### Writing the datasets\n",
    "\n",
    "The XGBoost classifier that we will be using requires the dataset to be written to a file and stored using Amazon S3. To do this, we will start by splitting the training dataset into two parts, the data we will train the model with and a validation set. Then, we will write those datasets to a file locally and then upload the files to S3. In addition, we will write the test set to a file and upload that file to S3. This is so that we can use SageMakers Batch Transform functionality to test our model once we've fit it."
   ]
  },
  {
   "cell_type": "code",
   "execution_count": 17,
   "metadata": {},
   "outputs": [],
   "source": [
    "import pandas as pd\n",
    "\n",
    "# Earlier we shuffled the training dataset so to make things simple we can just assign\n",
    "# the first 10 000 reviews to the validation set and use the remaining reviews for training.\n",
    "val_X = pd.DataFrame(train_X[:10000])\n",
    "train_X = pd.DataFrame(train_X[10000:])\n",
    "\n",
    "val_y = pd.DataFrame(train_y[:10000])\n",
    "train_y = pd.DataFrame(train_y[10000:])"
   ]
  },
  {
   "cell_type": "markdown",
   "metadata": {},
   "source": [
    "The documentation for the XGBoost algorithm in SageMaker requires that the training and validation datasets should contain no headers or index and that the label should occur first for each sample.\n",
    "\n",
    "For more information about this and other algorithms, the SageMaker developer documentation can be found on __[Amazon's website.](https://docs.aws.amazon.com/sagemaker/latest/dg/)__"
   ]
  },
  {
   "cell_type": "code",
   "execution_count": 18,
   "metadata": {},
   "outputs": [],
   "source": [
    "# First we make sure that the local directory in which we'd like to store the training and validation csv files exists.\n",
    "data_dir = '../data/sentiment_web_app'\n",
    "if not os.path.exists(data_dir):\n",
    "    os.makedirs(data_dir)"
   ]
  },
  {
   "cell_type": "code",
   "execution_count": 19,
   "metadata": {},
   "outputs": [],
   "source": [
    "pd.DataFrame(test_X).to_csv(os.path.join(data_dir, 'test.csv'), header=False, index=False)\n",
    "\n",
    "pd.concat([val_y, val_X], axis=1).to_csv(os.path.join(data_dir, 'validation.csv'), header=False, index=False)\n",
    "pd.concat([train_y, train_X], axis=1).to_csv(os.path.join(data_dir, 'train.csv'), header=False, index=False)"
   ]
  },
  {
   "cell_type": "code",
   "execution_count": 20,
   "metadata": {},
   "outputs": [],
   "source": [
    "# To save a bit of memory we can set text_X, train_X, val_X, train_y and val_y to None.\n",
    "\n",
    "test_X = train_X = val_X = train_y = val_y = None"
   ]
  },
  {
   "cell_type": "markdown",
   "metadata": {},
   "source": [
    "### Uploading Training / Validation files to S3\n",
    "\n",
    "Amazon's S3 service allows us to store files that can be accessed by both the built-in training models such as the XGBoost model we will be using as well as custom models such as the one we will see a little later.\n",
    "\n",
    "For this and most other tasks we will be doing using SageMaker, there are two methods we could use. The first is to use the low level functionality of SageMaker which requires knowing each of the objects involved in the SageMaker environment. The second is to use the high level functionality in which certain choices have been made on the user's behalf. The low level approach benefits from allowing the user a great deal of flexibility while the high level approach makes development much quicker. For our purposes we will opt to use the high level approach although using the low-level approach is certainly an option.\n",
    "\n",
    "Recall the method `upload_data()` which is a member of the object representing our current SageMaker session. What this method does is upload the data to the default bucket (which is created if it does not exist) into the path described by the key_prefix variable. To see this for yourself, once you have uploaded the data files, go to the S3 console and look to see where the files have been uploaded.\n",
    "\n",
    "For additional resources, see the __[SageMaker API documentation](http://sagemaker.readthedocs.io/en/latest/)__ and in addition the __[SageMaker Developer Guide.](https://docs.aws.amazon.com/sagemaker/latest/dg/)__"
   ]
  },
  {
   "cell_type": "code",
   "execution_count": 21,
   "metadata": {},
   "outputs": [],
   "source": [
    "import sagemaker\n",
    "\n",
    "session = sagemaker.Session() # Store the current SageMaker session\n",
    "\n",
    "# S3 prefix (which folder will we use)\n",
    "prefix = 'sentiment-web-app'\n",
    "\n",
    "test_location = session.upload_data(os.path.join(data_dir, 'test.csv'), key_prefix=prefix)\n",
    "val_location = session.upload_data(os.path.join(data_dir, 'validation.csv'), key_prefix=prefix)\n",
    "train_location = session.upload_data(os.path.join(data_dir, 'train.csv'), key_prefix=prefix)"
   ]
  },
  {
   "cell_type": "markdown",
   "metadata": {},
   "source": [
    "## Step 4: Creating the XGBoost model\n",
    "\n",
    "Now that the data has been uploaded it is time to create the XGBoost model. To begin with, we need to do some setup. At this point it is worth discussing what a model is in SageMaker. It is easiest to think of a model of comprising three different objects in the SageMaker ecosystem, which interact with one another.\n",
    "\n",
    "- Model Artifacts\n",
    "- Training Code (Container)\n",
    "- Inference Code (Container)\n",
    "\n",
    "The Model Artifacts are what you might think of as the actual model itself. For example, if you were building a neural network, the model artifacts would be the weights of the various layers. In our case, for an XGBoost model, the artifacts are the actual trees that are created during training.\n",
    "\n",
    "The other two objects, the training code and the inference code are then used to manipulate the training artifacts. More precisely, the training code uses the training data that is provided and creates the model artifacts, while the inference code uses the model artifacts to make predictions on new data.\n",
    "\n",
    "The way that SageMaker runs the training and inference code is by making use of Docker containers. For now, think of a container as being a way of packaging code up so that dependencies aren't an issue."
   ]
  },
  {
   "cell_type": "code",
   "execution_count": 22,
   "metadata": {},
   "outputs": [],
   "source": [
    "from sagemaker import get_execution_role\n",
    "\n",
    "# Our current execution role is required when creating the model as the training\n",
    "# and inference code will need to access the model artifacts.\n",
    "role = get_execution_role()"
   ]
  },
  {
   "cell_type": "code",
   "execution_count": 23,
   "metadata": {},
   "outputs": [],
   "source": [
    "# We need to retrieve the location of the container which is provided by Amazon for using XGBoost.\n",
    "# As a matter of convenience, the training and inference code both use the same container.\n",
    "from sagemaker.amazon.amazon_estimator import get_image_uri\n",
    "\n",
    "container = get_image_uri(session.boto_region_name, 'xgboost')"
   ]
  },
  {
   "cell_type": "code",
   "execution_count": 24,
   "metadata": {},
   "outputs": [],
   "source": [
    "# First we create a SageMaker estimator object for our model.\n",
    "xgb = sagemaker.estimator.Estimator(container, # The location of the container we wish to use\n",
    "                                    role,                                    # What is our current IAM Role\n",
    "                                    train_instance_count=1,                  # How many compute instances\n",
    "                                    train_instance_type='ml.m4.xlarge',      # What kind of compute instances\n",
    "                                    output_path='s3://{}/{}/output'.format(session.default_bucket(), prefix),\n",
    "                                    sagemaker_session=session)\n",
    "\n",
    "# And then set the algorithm specific parameters.\n",
    "xgb.set_hyperparameters(max_depth=5,\n",
    "                        eta=0.2,\n",
    "                        gamma=4,\n",
    "                        min_child_weight=6,\n",
    "                        subsample=0.8,\n",
    "                        silent=0,\n",
    "                        objective='binary:logistic',\n",
    "                        early_stopping_rounds=10,\n",
    "                        num_round=500)"
   ]
  },
  {
   "cell_type": "markdown",
   "metadata": {},
   "source": [
    "### Fit the XGBoost model\n",
    "\n",
    "Now that our model has been set up we simply need to attach the training and validation datasets and then ask SageMaker to set up the computation."
   ]
  },
  {
   "cell_type": "code",
   "execution_count": 25,
   "metadata": {},
   "outputs": [],
   "source": [
    "s3_input_train = sagemaker.s3_input(s3_data=train_location, content_type='csv')\n",
    "s3_input_validation = sagemaker.s3_input(s3_data=val_location, content_type='csv')"
   ]
  },
  {
   "cell_type": "code",
   "execution_count": 26,
   "metadata": {},
   "outputs": [
    {
     "name": "stdout",
     "output_type": "stream",
     "text": [
      "2019-05-12 07:25:43 Starting - Starting the training job...\n",
      "2019-05-12 07:25:45 Starting - Launching requested ML instances......\n",
      "2019-05-12 07:26:54 Starting - Preparing the instances for training......\n",
      "2019-05-12 07:28:11 Downloading - Downloading input data\n",
      "2019-05-12 07:28:11 Training - Downloading the training image..\n",
      "\u001b[31mArguments: train\u001b[0m\n",
      "\u001b[31m[2019-05-12:07:28:23:INFO] Running standalone xgboost training.\u001b[0m\n",
      "\u001b[31m[2019-05-12:07:28:23:INFO] File size need to be processed in the node: 238.5mb. Available memory size in the node: 8410.53mb\u001b[0m\n",
      "\u001b[31m[2019-05-12:07:28:23:INFO] Determined delimiter of CSV input is ','\u001b[0m\n",
      "\u001b[31m[07:28:23] S3DistributionType set as FullyReplicated\u001b[0m\n",
      "\u001b[31m[07:28:25] 15000x5000 matrix with 75000000 entries loaded from /opt/ml/input/data/train?format=csv&label_column=0&delimiter=,\u001b[0m\n",
      "\u001b[31m[2019-05-12:07:28:25:INFO] Determined delimiter of CSV input is ','\u001b[0m\n",
      "\u001b[31m[07:28:25] S3DistributionType set as FullyReplicated\u001b[0m\n",
      "\u001b[31m[07:28:26] 10000x5000 matrix with 50000000 entries loaded from /opt/ml/input/data/validation?format=csv&label_column=0&delimiter=,\u001b[0m\n",
      "\u001b[31m[07:28:29] src/tree/updater_prune.cc:74: tree pruning end, 1 roots, 40 extra nodes, 6 pruned nodes, max_depth=5\u001b[0m\n",
      "\u001b[31m[0]#011train-error:0.301#011validation-error:0.3196\u001b[0m\n",
      "\u001b[31mMultiple eval metrics have been passed: 'validation-error' will be used for early stopping.\n",
      "\u001b[0m\n",
      "\u001b[31mWill train until validation-error hasn't improved in 10 rounds.\u001b[0m\n",
      "\u001b[31m[07:28:31] src/tree/updater_prune.cc:74: tree pruning end, 1 roots, 42 extra nodes, 2 pruned nodes, max_depth=5\u001b[0m\n",
      "\u001b[31m[1]#011train-error:0.2966#011validation-error:0.3151\u001b[0m\n",
      "\u001b[31m[07:28:32] src/tree/updater_prune.cc:74: tree pruning end, 1 roots, 38 extra nodes, 2 pruned nodes, max_depth=5\u001b[0m\n",
      "\u001b[31m[2]#011train-error:0.282267#011validation-error:0.3008\u001b[0m\n",
      "\u001b[31m[07:28:33] src/tree/updater_prune.cc:74: tree pruning end, 1 roots, 44 extra nodes, 10 pruned nodes, max_depth=5\u001b[0m\n",
      "\u001b[31m[3]#011train-error:0.273#011validation-error:0.2915\u001b[0m\n",
      "\u001b[31m[07:28:35] src/tree/updater_prune.cc:74: tree pruning end, 1 roots, 28 extra nodes, 14 pruned nodes, max_depth=5\u001b[0m\n",
      "\u001b[31m[4]#011train-error:0.268667#011validation-error:0.2885\u001b[0m\n",
      "\u001b[31m[07:28:36] src/tree/updater_prune.cc:74: tree pruning end, 1 roots, 32 extra nodes, 8 pruned nodes, max_depth=5\u001b[0m\n",
      "\u001b[31m[5]#011train-error:0.2574#011validation-error:0.2743\u001b[0m\n",
      "\u001b[31m[07:28:37] src/tree/updater_prune.cc:74: tree pruning end, 1 roots, 34 extra nodes, 8 pruned nodes, max_depth=5\u001b[0m\n",
      "\u001b[31m[6]#011train-error:0.250733#011validation-error:0.2676\u001b[0m\n",
      "\u001b[31m[07:28:39] src/tree/updater_prune.cc:74: tree pruning end, 1 roots, 30 extra nodes, 6 pruned nodes, max_depth=5\u001b[0m\n",
      "\u001b[31m[7]#011train-error:0.246333#011validation-error:0.2622\u001b[0m\n",
      "\u001b[31m[07:28:40] src/tree/updater_prune.cc:74: tree pruning end, 1 roots, 26 extra nodes, 8 pruned nodes, max_depth=5\u001b[0m\n",
      "\u001b[31m[8]#011train-error:0.238667#011validation-error:0.2552\u001b[0m\n",
      "\u001b[31m[07:28:41] src/tree/updater_prune.cc:74: tree pruning end, 1 roots, 36 extra nodes, 8 pruned nodes, max_depth=5\u001b[0m\n",
      "\u001b[31m[9]#011train-error:0.231933#011validation-error:0.2485\u001b[0m\n",
      "\u001b[31m[07:28:42] src/tree/updater_prune.cc:74: tree pruning end, 1 roots, 36 extra nodes, 12 pruned nodes, max_depth=5\u001b[0m\n",
      "\u001b[31m[10]#011train-error:0.222467#011validation-error:0.2415\u001b[0m\n",
      "\u001b[31m[07:28:44] src/tree/updater_prune.cc:74: tree pruning end, 1 roots, 36 extra nodes, 2 pruned nodes, max_depth=5\u001b[0m\n",
      "\u001b[31m[11]#011train-error:0.2172#011validation-error:0.2403\u001b[0m\n",
      "\u001b[31m[07:28:45] src/tree/updater_prune.cc:74: tree pruning end, 1 roots, 28 extra nodes, 6 pruned nodes, max_depth=5\u001b[0m\n",
      "\u001b[31m[12]#011train-error:0.2126#011validation-error:0.2347\u001b[0m\n",
      "\u001b[31m[07:28:46] src/tree/updater_prune.cc:74: tree pruning end, 1 roots, 38 extra nodes, 2 pruned nodes, max_depth=5\u001b[0m\n",
      "\u001b[31m[13]#011train-error:0.208#011validation-error:0.2311\u001b[0m\n",
      "\u001b[31m[07:28:48] src/tree/updater_prune.cc:74: tree pruning end, 1 roots, 26 extra nodes, 10 pruned nodes, max_depth=5\u001b[0m\n",
      "\u001b[31m[14]#011train-error:0.202667#011validation-error:0.2271\u001b[0m\n",
      "\u001b[31m[07:28:49] src/tree/updater_prune.cc:74: tree pruning end, 1 roots, 22 extra nodes, 12 pruned nodes, max_depth=5\u001b[0m\n",
      "\u001b[31m[15]#011train-error:0.200467#011validation-error:0.2248\u001b[0m\n",
      "\u001b[31m[07:28:50] src/tree/updater_prune.cc:74: tree pruning end, 1 roots, 26 extra nodes, 6 pruned nodes, max_depth=5\u001b[0m\n",
      "\u001b[31m[16]#011train-error:0.1978#011validation-error:0.2242\u001b[0m\n",
      "\u001b[31m[07:28:51] src/tree/updater_prune.cc:74: tree pruning end, 1 roots, 30 extra nodes, 12 pruned nodes, max_depth=5\u001b[0m\n",
      "\u001b[31m[17]#011train-error:0.1942#011validation-error:0.2209\u001b[0m\n",
      "\u001b[31m[07:28:53] src/tree/updater_prune.cc:74: tree pruning end, 1 roots, 32 extra nodes, 10 pruned nodes, max_depth=5\u001b[0m\n",
      "\u001b[31m[18]#011train-error:0.1944#011validation-error:0.2163\u001b[0m\n",
      "\u001b[31m[07:28:54] src/tree/updater_prune.cc:74: tree pruning end, 1 roots, 38 extra nodes, 8 pruned nodes, max_depth=5\u001b[0m\n",
      "\u001b[31m[19]#011train-error:0.1906#011validation-error:0.2135\u001b[0m\n",
      "\u001b[31m[07:28:55] src/tree/updater_prune.cc:74: tree pruning end, 1 roots, 34 extra nodes, 10 pruned nodes, max_depth=5\u001b[0m\n",
      "\u001b[31m[20]#011train-error:0.188#011validation-error:0.2106\u001b[0m\n",
      "\u001b[31m[07:28:56] src/tree/updater_prune.cc:74: tree pruning end, 1 roots, 28 extra nodes, 0 pruned nodes, max_depth=5\u001b[0m\n",
      "\u001b[31m[21]#011train-error:0.185733#011validation-error:0.2081\u001b[0m\n",
      "\u001b[31m[07:28:58] src/tree/updater_prune.cc:74: tree pruning end, 1 roots, 32 extra nodes, 10 pruned nodes, max_depth=5\u001b[0m\n",
      "\u001b[31m[22]#011train-error:0.1826#011validation-error:0.2072\u001b[0m\n",
      "\n",
      "2019-05-12 07:28:47 Training - Training image download completed. Training in progress.\u001b[31m[07:28:59] src/tree/updater_prune.cc:74: tree pruning end, 1 roots, 26 extra nodes, 8 pruned nodes, max_depth=5\u001b[0m\n",
      "\u001b[31m[23]#011train-error:0.179933#011validation-error:0.2058\u001b[0m\n",
      "\u001b[31m[07:29:00] src/tree/updater_prune.cc:74: tree pruning end, 1 roots, 16 extra nodes, 10 pruned nodes, max_depth=5\u001b[0m\n",
      "\u001b[31m[24]#011train-error:0.178133#011validation-error:0.2045\u001b[0m\n",
      "\u001b[31m[07:29:02] src/tree/updater_prune.cc:74: tree pruning end, 1 roots, 26 extra nodes, 6 pruned nodes, max_depth=5\u001b[0m\n",
      "\u001b[31m[25]#011train-error:0.175867#011validation-error:0.2035\u001b[0m\n",
      "\u001b[31m[07:29:03] src/tree/updater_prune.cc:74: tree pruning end, 1 roots, 26 extra nodes, 8 pruned nodes, max_depth=5\u001b[0m\n",
      "\u001b[31m[26]#011train-error:0.174067#011validation-error:0.2002\u001b[0m\n",
      "\u001b[31m[07:29:04] src/tree/updater_prune.cc:74: tree pruning end, 1 roots, 34 extra nodes, 2 pruned nodes, max_depth=5\u001b[0m\n",
      "\u001b[31m[27]#011train-error:0.169133#011validation-error:0.1985\u001b[0m\n",
      "\u001b[31m[07:29:05] src/tree/updater_prune.cc:74: tree pruning end, 1 roots, 24 extra nodes, 6 pruned nodes, max_depth=5\u001b[0m\n",
      "\u001b[31m[28]#011train-error:0.167467#011validation-error:0.1977\u001b[0m\n",
      "\u001b[31m[07:29:07] src/tree/updater_prune.cc:74: tree pruning end, 1 roots, 30 extra nodes, 10 pruned nodes, max_depth=5\u001b[0m\n",
      "\u001b[31m[29]#011train-error:0.166467#011validation-error:0.1977\u001b[0m\n",
      "\u001b[31m[07:29:08] src/tree/updater_prune.cc:74: tree pruning end, 1 roots, 22 extra nodes, 10 pruned nodes, max_depth=5\u001b[0m\n",
      "\u001b[31m[30]#011train-error:0.1642#011validation-error:0.1958\u001b[0m\n",
      "\u001b[31m[07:29:09] src/tree/updater_prune.cc:74: tree pruning end, 1 roots, 24 extra nodes, 8 pruned nodes, max_depth=5\u001b[0m\n",
      "\u001b[31m[31]#011train-error:0.1626#011validation-error:0.196\u001b[0m\n",
      "\u001b[31m[07:29:10] src/tree/updater_prune.cc:74: tree pruning end, 1 roots, 26 extra nodes, 8 pruned nodes, max_depth=5\u001b[0m\n",
      "\u001b[31m[32]#011train-error:0.160333#011validation-error:0.1941\u001b[0m\n",
      "\u001b[31m[07:29:12] src/tree/updater_prune.cc:74: tree pruning end, 1 roots, 28 extra nodes, 4 pruned nodes, max_depth=5\u001b[0m\n",
      "\u001b[31m[33]#011train-error:0.1584#011validation-error:0.1925\u001b[0m\n",
      "\u001b[31m[07:29:13] src/tree/updater_prune.cc:74: tree pruning end, 1 roots, 30 extra nodes, 8 pruned nodes, max_depth=5\u001b[0m\n",
      "\u001b[31m[34]#011train-error:0.157333#011validation-error:0.1898\u001b[0m\n",
      "\u001b[31m[07:29:14] src/tree/updater_prune.cc:74: tree pruning end, 1 roots, 30 extra nodes, 6 pruned nodes, max_depth=5\u001b[0m\n",
      "\u001b[31m[35]#011train-error:0.1576#011validation-error:0.1892\u001b[0m\n",
      "\u001b[31m[07:29:16] src/tree/updater_prune.cc:74: tree pruning end, 1 roots, 20 extra nodes, 14 pruned nodes, max_depth=5\u001b[0m\n",
      "\u001b[31m[36]#011train-error:0.155733#011validation-error:0.1873\u001b[0m\n",
      "\u001b[31m[07:29:17] src/tree/updater_prune.cc:74: tree pruning end, 1 roots, 32 extra nodes, 18 pruned nodes, max_depth=5\u001b[0m\n",
      "\u001b[31m[37]#011train-error:0.1536#011validation-error:0.1866\u001b[0m\n",
      "\u001b[31m[07:29:18] src/tree/updater_prune.cc:74: tree pruning end, 1 roots, 20 extra nodes, 6 pruned nodes, max_depth=5\u001b[0m\n",
      "\u001b[31m[38]#011train-error:0.151667#011validation-error:0.1859\u001b[0m\n"
     ]
    },
    {
     "name": "stdout",
     "output_type": "stream",
     "text": [
      "\u001b[31m[07:29:19] src/tree/updater_prune.cc:74: tree pruning end, 1 roots, 32 extra nodes, 2 pruned nodes, max_depth=5\u001b[0m\n",
      "\u001b[31m[39]#011train-error:0.151267#011validation-error:0.1843\u001b[0m\n",
      "\u001b[31m[07:29:21] src/tree/updater_prune.cc:74: tree pruning end, 1 roots, 20 extra nodes, 8 pruned nodes, max_depth=5\u001b[0m\n",
      "\u001b[31m[40]#011train-error:0.149267#011validation-error:0.184\u001b[0m\n",
      "\u001b[31m[07:29:22] src/tree/updater_prune.cc:74: tree pruning end, 1 roots, 28 extra nodes, 10 pruned nodes, max_depth=5\u001b[0m\n",
      "\u001b[31m[41]#011train-error:0.148#011validation-error:0.183\u001b[0m\n",
      "\u001b[31m[07:29:23] src/tree/updater_prune.cc:74: tree pruning end, 1 roots, 28 extra nodes, 12 pruned nodes, max_depth=5\u001b[0m\n",
      "\u001b[31m[42]#011train-error:0.1462#011validation-error:0.1817\u001b[0m\n",
      "\u001b[31m[07:29:24] src/tree/updater_prune.cc:74: tree pruning end, 1 roots, 28 extra nodes, 8 pruned nodes, max_depth=5\u001b[0m\n",
      "\u001b[31m[43]#011train-error:0.145733#011validation-error:0.1806\u001b[0m\n",
      "\u001b[31m[07:29:26] src/tree/updater_prune.cc:74: tree pruning end, 1 roots, 30 extra nodes, 6 pruned nodes, max_depth=5\u001b[0m\n",
      "\u001b[31m[44]#011train-error:0.144867#011validation-error:0.1798\u001b[0m\n",
      "\u001b[31m[07:29:27] src/tree/updater_prune.cc:74: tree pruning end, 1 roots, 16 extra nodes, 6 pruned nodes, max_depth=5\u001b[0m\n",
      "\u001b[31m[45]#011train-error:0.145#011validation-error:0.1799\u001b[0m\n",
      "\u001b[31m[07:29:28] src/tree/updater_prune.cc:74: tree pruning end, 1 roots, 24 extra nodes, 10 pruned nodes, max_depth=5\u001b[0m\n",
      "\u001b[31m[46]#011train-error:0.143533#011validation-error:0.1803\u001b[0m\n",
      "\u001b[31m[07:29:30] src/tree/updater_prune.cc:74: tree pruning end, 1 roots, 14 extra nodes, 8 pruned nodes, max_depth=5\u001b[0m\n",
      "\u001b[31m[47]#011train-error:0.141733#011validation-error:0.1784\u001b[0m\n",
      "\u001b[31m[07:29:31] src/tree/updater_prune.cc:74: tree pruning end, 1 roots, 16 extra nodes, 8 pruned nodes, max_depth=5\u001b[0m\n",
      "\u001b[31m[48]#011train-error:0.140467#011validation-error:0.1773\u001b[0m\n",
      "\u001b[31m[07:29:32] src/tree/updater_prune.cc:74: tree pruning end, 1 roots, 12 extra nodes, 10 pruned nodes, max_depth=5\u001b[0m\n",
      "\u001b[31m[49]#011train-error:0.139333#011validation-error:0.1778\u001b[0m\n",
      "\u001b[31m[07:29:33] src/tree/updater_prune.cc:74: tree pruning end, 1 roots, 14 extra nodes, 12 pruned nodes, max_depth=5\u001b[0m\n",
      "\u001b[31m[50]#011train-error:0.138467#011validation-error:0.1756\u001b[0m\n",
      "\u001b[31m[07:29:35] src/tree/updater_prune.cc:74: tree pruning end, 1 roots, 30 extra nodes, 4 pruned nodes, max_depth=5\u001b[0m\n",
      "\u001b[31m[51]#011train-error:0.137267#011validation-error:0.1758\u001b[0m\n",
      "\u001b[31m[07:29:36] src/tree/updater_prune.cc:74: tree pruning end, 1 roots, 16 extra nodes, 10 pruned nodes, max_depth=5\u001b[0m\n",
      "\u001b[31m[52]#011train-error:0.136267#011validation-error:0.1746\u001b[0m\n",
      "\u001b[31m[07:29:37] src/tree/updater_prune.cc:74: tree pruning end, 1 roots, 30 extra nodes, 6 pruned nodes, max_depth=5\u001b[0m\n",
      "\u001b[31m[53]#011train-error:0.136067#011validation-error:0.1733\u001b[0m\n",
      "\u001b[31m[07:29:38] src/tree/updater_prune.cc:74: tree pruning end, 1 roots, 20 extra nodes, 12 pruned nodes, max_depth=5\u001b[0m\n",
      "\u001b[31m[54]#011train-error:0.134267#011validation-error:0.1731\u001b[0m\n",
      "\u001b[31m[07:29:40] src/tree/updater_prune.cc:74: tree pruning end, 1 roots, 16 extra nodes, 10 pruned nodes, max_depth=5\u001b[0m\n",
      "\u001b[31m[55]#011train-error:0.133#011validation-error:0.173\u001b[0m\n",
      "\u001b[31m[07:29:41] src/tree/updater_prune.cc:74: tree pruning end, 1 roots, 32 extra nodes, 10 pruned nodes, max_depth=5\u001b[0m\n",
      "\u001b[31m[56]#011train-error:0.1322#011validation-error:0.1718\u001b[0m\n",
      "\u001b[31m[07:29:42] src/tree/updater_prune.cc:74: tree pruning end, 1 roots, 26 extra nodes, 4 pruned nodes, max_depth=5\u001b[0m\n",
      "\u001b[31m[57]#011train-error:0.1308#011validation-error:0.1723\u001b[0m\n",
      "\u001b[31m[07:29:43] src/tree/updater_prune.cc:74: tree pruning end, 1 roots, 16 extra nodes, 4 pruned nodes, max_depth=5\u001b[0m\n",
      "\u001b[31m[58]#011train-error:0.130133#011validation-error:0.1718\u001b[0m\n",
      "\u001b[31m[07:29:45] src/tree/updater_prune.cc:74: tree pruning end, 1 roots, 22 extra nodes, 10 pruned nodes, max_depth=5\u001b[0m\n",
      "\u001b[31m[59]#011train-error:0.1296#011validation-error:0.1723\u001b[0m\n",
      "\u001b[31m[07:29:46] src/tree/updater_prune.cc:74: tree pruning end, 1 roots, 14 extra nodes, 2 pruned nodes, max_depth=5\u001b[0m\n",
      "\u001b[31m[60]#011train-error:0.128867#011validation-error:0.1711\u001b[0m\n",
      "\u001b[31m[07:29:47] src/tree/updater_prune.cc:74: tree pruning end, 1 roots, 20 extra nodes, 8 pruned nodes, max_depth=5\u001b[0m\n",
      "\u001b[31m[61]#011train-error:0.128267#011validation-error:0.1708\u001b[0m\n",
      "\u001b[31m[07:29:49] src/tree/updater_prune.cc:74: tree pruning end, 1 roots, 28 extra nodes, 8 pruned nodes, max_depth=5\u001b[0m\n",
      "\u001b[31m[62]#011train-error:0.126533#011validation-error:0.1708\u001b[0m\n",
      "\u001b[31m[07:29:50] src/tree/updater_prune.cc:74: tree pruning end, 1 roots, 22 extra nodes, 10 pruned nodes, max_depth=5\u001b[0m\n",
      "\u001b[31m[63]#011train-error:0.124133#011validation-error:0.17\u001b[0m\n",
      "\u001b[31m[07:29:51] src/tree/updater_prune.cc:74: tree pruning end, 1 roots, 38 extra nodes, 8 pruned nodes, max_depth=5\u001b[0m\n",
      "\u001b[31m[64]#011train-error:0.123333#011validation-error:0.1696\u001b[0m\n",
      "\u001b[31m[07:29:52] src/tree/updater_prune.cc:74: tree pruning end, 1 roots, 30 extra nodes, 14 pruned nodes, max_depth=5\u001b[0m\n",
      "\u001b[31m[65]#011train-error:0.122#011validation-error:0.1689\u001b[0m\n",
      "\u001b[31m[07:29:54] src/tree/updater_prune.cc:74: tree pruning end, 1 roots, 16 extra nodes, 12 pruned nodes, max_depth=5\u001b[0m\n",
      "\u001b[31m[66]#011train-error:0.1222#011validation-error:0.1699\u001b[0m\n",
      "\u001b[31m[07:29:55] src/tree/updater_prune.cc:74: tree pruning end, 1 roots, 14 extra nodes, 16 pruned nodes, max_depth=5\u001b[0m\n",
      "\u001b[31m[67]#011train-error:0.122067#011validation-error:0.1693\u001b[0m\n",
      "\u001b[31m[07:29:56] src/tree/updater_prune.cc:74: tree pruning end, 1 roots, 10 extra nodes, 16 pruned nodes, max_depth=5\u001b[0m\n",
      "\u001b[31m[68]#011train-error:0.121333#011validation-error:0.1685\u001b[0m\n",
      "\u001b[31m[07:29:57] src/tree/updater_prune.cc:74: tree pruning end, 1 roots, 20 extra nodes, 10 pruned nodes, max_depth=5\u001b[0m\n",
      "\u001b[31m[69]#011train-error:0.120667#011validation-error:0.1662\u001b[0m\n",
      "\u001b[31m[07:29:59] src/tree/updater_prune.cc:74: tree pruning end, 1 roots, 18 extra nodes, 8 pruned nodes, max_depth=5\u001b[0m\n",
      "\u001b[31m[70]#011train-error:0.120733#011validation-error:0.1656\u001b[0m\n",
      "\u001b[31m[07:30:00] src/tree/updater_prune.cc:74: tree pruning end, 1 roots, 22 extra nodes, 4 pruned nodes, max_depth=5\u001b[0m\n",
      "\u001b[31m[71]#011train-error:0.120267#011validation-error:0.1648\u001b[0m\n",
      "\u001b[31m[07:30:01] src/tree/updater_prune.cc:74: tree pruning end, 1 roots, 16 extra nodes, 10 pruned nodes, max_depth=5\u001b[0m\n",
      "\u001b[31m[72]#011train-error:0.120067#011validation-error:0.164\u001b[0m\n",
      "\u001b[31m[07:30:02] src/tree/updater_prune.cc:74: tree pruning end, 1 roots, 14 extra nodes, 4 pruned nodes, max_depth=5\u001b[0m\n",
      "\u001b[31m[73]#011train-error:0.118933#011validation-error:0.1634\u001b[0m\n",
      "\u001b[31m[07:30:04] src/tree/updater_prune.cc:74: tree pruning end, 1 roots, 26 extra nodes, 18 pruned nodes, max_depth=5\u001b[0m\n",
      "\u001b[31m[74]#011train-error:0.118#011validation-error:0.1633\u001b[0m\n",
      "\u001b[31m[07:30:05] src/tree/updater_prune.cc:74: tree pruning end, 1 roots, 16 extra nodes, 8 pruned nodes, max_depth=5\u001b[0m\n",
      "\u001b[31m[75]#011train-error:0.118467#011validation-error:0.162\u001b[0m\n",
      "\u001b[31m[07:30:06] src/tree/updater_prune.cc:74: tree pruning end, 1 roots, 38 extra nodes, 6 pruned nodes, max_depth=5\u001b[0m\n",
      "\u001b[31m[76]#011train-error:0.117333#011validation-error:0.1624\u001b[0m\n",
      "\u001b[31m[07:30:08] src/tree/updater_prune.cc:74: tree pruning end, 1 roots, 14 extra nodes, 8 pruned nodes, max_depth=5\u001b[0m\n",
      "\u001b[31m[77]#011train-error:0.116333#011validation-error:0.162\u001b[0m\n",
      "\u001b[31m[07:30:09] src/tree/updater_prune.cc:74: tree pruning end, 1 roots, 18 extra nodes, 6 pruned nodes, max_depth=5\u001b[0m\n",
      "\u001b[31m[78]#011train-error:0.115933#011validation-error:0.162\u001b[0m\n",
      "\u001b[31m[07:30:10] src/tree/updater_prune.cc:74: tree pruning end, 1 roots, 18 extra nodes, 6 pruned nodes, max_depth=5\u001b[0m\n",
      "\u001b[31m[79]#011train-error:0.114733#011validation-error:0.1616\u001b[0m\n",
      "\u001b[31m[07:30:11] src/tree/updater_prune.cc:74: tree pruning end, 1 roots, 12 extra nodes, 2 pruned nodes, max_depth=5\u001b[0m\n",
      "\u001b[31m[80]#011train-error:0.114867#011validation-error:0.1609\u001b[0m\n",
      "\u001b[31m[07:30:13] src/tree/updater_prune.cc:74: tree pruning end, 1 roots, 22 extra nodes, 6 pruned nodes, max_depth=5\u001b[0m\n",
      "\u001b[31m[81]#011train-error:0.114#011validation-error:0.1609\u001b[0m\n",
      "\u001b[31m[07:30:14] src/tree/updater_prune.cc:74: tree pruning end, 1 roots, 12 extra nodes, 10 pruned nodes, max_depth=5\u001b[0m\n",
      "\u001b[31m[82]#011train-error:0.113533#011validation-error:0.1598\u001b[0m\n",
      "\u001b[31m[07:30:15] src/tree/updater_prune.cc:74: tree pruning end, 1 roots, 18 extra nodes, 4 pruned nodes, max_depth=5\u001b[0m\n",
      "\u001b[31m[83]#011train-error:0.112733#011validation-error:0.1592\u001b[0m\n",
      "\u001b[31m[07:30:16] src/tree/updater_prune.cc:74: tree pruning end, 1 roots, 12 extra nodes, 16 pruned nodes, max_depth=5\u001b[0m\n",
      "\u001b[31m[84]#011train-error:0.112133#011validation-error:0.1596\u001b[0m\n",
      "\u001b[31m[07:30:18] src/tree/updater_prune.cc:74: tree pruning end, 1 roots, 26 extra nodes, 16 pruned nodes, max_depth=5\u001b[0m\n",
      "\u001b[31m[85]#011train-error:0.1114#011validation-error:0.16\u001b[0m\n",
      "\u001b[31m[07:30:19] src/tree/updater_prune.cc:74: tree pruning end, 1 roots, 28 extra nodes, 10 pruned nodes, max_depth=5\u001b[0m\n",
      "\u001b[31m[86]#011train-error:0.110733#011validation-error:0.1579\u001b[0m\n"
     ]
    },
    {
     "name": "stdout",
     "output_type": "stream",
     "text": [
      "\u001b[31m[07:30:20] src/tree/updater_prune.cc:74: tree pruning end, 1 roots, 24 extra nodes, 12 pruned nodes, max_depth=5\u001b[0m\n",
      "\u001b[31m[87]#011train-error:0.109867#011validation-error:0.1567\u001b[0m\n",
      "\u001b[31m[07:30:22] src/tree/updater_prune.cc:74: tree pruning end, 1 roots, 20 extra nodes, 12 pruned nodes, max_depth=5\u001b[0m\n",
      "\u001b[31m[88]#011train-error:0.109333#011validation-error:0.1558\u001b[0m\n",
      "\u001b[31m[07:30:23] src/tree/updater_prune.cc:74: tree pruning end, 1 roots, 12 extra nodes, 12 pruned nodes, max_depth=5\u001b[0m\n",
      "\u001b[31m[89]#011train-error:0.108867#011validation-error:0.1545\u001b[0m\n",
      "\u001b[31m[07:30:24] src/tree/updater_prune.cc:74: tree pruning end, 1 roots, 38 extra nodes, 10 pruned nodes, max_depth=5\u001b[0m\n",
      "\u001b[31m[90]#011train-error:0.107133#011validation-error:0.1564\u001b[0m\n",
      "\u001b[31m[07:30:25] src/tree/updater_prune.cc:74: tree pruning end, 1 roots, 28 extra nodes, 10 pruned nodes, max_depth=5\u001b[0m\n",
      "\u001b[31m[91]#011train-error:0.106533#011validation-error:0.1545\u001b[0m\n",
      "\u001b[31m[07:30:27] src/tree/updater_prune.cc:74: tree pruning end, 1 roots, 14 extra nodes, 10 pruned nodes, max_depth=5\u001b[0m\n",
      "\u001b[31m[92]#011train-error:0.1056#011validation-error:0.1548\u001b[0m\n",
      "\u001b[31m[07:30:28] src/tree/updater_prune.cc:74: tree pruning end, 1 roots, 16 extra nodes, 6 pruned nodes, max_depth=5\u001b[0m\n",
      "\u001b[31m[93]#011train-error:0.106267#011validation-error:0.1537\u001b[0m\n",
      "\u001b[31m[07:30:29] src/tree/updater_prune.cc:74: tree pruning end, 1 roots, 12 extra nodes, 8 pruned nodes, max_depth=5\u001b[0m\n",
      "\u001b[31m[94]#011train-error:0.106133#011validation-error:0.154\u001b[0m\n",
      "\u001b[31m[07:30:30] src/tree/updater_prune.cc:74: tree pruning end, 1 roots, 16 extra nodes, 4 pruned nodes, max_depth=5\u001b[0m\n",
      "\u001b[31m[95]#011train-error:0.105333#011validation-error:0.1534\u001b[0m\n",
      "\u001b[31m[07:30:32] src/tree/updater_prune.cc:74: tree pruning end, 1 roots, 22 extra nodes, 4 pruned nodes, max_depth=5\u001b[0m\n",
      "\u001b[31m[96]#011train-error:0.104733#011validation-error:0.1538\u001b[0m\n",
      "\u001b[31m[07:30:33] src/tree/updater_prune.cc:74: tree pruning end, 1 roots, 12 extra nodes, 6 pruned nodes, max_depth=5\u001b[0m\n",
      "\u001b[31m[97]#011train-error:0.104533#011validation-error:0.1529\u001b[0m\n",
      "\u001b[31m[07:30:34] src/tree/updater_prune.cc:74: tree pruning end, 1 roots, 28 extra nodes, 12 pruned nodes, max_depth=5\u001b[0m\n",
      "\u001b[31m[98]#011train-error:0.104333#011validation-error:0.1525\u001b[0m\n",
      "\u001b[31m[07:30:36] src/tree/updater_prune.cc:74: tree pruning end, 1 roots, 26 extra nodes, 12 pruned nodes, max_depth=5\u001b[0m\n",
      "\u001b[31m[99]#011train-error:0.103467#011validation-error:0.1535\u001b[0m\n",
      "\u001b[31m[07:30:37] src/tree/updater_prune.cc:74: tree pruning end, 1 roots, 16 extra nodes, 4 pruned nodes, max_depth=5\u001b[0m\n",
      "\u001b[31m[100]#011train-error:0.102733#011validation-error:0.1536\u001b[0m\n",
      "\u001b[31m[07:30:38] src/tree/updater_prune.cc:74: tree pruning end, 1 roots, 16 extra nodes, 4 pruned nodes, max_depth=5\u001b[0m\n",
      "\u001b[31m[101]#011train-error:0.101467#011validation-error:0.1529\u001b[0m\n",
      "\u001b[31m[07:30:39] src/tree/updater_prune.cc:74: tree pruning end, 1 roots, 12 extra nodes, 6 pruned nodes, max_depth=5\u001b[0m\n",
      "\u001b[31m[102]#011train-error:0.1016#011validation-error:0.1534\u001b[0m\n",
      "\u001b[31m[07:30:41] src/tree/updater_prune.cc:74: tree pruning end, 1 roots, 14 extra nodes, 10 pruned nodes, max_depth=5\u001b[0m\n",
      "\u001b[31m[103]#011train-error:0.101333#011validation-error:0.153\u001b[0m\n",
      "\u001b[31m[07:30:42] src/tree/updater_prune.cc:74: tree pruning end, 1 roots, 14 extra nodes, 10 pruned nodes, max_depth=5\u001b[0m\n",
      "\u001b[31m[104]#011train-error:0.101133#011validation-error:0.1527\u001b[0m\n",
      "\u001b[31m[07:30:43] src/tree/updater_prune.cc:74: tree pruning end, 1 roots, 16 extra nodes, 8 pruned nodes, max_depth=5\u001b[0m\n",
      "\u001b[31m[105]#011train-error:0.100533#011validation-error:0.1522\u001b[0m\n",
      "\u001b[31m[07:30:44] src/tree/updater_prune.cc:74: tree pruning end, 1 roots, 16 extra nodes, 6 pruned nodes, max_depth=5\u001b[0m\n",
      "\u001b[31m[106]#011train-error:0.1004#011validation-error:0.1525\u001b[0m\n",
      "\u001b[31m[07:30:46] src/tree/updater_prune.cc:74: tree pruning end, 1 roots, 12 extra nodes, 8 pruned nodes, max_depth=5\u001b[0m\n",
      "\u001b[31m[107]#011train-error:0.100067#011validation-error:0.1517\u001b[0m\n",
      "\u001b[31m[07:30:47] src/tree/updater_prune.cc:74: tree pruning end, 1 roots, 14 extra nodes, 14 pruned nodes, max_depth=5\u001b[0m\n",
      "\u001b[31m[108]#011train-error:0.099133#011validation-error:0.1505\u001b[0m\n",
      "\u001b[31m[07:30:48] src/tree/updater_prune.cc:74: tree pruning end, 1 roots, 14 extra nodes, 6 pruned nodes, max_depth=5\u001b[0m\n",
      "\u001b[31m[109]#011train-error:0.098733#011validation-error:0.15\u001b[0m\n",
      "\u001b[31m[07:30:50] src/tree/updater_prune.cc:74: tree pruning end, 1 roots, 28 extra nodes, 6 pruned nodes, max_depth=5\u001b[0m\n",
      "\u001b[31m[110]#011train-error:0.0982#011validation-error:0.1504\u001b[0m\n",
      "\u001b[31m[07:30:51] src/tree/updater_prune.cc:74: tree pruning end, 1 roots, 26 extra nodes, 6 pruned nodes, max_depth=5\u001b[0m\n",
      "\u001b[31m[111]#011train-error:0.0978#011validation-error:0.1501\u001b[0m\n",
      "\u001b[31m[07:30:52] src/tree/updater_prune.cc:74: tree pruning end, 1 roots, 16 extra nodes, 8 pruned nodes, max_depth=5\u001b[0m\n",
      "\u001b[31m[112]#011train-error:0.0976#011validation-error:0.1503\u001b[0m\n",
      "\u001b[31m[07:30:53] src/tree/updater_prune.cc:74: tree pruning end, 1 roots, 12 extra nodes, 6 pruned nodes, max_depth=5\u001b[0m\n",
      "\u001b[31m[113]#011train-error:0.097733#011validation-error:0.1493\u001b[0m\n",
      "\u001b[31m[07:30:55] src/tree/updater_prune.cc:74: tree pruning end, 1 roots, 18 extra nodes, 8 pruned nodes, max_depth=5\u001b[0m\n",
      "\u001b[31m[114]#011train-error:0.097267#011validation-error:0.1483\u001b[0m\n",
      "\u001b[31m[07:30:56] src/tree/updater_prune.cc:74: tree pruning end, 1 roots, 24 extra nodes, 6 pruned nodes, max_depth=5\u001b[0m\n",
      "\u001b[31m[115]#011train-error:0.096667#011validation-error:0.1488\u001b[0m\n",
      "\u001b[31m[07:30:57] src/tree/updater_prune.cc:74: tree pruning end, 1 roots, 12 extra nodes, 14 pruned nodes, max_depth=5\u001b[0m\n",
      "\u001b[31m[116]#011train-error:0.096067#011validation-error:0.1494\u001b[0m\n",
      "\u001b[31m[07:30:58] src/tree/updater_prune.cc:74: tree pruning end, 1 roots, 26 extra nodes, 12 pruned nodes, max_depth=5\u001b[0m\n",
      "\u001b[31m[117]#011train-error:0.095133#011validation-error:0.1487\u001b[0m\n",
      "\u001b[31m[07:31:00] src/tree/updater_prune.cc:74: tree pruning end, 1 roots, 36 extra nodes, 2 pruned nodes, max_depth=5\u001b[0m\n",
      "\u001b[31m[118]#011train-error:0.094133#011validation-error:0.147\u001b[0m\n",
      "\u001b[31m[07:31:01] src/tree/updater_prune.cc:74: tree pruning end, 1 roots, 18 extra nodes, 10 pruned nodes, max_depth=5\u001b[0m\n",
      "\u001b[31m[119]#011train-error:0.094267#011validation-error:0.1465\u001b[0m\n",
      "\u001b[31m[07:31:02] src/tree/updater_prune.cc:74: tree pruning end, 1 roots, 24 extra nodes, 8 pruned nodes, max_depth=5\u001b[0m\n",
      "\u001b[31m[120]#011train-error:0.0938#011validation-error:0.1474\u001b[0m\n",
      "\u001b[31m[07:31:04] src/tree/updater_prune.cc:74: tree pruning end, 1 roots, 14 extra nodes, 8 pruned nodes, max_depth=5\u001b[0m\n",
      "\u001b[31m[121]#011train-error:0.0932#011validation-error:0.1478\u001b[0m\n",
      "\u001b[31m[07:31:05] src/tree/updater_prune.cc:74: tree pruning end, 1 roots, 20 extra nodes, 18 pruned nodes, max_depth=5\u001b[0m\n",
      "\u001b[31m[122]#011train-error:0.093267#011validation-error:0.1472\u001b[0m\n",
      "\u001b[31m[07:31:06] src/tree/updater_prune.cc:74: tree pruning end, 1 roots, 12 extra nodes, 4 pruned nodes, max_depth=5\u001b[0m\n",
      "\u001b[31m[123]#011train-error:0.092467#011validation-error:0.1474\u001b[0m\n",
      "\u001b[31m[07:31:07] src/tree/updater_prune.cc:74: tree pruning end, 1 roots, 10 extra nodes, 4 pruned nodes, max_depth=5\u001b[0m\n",
      "\u001b[31m[124]#011train-error:0.091667#011validation-error:0.1462\u001b[0m\n",
      "\u001b[31m[07:31:09] src/tree/updater_prune.cc:74: tree pruning end, 1 roots, 18 extra nodes, 12 pruned nodes, max_depth=5\u001b[0m\n",
      "\u001b[31m[125]#011train-error:0.0914#011validation-error:0.146\u001b[0m\n",
      "\u001b[31m[07:31:10] src/tree/updater_prune.cc:74: tree pruning end, 1 roots, 14 extra nodes, 12 pruned nodes, max_depth=5\u001b[0m\n",
      "\u001b[31m[126]#011train-error:0.090733#011validation-error:0.1464\u001b[0m\n",
      "\u001b[31m[07:31:11] src/tree/updater_prune.cc:74: tree pruning end, 1 roots, 14 extra nodes, 6 pruned nodes, max_depth=5\u001b[0m\n",
      "\u001b[31m[127]#011train-error:0.089867#011validation-error:0.1458\u001b[0m\n",
      "\u001b[31m[07:31:12] src/tree/updater_prune.cc:74: tree pruning end, 1 roots, 14 extra nodes, 12 pruned nodes, max_depth=5\u001b[0m\n",
      "\u001b[31m[128]#011train-error:0.090533#011validation-error:0.1456\u001b[0m\n",
      "\u001b[31m[07:31:14] src/tree/updater_prune.cc:74: tree pruning end, 1 roots, 22 extra nodes, 2 pruned nodes, max_depth=5\u001b[0m\n",
      "\u001b[31m[129]#011train-error:0.0898#011validation-error:0.1458\u001b[0m\n",
      "\u001b[31m[07:31:15] src/tree/updater_prune.cc:74: tree pruning end, 1 roots, 20 extra nodes, 8 pruned nodes, max_depth=5\u001b[0m\n",
      "\u001b[31m[130]#011train-error:0.0894#011validation-error:0.1447\u001b[0m\n",
      "\u001b[31m[07:31:16] src/tree/updater_prune.cc:74: tree pruning end, 1 roots, 14 extra nodes, 4 pruned nodes, max_depth=5\u001b[0m\n",
      "\u001b[31m[131]#011train-error:0.088867#011validation-error:0.1445\u001b[0m\n",
      "\u001b[31m[07:31:18] src/tree/updater_prune.cc:74: tree pruning end, 1 roots, 20 extra nodes, 18 pruned nodes, max_depth=5\u001b[0m\n",
      "\u001b[31m[132]#011train-error:0.088333#011validation-error:0.1449\u001b[0m\n",
      "\u001b[31m[07:31:19] src/tree/updater_prune.cc:74: tree pruning end, 1 roots, 26 extra nodes, 12 pruned nodes, max_depth=5\u001b[0m\n",
      "\u001b[31m[133]#011train-error:0.0886#011validation-error:0.1447\u001b[0m\n",
      "\u001b[31m[07:31:20] src/tree/updater_prune.cc:74: tree pruning end, 1 roots, 14 extra nodes, 2 pruned nodes, max_depth=5\u001b[0m\n",
      "\u001b[31m[134]#011train-error:0.087933#011validation-error:0.145\u001b[0m\n"
     ]
    },
    {
     "name": "stdout",
     "output_type": "stream",
     "text": [
      "\u001b[31m[07:31:21] src/tree/updater_prune.cc:74: tree pruning end, 1 roots, 12 extra nodes, 6 pruned nodes, max_depth=5\u001b[0m\n",
      "\u001b[31m[135]#011train-error:0.087867#011validation-error:0.1448\u001b[0m\n",
      "\u001b[31m[07:31:23] src/tree/updater_prune.cc:74: tree pruning end, 1 roots, 10 extra nodes, 8 pruned nodes, max_depth=5\u001b[0m\n",
      "\u001b[31m[136]#011train-error:0.0876#011validation-error:0.1444\u001b[0m\n",
      "\u001b[31m[07:31:24] src/tree/updater_prune.cc:74: tree pruning end, 1 roots, 14 extra nodes, 16 pruned nodes, max_depth=5\u001b[0m\n",
      "\u001b[31m[137]#011train-error:0.086933#011validation-error:0.1445\u001b[0m\n",
      "\u001b[31m[07:31:25] src/tree/updater_prune.cc:74: tree pruning end, 1 roots, 12 extra nodes, 12 pruned nodes, max_depth=5\u001b[0m\n",
      "\u001b[31m[138]#011train-error:0.0864#011validation-error:0.1445\u001b[0m\n",
      "\u001b[31m[07:31:27] src/tree/updater_prune.cc:74: tree pruning end, 1 roots, 16 extra nodes, 10 pruned nodes, max_depth=5\u001b[0m\n",
      "\u001b[31m[139]#011train-error:0.086267#011validation-error:0.1452\u001b[0m\n",
      "\u001b[31m[07:31:28] src/tree/updater_prune.cc:74: tree pruning end, 1 roots, 12 extra nodes, 0 pruned nodes, max_depth=5\u001b[0m\n",
      "\u001b[31m[140]#011train-error:0.0864#011validation-error:0.1456\u001b[0m\n",
      "\u001b[31m[07:31:29] src/tree/updater_prune.cc:74: tree pruning end, 1 roots, 20 extra nodes, 8 pruned nodes, max_depth=5\u001b[0m\n",
      "\u001b[31m[141]#011train-error:0.086267#011validation-error:0.1457\u001b[0m\n",
      "\u001b[31m[07:31:30] src/tree/updater_prune.cc:74: tree pruning end, 1 roots, 20 extra nodes, 8 pruned nodes, max_depth=5\u001b[0m\n",
      "\u001b[31m[142]#011train-error:0.086#011validation-error:0.1454\u001b[0m\n",
      "\n",
      "2019-05-12 07:31:46 Uploading - Uploading generated training model\n",
      "2019-05-12 07:31:46 Completed - Training job completed\n",
      "\u001b[31m[07:31:32] src/tree/updater_prune.cc:74: tree pruning end, 1 roots, 22 extra nodes, 10 pruned nodes, max_depth=5\u001b[0m\n",
      "\u001b[31m[143]#011train-error:0.0852#011validation-error:0.1451\u001b[0m\n",
      "\u001b[31m[07:31:33] src/tree/updater_prune.cc:74: tree pruning end, 1 roots, 22 extra nodes, 10 pruned nodes, max_depth=5\u001b[0m\n",
      "\u001b[31m[144]#011train-error:0.083467#011validation-error:0.1447\u001b[0m\n",
      "\u001b[31m[07:31:34] src/tree/updater_prune.cc:74: tree pruning end, 1 roots, 12 extra nodes, 12 pruned nodes, max_depth=5\u001b[0m\n",
      "\u001b[31m[145]#011train-error:0.083133#011validation-error:0.1449\u001b[0m\n",
      "\u001b[31m[07:31:36] src/tree/updater_prune.cc:74: tree pruning end, 1 roots, 16 extra nodes, 8 pruned nodes, max_depth=5\u001b[0m\n",
      "\u001b[31m[146]#011train-error:0.083467#011validation-error:0.145\u001b[0m\n",
      "\u001b[31mStopping. Best iteration:\u001b[0m\n",
      "\u001b[31m[136]#011train-error:0.0876#011validation-error:0.1444\n",
      "\u001b[0m\n",
      "Billable seconds: 238\n"
     ]
    }
   ],
   "source": [
    "xgb.fit({'train': s3_input_train, 'validation': s3_input_validation})"
   ]
  },
  {
   "cell_type": "markdown",
   "metadata": {},
   "source": [
    "## Step 5: Testing the model\n",
    "\n",
    "Now that we've fit our XGBoost model, it's time to see how well it performs. To do this we will use SageMakers Batch Transform functionality. Batch Transform is a convenient way to perform inference on a large dataset in a way that is not realtime. That is, we don't necessarily need to use our model's results immediately and instead we can perform inference on a large number of samples. An example of this in industry might be performing an end of month report. This method of inference can also be useful to us as it means that we can perform inference on our entire test set. \n",
    "\n",
    "To perform a Batch Transformation we need to first create a transformer objects from our trained estimator object."
   ]
  },
  {
   "cell_type": "code",
   "execution_count": 61,
   "metadata": {},
   "outputs": [
    {
     "name": "stderr",
     "output_type": "stream",
     "text": [
      "Using already existing model: xgboost-2019-05-12-07-25-42-881\n"
     ]
    }
   ],
   "source": [
    "xgb_transformer = xgb.transformer(instance_count = 1, instance_type = 'ml.m4.xlarge')"
   ]
  },
  {
   "cell_type": "markdown",
   "metadata": {},
   "source": [
    "Next we actually perform the transform job. When doing so we need to make sure to specify the type of data we are sending so that it is serialized correctly in the background. In our case we are providing our model with csv data so we specify `text/csv`. Also, if the test data that we have provided is too large to process all at once then we need to specify how the data file should be split up. Since each line is a single entry in our data set we tell SageMaker that it can split the input on each line."
   ]
  },
  {
   "cell_type": "code",
   "execution_count": 28,
   "metadata": {},
   "outputs": [],
   "source": [
    "xgb_transformer.transform(test_location, content_type='text/csv', split_type='Line')"
   ]
  },
  {
   "cell_type": "markdown",
   "metadata": {},
   "source": [
    "Currently the transform job is running but it is doing so in the background. Since we wish to wait until the transform job is done and we would like a bit of feedback we can run the `wait()` method."
   ]
  },
  {
   "cell_type": "code",
   "execution_count": 29,
   "metadata": {},
   "outputs": [
    {
     "name": "stdout",
     "output_type": "stream",
     "text": [
      "................................................!\n"
     ]
    }
   ],
   "source": [
    "xgb_transformer.wait()"
   ]
  },
  {
   "cell_type": "markdown",
   "metadata": {},
   "source": [
    "Now the transform job has executed and the result, the estimated sentiment of each review, has been saved on S3. Since we would rather work on this file locally we can perform a bit of notebook magic to copy the file to the `data_dir`."
   ]
  },
  {
   "cell_type": "code",
   "execution_count": 30,
   "metadata": {},
   "outputs": [
    {
     "name": "stdout",
     "output_type": "stream",
     "text": [
      "Completed 256.0 KiB/369.3 KiB (2.9 MiB/s) with 1 file(s) remaining\r",
      "Completed 369.3 KiB/369.3 KiB (4.0 MiB/s) with 1 file(s) remaining\r",
      "download: s3://sagemaker-us-east-1-174239324085/xgboost-2019-05-12-07-31-58-897/test.csv.out to ../data/sentiment_web_app/test.csv.out\r\n"
     ]
    }
   ],
   "source": [
    "!aws s3 cp --recursive $xgb_transformer.output_path $data_dir"
   ]
  },
  {
   "cell_type": "markdown",
   "metadata": {},
   "source": [
    "The last step is now to read in the output from our model, convert the output to something a little more usable, in this case we want the sentiment to be either `1` (positive) or `0` (negative), and then compare to the ground truth labels."
   ]
  },
  {
   "cell_type": "code",
   "execution_count": 31,
   "metadata": {},
   "outputs": [],
   "source": [
    "predictions = pd.read_csv(os.path.join(data_dir, 'test.csv.out'), header=None)\n",
    "predictions = [round(num) for num in predictions.squeeze().values]"
   ]
  },
  {
   "cell_type": "code",
   "execution_count": 32,
   "metadata": {},
   "outputs": [
    {
     "data": {
      "text/plain": [
       "0.85784"
      ]
     },
     "execution_count": 32,
     "metadata": {},
     "output_type": "execute_result"
    }
   ],
   "source": [
    "from sklearn.metrics import accuracy_score\n",
    "accuracy_score(test_y, predictions)"
   ]
  },
  {
   "cell_type": "markdown",
   "metadata": {},
   "source": [
    "## Step 6: Deploying the model\n",
    "\n",
    "Once we construct and fit our model, SageMaker stores the resulting model artifacts and we can use those to deploy an endpoint (inference code). To see this, look in the SageMaker console and you should see that a model has been created along with a link to the S3 location where the model artifacts have been stored.\n",
    "\n",
    "Deploying an endpoint is a lot like training the model with a few important differences. The first is that a deployed model doesn't change the model artifacts, so as you send it various testing instances the model won't change. Another difference is that since we aren't performing a fixed computation, as we were in the training step or while performing a batch transform, the compute instance that gets started stays running until we tell it to stop. This is important to note as if we forget and leave it running we will be charged the entire time.\n",
    "\n",
    "In other words **If you are no longer using a deployed endpoint, shut it down!**"
   ]
  },
  {
   "cell_type": "code",
   "execution_count": 56,
   "metadata": {},
   "outputs": [
    {
     "name": "stdout",
     "output_type": "stream",
     "text": [
      "----------------------------------------------------------------------------------------------------!"
     ]
    }
   ],
   "source": [
    "xgb_predictor = xgb.deploy(initial_instance_count = 1, instance_type = 'ml.m4.xlarge')"
   ]
  },
  {
   "cell_type": "markdown",
   "metadata": {},
   "source": [
    "### Testing the model (again)\n",
    "\n",
    "Now that we have deployed our endpoint, we can send the testing data to it and get back the inference results. We already did this earlier using the batch transform functionality of SageMaker, however, we will test our model again using the newly deployed endpoint so that we can make sure that it works properly and to get a bit of a feel for how the endpoint works.\n",
    "\n",
    "When using the created endpoint it is important to know that we are limited in the amount of information we can send in each call so we need to break the testing data up into chunks and then send each chunk. Also, we need to serialize our data before we send it to the endpoint to ensure that our data is transmitted properly. Fortunately, SageMaker can do the serialization part for us provided we tell it the format of our data."
   ]
  },
  {
   "cell_type": "code",
   "execution_count": 57,
   "metadata": {},
   "outputs": [],
   "source": [
    "from sagemaker.predictor import csv_serializer\n",
    "\n",
    "# We need to tell the endpoint what format the data we are sending is in so that SageMaker can perform the serialization.\n",
    "xgb_predictor.content_type = 'text/csv'\n",
    "xgb_predictor.serializer = csv_serializer"
   ]
  },
  {
   "cell_type": "code",
   "execution_count": 58,
   "metadata": {},
   "outputs": [],
   "source": [
    "# We split the data into chunks and send each chunk seperately, accumulating the results.\n",
    "\n",
    "def predict(data, rows=512):\n",
    "    split_array = np.array_split(data, int(data.shape[0] / float(rows) + 1))\n",
    "    predictions = ''\n",
    "    for array in split_array:\n",
    "        predictions = ','.join([predictions, xgb_predictor.predict(array).decode('utf-8')])\n",
    "    \n",
    "    return np.fromstring(predictions[1:], sep=',')"
   ]
  },
  {
   "cell_type": "code",
   "execution_count": 59,
   "metadata": {},
   "outputs": [],
   "source": [
    "test_X = pd.read_csv(os.path.join(data_dir, 'test.csv'), header=None).values\n",
    "\n",
    "predictions = predict(test_X)\n",
    "predictions = [round(num) for num in predictions]"
   ]
  },
  {
   "cell_type": "markdown",
   "metadata": {},
   "source": [
    "Lastly, we check to see what the accuracy of our model is."
   ]
  },
  {
   "cell_type": "code",
   "execution_count": 60,
   "metadata": {},
   "outputs": [
    {
     "data": {
      "text/plain": [
       "0.85784"
      ]
     },
     "execution_count": 60,
     "metadata": {},
     "output_type": "execute_result"
    }
   ],
   "source": [
    "from sklearn.metrics import accuracy_score\n",
    "accuracy_score(test_y, predictions)"
   ]
  },
  {
   "cell_type": "markdown",
   "metadata": {},
   "source": [
    "And the results here should agree with the model testing that we did earlier using the batch transform job.\n",
    "\n",
    "### Cleaning up\n",
    "\n",
    "Now that we've determined that deploying our model works as expected, we are going to shut it down. Remember that the longer the endpoint is left running, the greater the cost and since we have a bit more work to do before we are able to use our endpoint with our simple web app, we should shut everything down."
   ]
  },
  {
   "cell_type": "code",
   "execution_count": 38,
   "metadata": {},
   "outputs": [],
   "source": [
    "xgb_predictor.delete_endpoint()"
   ]
  },
  {
   "cell_type": "markdown",
   "metadata": {},
   "source": [
    "## Step 7: Putting our model to work\n",
    "\n",
    "As we've mentioned a few times now, our goal is to have our model deployed and then access it using a very simple web app. The intent is for this web app to take some user submitted data (a review), send it off to our endpoint (the model) and then display the result.\n",
    "\n",
    "However, there is a small catch. Currently the only way we can access the endpoint to send it data is using the SageMaker API. We can, if we wish, expose the actual URL that our model's endpoint is receiving data from, however, if we just send it data ourselves we will not get anything in return. This is because the endpoint created by SageMaker requires the entity accessing it have the correct permissions. So, we would need to somehow authenticate our web app with AWS.\n",
    "\n",
    "Having a website that authenticates to AWS seems a bit beyond the scope of this lesson so we will opt for an alternative approach. Namely, we will create a new endpoint which does not require authentication and which acts as a proxy for the SageMaker endpoint.\n",
    "\n",
    "As an additional constraint, we will try to avoid doing any data processing in the web app itself. Remember that when we constructed and tested our model we started with a movie review, then we simplified it by removing any html formatting and punctuation, then we constructed a bag of words embedding and the resulting vector is what we sent to our model. All of this needs to be done to our user input as well.\n",
    "\n",
    "Fortunately we can do all of this data processing in the backend, using Amazon's Lambda service.\n",
    "\n",
    "<img src=\"Web App Diagram.svg\">\n",
    "\n",
    "The diagram above gives an overview of how the various services will work together. On the far right is the model which we trained above and which will be deployed using SageMaker. On the far left is our web app that collects a user's movie review, sends it off and expects a positive or negative sentiment in return.\n",
    "\n",
    "In the middle is where some of the magic happens. We will construct a Lambda function, which you can think of as a straightforward Python function that can be executed whenever a specified event occurs. This Python function will do the data processing we need to perform on a user submitted review. In addition, we will give this function permission to send and recieve data from a SageMaker endpoint.\n",
    "\n",
    "Lastly, the method we will use to execute the Lambda function is a new endpoint that we will create using API Gateway. This endpoint will be a url that listens for data to be sent to it. Once it gets some data it will pass that data on to the Lambda function and then return whatever the Lambda function returns. Essentially it will act as an interface that lets our web app communicate with the Lambda function.\n",
    "\n",
    "### Processing a single review\n",
    "\n",
    "For now, suppose we are given a movie review by our user in the form of a string, like so:"
   ]
  },
  {
   "cell_type": "code",
   "execution_count": 40,
   "metadata": {},
   "outputs": [],
   "source": [
    "test_review = \"Nothing but a disgusting materialistic pageant of glistening abed remote control greed zombies, totally devoid of any heart or heat. A romantic comedy that has zero romantic chemestry and zero laughs!\""
   ]
  },
  {
   "cell_type": "markdown",
   "metadata": {},
   "source": [
    "How do we go from this string to the bag of words feature vector that is expected by our model?\n",
    "\n",
    "If we recall at the beginning of this notebook, the first step is to remove any unnecessary characters using the `review_to_words` method. Remember that we intentionally did this in a very simplistic way. This is because we are going to have to copy this method to our (eventual) Lambda function (we will go into more detail later) and this means it needs to be rather simplistic."
   ]
  },
  {
   "cell_type": "code",
   "execution_count": 41,
   "metadata": {},
   "outputs": [
    {
     "name": "stdout",
     "output_type": "stream",
     "text": [
      "nothing but a disgusting materialistic pageant of glistening abed remote control greed zombies totally devoid of any heart or heat a romantic comedy that has zero romantic chemestry and zero laughs\n"
     ]
    }
   ],
   "source": [
    "test_words = review_to_words(test_review)\n",
    "print(test_words)"
   ]
  },
  {
   "cell_type": "markdown",
   "metadata": {},
   "source": [
    "Next, we need to construct a bag of words embedding of the `test_words` string. To do this, remember that a bag of words embedding uses a `vocabulary` consisting of the most frequently appearing words in a set of documents. Then, for each word in the vocabulary we record the number of times that word appears in `test_words`. We constructed the `vocabulary` earlier using the training set for our problem so encoding `test_words` is relatively straightforward."
   ]
  },
  {
   "cell_type": "code",
   "execution_count": 42,
   "metadata": {},
   "outputs": [],
   "source": [
    "def bow_encoding(words, vocabulary):\n",
    "    bow = [0] * len(vocabulary) # Start by setting the count for each word in the vocabulary to zero.\n",
    "    for word in words.split():  # For each word in the string\n",
    "        if word in vocabulary:  # If the word is one that occurs in the vocabulary, increase its count.\n",
    "            bow[vocabulary[word]] += 1\n",
    "    return bow"
   ]
  },
  {
   "cell_type": "code",
   "execution_count": 43,
   "metadata": {},
   "outputs": [
    {
     "name": "stdout",
     "output_type": "stream",
     "text": [
      "[0, 0, 0, 0, 0, 0, 0, 0, 0, 0, 0, 0, 0, 0, 0, 0, 0, 0, 0, 0, 0, 0, 0, 0, 0, 0, 0, 0, 0, 0, 0, 0, 0, 0, 0, 0, 0, 0, 0, 0, 0, 0, 0, 0, 0, 0, 0, 0, 0, 0, 0, 0, 0, 0, 0, 0, 0, 0, 0, 0, 0, 0, 0, 0, 0, 0, 0, 0, 0, 0, 0, 0, 0, 0, 0, 0, 0, 0, 0, 0, 0, 0, 0, 0, 0, 0, 0, 0, 0, 0, 0, 0, 0, 0, 0, 0, 0, 0, 0, 0, 0, 0, 0, 0, 0, 0, 0, 0, 0, 0, 0, 0, 0, 0, 0, 0, 0, 0, 0, 0, 0, 0, 0, 0, 0, 0, 0, 0, 0, 0, 0, 0, 0, 0, 0, 0, 0, 0, 0, 0, 0, 0, 0, 0, 0, 0, 0, 0, 0, 0, 0, 0, 0, 0, 0, 0, 0, 0, 0, 0, 0, 0, 0, 0, 0, 0, 0, 0, 0, 0, 0, 0, 0, 0, 0, 0, 0, 0, 0, 0, 0, 0, 0, 0, 0, 0, 0, 0, 0, 0, 0, 0, 0, 0, 0, 0, 0, 0, 0, 0, 0, 0, 0, 0, 0, 0, 0, 0, 0, 0, 0, 0, 0, 0, 0, 0, 0, 0, 0, 0, 0, 0, 0, 0, 0, 0, 1, 0, 0, 0, 0, 0, 0, 0, 0, 0, 0, 0, 0, 0, 0, 0, 0, 0, 0, 0, 0, 0, 0, 0, 0, 0, 0, 0, 0, 0, 1, 0, 0, 0, 0, 0, 0, 0, 0, 0, 0, 0, 0, 0, 0, 0, 0, 0, 0, 0, 0, 0, 0, 0, 0, 0, 0, 0, 0, 0, 0, 0, 0, 0, 0, 0, 0, 0, 0, 0, 0, 0, 0, 0, 0, 0, 0, 0, 0, 0, 0, 0, 0, 0, 0, 0, 0, 0, 0, 0, 0, 0, 0, 0, 0, 0, 0, 0, 0, 0, 0, 0, 0, 0, 0, 0, 0, 0, 0, 0, 0, 0, 0, 0, 0, 0, 0, 0, 0, 0, 0, 0, 0, 0, 0, 0, 0, 0, 0, 0, 0, 0, 0, 0, 0, 0, 0, 0, 0, 0, 0, 0, 0, 0, 0, 0, 0, 0, 0, 0, 0, 0, 0, 0, 0, 0, 0, 0, 0, 0, 0, 0, 0, 0, 0, 0, 0, 0, 0, 0, 0, 0, 0, 0, 0, 0, 0, 0, 0, 0, 0, 0, 0, 0, 0, 0, 0, 0, 0, 0, 0, 0, 0, 0, 0, 0, 0, 0, 0, 0, 0, 0, 0, 0, 0, 0, 0, 0, 0, 0, 0, 0, 0, 0, 0, 0, 0, 0, 0, 0, 0, 0, 0, 0, 0, 0, 0, 0, 0, 0, 0, 0, 0, 0, 0, 0, 0, 0, 0, 0, 0, 0, 0, 0, 0, 0, 0, 0, 0, 0, 0, 0, 0, 0, 0, 0, 0, 0, 0, 0, 0, 0, 0, 0, 0, 0, 0, 0, 0, 0, 0, 0, 0, 0, 0, 0, 0, 0, 0, 0, 0, 0, 0, 0, 0, 0, 0, 0, 0, 0, 0, 0, 0, 0, 0, 0, 0, 0, 0, 0, 0, 0, 0, 0, 0, 0, 0, 0, 0, 0, 0, 0, 0, 0, 0, 0, 0, 0, 0, 0, 0, 0, 0, 0, 0, 0, 0, 0, 0, 0, 0, 0, 0, 0, 0, 0, 0, 0, 0, 0, 0, 0, 0, 0, 0, 0, 0, 0, 0, 0, 0, 0, 0, 0, 0, 0, 0, 0, 0, 0, 0, 0, 0, 0, 0, 0, 0, 0, 0, 0, 0, 0, 0, 0, 0, 0, 0, 0, 0, 0, 0, 0, 0, 0, 0, 0, 0, 0, 0, 0, 0, 0, 0, 0, 0, 0, 0, 0, 0, 0, 0, 0, 0, 0, 0, 0, 0, 0, 0, 0, 1, 0, 0, 0, 0, 0, 0, 0, 0, 0, 0, 0, 0, 0, 0, 0, 0, 0, 0, 0, 0, 0, 0, 0, 0, 0, 0, 0, 0, 0, 0, 0, 0, 0, 0, 0, 0, 0, 0, 0, 0, 0, 0, 0, 0, 0, 0, 0, 0, 0, 0, 0, 0, 0, 0, 0, 0, 0, 0, 0, 0, 0, 0, 0, 0, 0, 0, 0, 0, 0, 0, 0, 0, 0, 0, 0, 0, 0, 0, 0, 0, 0, 0, 0, 0, 0, 0, 0, 0, 0, 0, 0, 0, 0, 0, 0, 0, 0, 0, 0, 0, 0, 0, 0, 0, 0, 0, 0, 0, 0, 0, 0, 0, 0, 0, 0, 0, 0, 0, 0, 0, 0, 0, 0, 0, 0, 0, 0, 0, 0, 0, 0, 0, 0, 0, 0, 0, 0, 0, 0, 0, 0, 0, 0, 0, 0, 0, 0, 0, 0, 0, 0, 0, 0, 0, 0, 0, 0, 0, 0, 0, 0, 0, 0, 0, 0, 0, 0, 0, 0, 0, 0, 0, 0, 0, 0, 0, 0, 0, 0, 0, 0, 0, 0, 0, 0, 0, 0, 0, 0, 0, 0, 0, 0, 0, 0, 0, 0, 0, 0, 0, 0, 0, 0, 0, 0, 0, 0, 0, 0, 0, 0, 0, 0, 0, 0, 0, 0, 0, 0, 0, 0, 0, 0, 0, 0, 0, 0, 0, 0, 0, 0, 0, 0, 0, 0, 0, 0, 0, 0, 0, 0, 0, 0, 0, 0, 0, 0, 0, 0, 0, 0, 0, 0, 1, 0, 0, 0, 0, 0, 0, 0, 0, 0, 0, 0, 0, 0, 0, 0, 0, 0, 0, 0, 0, 0, 0, 0, 0, 0, 0, 0, 0, 0, 0, 0, 0, 0, 0, 0, 0, 0, 0, 0, 0, 0, 0, 0, 0, 0, 0, 0, 0, 0, 0, 0, 0, 0, 0, 0, 0, 0, 0, 0, 0, 0, 0, 0, 0, 0, 0, 0, 0, 0, 0, 0, 0, 0, 0, 0, 0, 0, 0, 0, 0, 0, 0, 0, 0, 0, 0, 1, 0, 0, 0, 0, 0, 0, 0, 0, 0, 0, 0, 0, 0, 0, 0, 0, 0, 0, 0, 0, 0, 0, 0, 0, 0, 0, 0, 0, 0, 0, 0, 0, 0, 0, 0, 0, 0, 0, 0, 0, 0, 0, 0, 0, 0, 0, 0, 0, 0, 0, 0, 0, 0, 0, 0, 0, 0, 0, 0, 0, 0, 0, 0, 0, 0, 0, 0, 0, 0, 0, 0, 0, 0, 0, 0, 0, 0, 0, 0, 0, 0, 0, 0, 0, 0, 0, 0, 0, 0, 0, 0, 0, 0, 0, 0, 0, 0, 0, 0, 0, 0, 0, 0, 0, 0, 0, 0, 0, 0, 0, 0, 0, 0, 0, 0, 0, 0, 0, 0, 0, 0, 0, 0, 0, 0, 0, 0, 0, 0, 0, 0, 0, 0, 0, 0, 0, 0, 0, 0, 0, 0, 0, 0, 0, 0, 0, 0, 0, 0, 0, 0, 0, 0, 0, 0, 0, 0, 0, 0, 0, 0, 0, 0, 0, 0, 0, 0, 0, 0, 0, 0, 0, 0, 0, 0, 0, 0, 0, 0, 0, 0, 0, 0, 0, 0, 0, 0, 0, 0, 0, 0, 0, 0, 0, 0, 0, 0, 0, 0, 0, 0, 0, 0, 0, 0, 0, 0, 0, 0, 0, 0, 0, 0, 0, 0, 0, 0, 0, 0, 0, 0, 0, 0, 0, 0, 0, 0, 0, 0, 0, 0, 0, 0, 0, 0, 0, 0, 0, 0, 0, 0, 0, 0, 0, 0, 0, 0, 0, 0, 0, 0, 0, 1, 0, 0, 0, 0, 0, 0, 0, 0, 0, 0, 0, 0, 0, 0, 0, 0, 0, 0, 0, 0, 0, 0, 0, 0, 0, 0, 0, 0, 0, 0, 0, 0, 0, 0, 0, 0, 0, 0, 0, 0, 0, 0, 0, 0, 0, 0, 0, 0, 0, 0, 0, 0, 0, 0, 0, 1, 0, 0, 0, 0, 0, 0, 0, 0, 0, 0, 0, 0, 0, 0, 0, 0, 0, 0, 0, 0, 0, 0, 0, 0, 0, 0, 0, 0, 0, 0, 0, 0, 0, 0, 0, 0, 0, 0, 0, 0, 0, 0, 0, 0, 0, 0, 0, 0, 0, 0, 0, 0, 0, 0, 0, 0, 0, 0, 0, 0, 0, 0, 0, 0, 0, 0, 0, 0, 0, 0, 0, 0, 0, 0, 0, 0, 0, 0, 0, 0, 0, 0, 0, 0, 0, 0, 0, 0, 0, 0, 0, 0, 0, 0, 0, 0, 0, 0, 0, 0, 0, 0, 0, 0, 0, 0, 0, 0, 0, 0, 0, 0, 0, 0, 0, 0, 0, 0, 0, 0, 0, 0, 0, 0, 0, 0, 0, 0, 0, 0, 0, 0, 0, 0, 0, 0, 0, 0, 0, 0, 0, 0, 0, 0, 0, 0, 0, 0, 0, 0, 0, 0, 0, 0, 0, 0, 0, 0, 0, 0, 0, 0, 0, 0, 0, 0, 0, 0, 0, 0, 0, 0, 0, 0, 0, 0, 0, 0, 0, 0, 0, 0, 0, 0, 0, 0, 0, 0, 0, 0, 0, 0, 0, 0, 0, 0, 0, 0, 0, 0, 0, 0, 0, 0, 0, 0, 0, 0, 0, 0, 0, 0, 0, 0, 0, 0, 0, 0, 0, 0, 0, 0, 0, 0, 0, 0, 0, 0, 0, 0, 0, 0, 0, 0, 0, 0, 0, 0, 0, 0, 0, 0, 0, 0, 0, 0, 0, 0, 0, 0, 0, 0, 0, 0, 0, 0, 0, 0, 0, 0, 0, 0, 0, 0, 0, 0, 0, 0, 0, 0, 0, 0, 0, 0, 0, 0, 0, 0, 0, 0, 0, 0, 0, 0, 0, 0, 0, 0, 0, 0, 0, 0, 0, 0, 0, 0, 0, 0, 0, 0, 0, 0, 0, 0, 0, 0, 0, 0, 0, 0, 0, 0, 0, 0, 0, 0, 0, 0, 0, 0, 0, 0, 0, 0, 0, 0, 0, 0, 0, 0, 0, 0, 0, 0, 0, 0, 0, 0, 0, 0, 0, 0, 0, 0, 0, 0, 0, 0, 0, 0, 0, 0, 0, 0, 0, 0, 0, 0, 0, 0, 0, 0, 0, 0, 0, 0, 0, 0, 0, 0, 0, 0, 0, 0, 0, 0, 0, 0, 0, 0, 0, 0, 0, 0, 0, 0, 0, 0, 0, 0, 0, 0, 0, 0, 0, 0, 0, 0, 0, 0, 0, 0, 0, 0, 0, 0, 0, 0, 0, 0, 0, 0, 0, 0, 0, 0, 0, 0, 0, 0, 0, 0, 0, 0, 0, 0, 0, 0, 0, 0, 0, 0, 0, 0, 0, 0, 0, 0, 0, 0, 0, 0, 0, 0, 0, 0, 0, 0, 0, 0, 0, 0, 0, 0, 0, 0, 0, 0, 0, 0, 0, 0, 0, 0, 0, 0, 0, 0, 0, 0, 0, 0, 0, 0, 0, 0, 0, 0, 0, 0, 0, 0, 0, 0, 0, 0, 0, 0, 0, 0, 0, 0, 0, 0, 0, 0, 0, 0, 0, 0, 0, 0, 0, 0, 0, 0, 0, 0, 0, 0, 0, 0, 0, 0, 0, 0, 0, 0, 0, 0, 0, 0, 0, 0, 0, 0, 0, 0, 0, 0, 0, 0, 0, 0, 0, 0, 0, 0, 0, 0, 0, 0, 0, 0, 0, 0, 0, 0, 0, 0, 0, 0, 0, 0, 0, 0, 0, 0, 0, 0, 0, 0, 0, 0, 0, 0, 0, 0, 0, 0, 0, 0, 0, 0, 0, 0, 0, 0, 0, 0, 0, 0, 0, 0, 0, 0, 0, 0, 0, 0, 0, 0, 0, 0, 0, 0, 0, 0, 0, 0, 0, 0, 0, 0, 0, 0, 0, 0, 0, 0, 0, 0, 0, 0, 0, 0, 0, 0, 0, 0, 0, 0, 0, 0, 0, 0, 0, 0, 0, 0, 0, 0, 0, 0, 0, 0, 0, 0, 0, 0, 0, 0, 0, 0, 0, 0, 0, 0, 0, 0, 0, 0, 0, 0, 0, 0, 0, 0, 0, 0, 0, 0, 0, 0, 0, 0, 0, 0, 0, 0, 0, 0, 0, 0, 0, 0, 0, 0, 0, 0, 0, 1, 0, 0, 0, 0, 0, 0, 0, 0, 0, 0, 0, 0, 0, 0, 0, 0, 0, 0, 0, 0, 0, 0, 0, 0, 0, 0, 0, 0, 0, 0, 0, 0, 0, 0, 0, 0, 0, 0, 0, 0, 0, 0, 0, 0, 0, 0, 0, 0, 0, 0, 0, 0, 0, 0, 0, 0, 0, 0, 0, 0, 0, 0, 0, 0, 0, 0, 0, 0, 0, 0, 0, 0, 0, 0, 1, 0, 0, 0, 0, 0, 0, 0, 0, 0, 0, 0, 0, 0, 0, 0, 0, 0, 0, 0, 0, 1, 0, 0, 1, 0, 0, 0, 0, 0, 0, 0, 0, 0, 0, 0, 0, 0, 0, 0, 0, 0, 0, 0, 0, 0, 0, 0, 0, 0, 0, 0, 0, 0, 0, 0, 0, 0, 0, 0, 0, 0, 0, 0, 0, 0, 0, 0, 0, 0, 0, 0, 0, 0, 0, 0, 0, 0, 0, 0, 0, 0, 0, 0, 0, 0, 0, 0, 0, 0, 0, 0, 0, 0, 0, 0, 0, 0, 0, 0, 0, 0, 0, 0, 0, 0, 0, 0, 0, 0, 0, 0, 0, 0, 0, 0, 0, 0, 0, 0, 0, 0, 0, 0, 0, 0, 0, 0, 0, 0, 0, 0, 0, 0, 0, 0, 0, 0, 0, 0, 0, 0, 0, 0, 0, 0, 0, 0, 0, 0, 0, 0, 0, 0, 0, 0, 0, 0, 0, 0, 0, 0, 0, 0, 0, 0, 0, 0, 0, 0, 0, 0, 0, 0, 0, 0, 0, 0, 0, 0, 0, 0, 0, 0, 0, 0, 0, 0, 0, 0, 0, 0, 0, 0, 0, 0, 0, 0, 0, 0, 0, 0, 0, 0, 0, 0, 0, 0, 0, 0, 0, 0, 0, 0, 0, 0, 0, 0, 0, 0, 0, 0, 0, 0, 0, 0, 0, 0, 0, 0, 0, 0, 0, 0, 0, 0, 0, 0, 0, 0, 0, 0, 0, 0, 0, 0, 0, 0, 0, 0, 0, 0, 0, 0, 0, 0, 0, 0, 0, 0, 0, 0, 0, 0, 0, 0, 0, 0, 0, 0, 0, 0, 0, 0, 0, 0, 0, 0, 0, 0, 0, 0, 0, 0, 0, 0, 0, 0, 0, 0, 0, 0, 0, 0, 0, 0, 0, 0, 0, 0, 0, 0, 0, 0, 0, 0, 0, 0, 0, 0, 0, 0, 0, 0, 0, 0, 0, 0, 0, 0, 0, 0, 0, 0, 0, 0, 0, 0, 0, 0, 0, 0, 0, 0, 0, 0, 0, 0, 0, 0, 0, 0, 0, 0, 0, 0, 0, 0, 0, 0, 0, 0, 0, 0, 0, 0, 0, 0, 0, 0, 0, 0, 0, 0, 0, 0, 0, 0, 0, 0, 0, 0, 0, 0, 0, 0, 0, 0, 0, 0, 0, 0, 0, 0, 0, 0, 0, 0, 0, 0, 0, 0, 0, 0, 0, 0, 0, 0, 0, 0, 0, 0, 0, 0, 0, 0, 0, 0, 0, 0, 0, 0, 0, 0, 0, 0, 0, 0, 0, 0, 0, 0, 0, 0, 0, 0, 0, 0, 0, 0, 0, 0, 0, 0, 0, 0, 0, 0, 0, 0, 0, 0, 0, 0, 0, 0, 0, 0, 0, 0, 0, 0, 0, 0, 0, 0, 0, 0, 0, 0, 0, 0, 0, 0, 0, 0, 0, 0, 0, 0, 0, 0, 0, 0, 0, 0, 0, 0, 0, 0, 0, 0, 0, 0, 0, 0, 0, 0, 0, 0, 0, 1, 0, 0, 0, 0, 0, 0, 0, 0, 0, 0, 0, 0, 0, 0, 0, 0, 0, 0, 0, 0, 0, 0, 0, 0, 0, 0, 0, 0, 0, 0, 0, 0, 0, 0, 0, 0, 0, 0, 0, 0, 0, 0, 0, 0, 0, 0, 0, 0, 0, 0, 0, 0, 0, 0, 0, 0, 0, 0, 0, 0, 0, 0, 0, 0, 0, 0, 0, 0, 0, 0, 0, 0, 0, 0, 0, 0, 0, 0, 0, 0, 0, 0, 0, 0, 0, 0, 0, 0, 0, 0, 0, 0, 0, 0, 0, 0, 0, 0, 0, 0, 0, 0, 0, 0, 0, 0, 0, 0, 0, 0, 0, 0, 0, 0, 0, 0, 0, 0, 0, 0, 0, 0, 0, 0, 0, 0, 0, 0, 0, 0, 0, 0, 0, 0, 0, 0, 0, 0, 0, 0, 0, 0, 0, 0, 0, 0, 0, 0, 0, 0, 0, 0, 0, 0, 0, 0, 0, 0, 0, 0, 0, 0, 0, 0, 0, 0, 0, 0, 0, 0, 0, 0, 0, 0, 0, 0, 0, 0, 0, 0, 0, 0, 0, 0, 0, 0, 0, 0, 0, 0, 0, 0, 0, 0, 0, 0, 0, 0, 0, 0, 0, 0, 0, 0, 0, 0, 0, 0, 0, 0, 0, 0, 0, 0, 0, 0, 0, 0, 0, 0, 0, 0, 0, 0, 0, 0, 0, 0, 0, 0, 0, 0, 0, 0, 0, 0, 0, 0, 0, 0, 0, 0, 0, 0, 0, 0, 0, 0, 0, 0, 0, 0, 0, 0, 0, 0, 0, 0, 0, 0, 0, 0, 0, 0, 0, 0, 0, 0, 0, 0, 0, 0, 0, 0, 0, 0, 0, 0, 0, 0, 0, 0, 0, 0, 0, 0, 0, 0, 0, 0, 0, 0, 0, 0, 0, 0, 0, 0, 0, 0, 0, 0, 0, 0, 0, 0, 0, 0, 0, 0, 0, 0, 0, 0, 0, 0, 0, 0, 0, 0, 0, 0, 0, 0, 0, 0, 0, 0, 0, 0, 0, 0, 0, 0, 0, 0, 0, 0, 0, 0, 0, 0, 0, 0, 0, 0, 0, 0, 0, 0, 0, 0, 0, 0, 0, 0, 0, 0, 0, 0, 0, 0, 0, 0, 0, 0, 0, 0, 0, 0, 0, 0, 0, 0, 0, 0, 0, 0, 0, 0, 0, 0, 0, 0, 0, 0, 0, 0, 0, 0, 0, 0, 0, 0, 0, 0, 0, 0, 0, 0, 0, 0, 0, 0, 0, 0, 0, 0, 0, 0, 0, 0, 0, 0, 0, 0, 0, 0, 0, 0, 0, 0, 0, 0, 0, 0, 0, 0, 0, 0, 0, 0, 0, 0, 0, 0, 0, 0, 0, 0, 0, 0, 0, 0, 0, 0, 0, 0, 0, 0, 0, 0, 0, 0, 0, 0, 0, 0, 0, 0, 0, 0, 0, 0, 0, 0, 0, 0, 0, 0, 0, 0, 0, 0, 0, 0, 0, 0, 0, 0, 0, 0, 0, 0, 0, 0, 0, 0, 0, 0, 0, 0, 0, 0, 0, 0, 0, 0, 0, 0, 0, 0, 0, 0, 0, 0, 0, 0, 0, 0, 0, 0, 1, 0, 0, 0, 0, 0, 0, 0, 0, 0, 0, 0, 0, 0, 0, 0, 0, 0, 0, 0, 0, 0, 0, 0, 0, 0, 0, 0, 0, 0, 0, 0, 0, 0, 0, 0, 2, 0, 0, 0, 0, 0, 0, 0, 0, 0, 0, 0, 0, 0, 0, 0, 0, 0, 0, 0, 0, 0, 0, 0, 0, 0, 0, 0, 0, 0, 0, 0, 0, 0, 0, 0, 0, 0, 0, 0, 0, 1, 0, 0, 0, 0, 0, 0, 0, 0, 0, 0, 0, 0, 0, 0, 0, 0, 0, 0, 0, 0, 0, 0, 0, 0, 0, 0, 0, 0, 0, 0, 0, 0, 0, 0, 0, 0, 0, 0, 0, 0, 0, 0, 0, 0, 0, 0, 0, 0, 0, 0, 0, 0, 0, 0, 0, 0, 0, 0, 0, 0, 0, 0, 0, 0, 0, 0, 0, 0, 0, 0, 0, 0, 0, 0, 0, 0, 0, 0, 0, 0, 0, 0, 0, 0, 0, 0, 0, 0, 0, 0, 0, 0, 0, 0, 0, 0, 0, 0, 0, 0, 0, 0, 0, 0, 0, 0, 0, 0, 0, 0, 0, 0, 0, 0, 0, 0, 0, 0, 0, 0, 0, 0, 0, 0, 0, 0, 0, 0, 0, 0, 0, 0, 0, 0, 0, 0, 0, 0, 0, 0, 0, 0, 0, 0, 0, 0, 0, 0, 0, 0, 0, 0, 0, 0, 0, 0, 0, 0, 0, 0, 0, 0, 0, 0, 0, 0, 0, 0, 0, 0, 0, 0, 0, 0, 0, 0, 0, 0, 0, 0, 0, 0, 0, 0, 0, 0, 0, 0, 0, 0, 0, 0, 0, 0, 0, 0, 0, 0, 0, 0, 0, 0, 0, 0, 0, 0, 0, 0, 0, 0, 0, 0, 0, 0, 0, 0, 0, 0, 0, 0, 0, 0, 0, 0, 0, 0, 0, 0, 0, 0, 0, 0, 0, 0, 0, 0, 0, 0, 0, 0, 0, 0, 0, 0, 0, 0, 0, 0, 0, 0, 0, 0, 0, 0, 0, 0, 0, 0, 0, 0, 0, 0, 0, 0, 0, 0, 0, 0, 0, 0, 0, 0, 0, 0, 0, 0, 0, 0, 0, 0, 0, 0, 0, 0, 0, 0, 0, 0, 0, 0, 0, 0, 0, 0, 0, 0, 0, 0, 0, 0, 0, 0, 0, 0, 0, 0, 0, 0, 0, 0, 0, 0, 0, 0, 0, 0, 0, 0, 0, 0, 0, 0, 0, 0, 0, 0, 0, 0, 0, 0, 0, 0, 0, 0, 0, 0, 0, 0, 0, 0, 0, 0, 0, 0, 0, 0, 0, 0, 0, 0, 0, 0, 0, 0, 0, 0, 0, 0, 0, 0, 0, 0, 0, 0, 0, 0, 0, 0, 0, 0, 0, 0, 0, 0, 0, 0, 0, 0, 0, 0, 0, 0, 0, 0, 0, 0, 0, 0, 0, 0, 0, 0, 0, 0, 0, 0, 0, 0, 0, 0, 0, 0, 0, 0, 0, 0, 0, 0, 0, 0, 0, 0, 0, 0, 0, 0, 0, 0, 0, 0, 0, 0, 0, 0, 0, 0, 0, 0, 0, 0, 0, 0, 0, 0, 0, 0, 0, 0, 0, 0, 0, 0, 0, 0, 0, 0, 0, 0, 0, 0, 0, 0, 0, 0, 0, 0, 0, 0, 0, 0, 0, 0, 0, 0, 0, 0, 0, 0, 0, 0, 0, 0, 0, 0, 0, 0, 0, 0, 0, 0, 0, 0, 0, 0, 0, 0, 0, 0, 0, 0, 0, 0, 0, 0, 0, 0, 0, 1, 0, 0, 0, 0, 0, 0, 0, 0, 0, 0, 0, 0, 0, 0, 0, 0, 0, 0, 0, 0, 0, 0, 0, 0, 0, 0, 0, 0, 0, 0, 0, 0, 0, 0, 0, 0, 0, 0, 0, 0, 0, 0, 0, 0, 0, 0, 0, 0, 0, 0, 0, 0, 0, 0, 0, 0, 0, 0, 0, 0, 0, 0, 0, 0, 0, 0, 0, 0, 0, 0, 0, 0, 0, 0, 0, 0, 0, 0, 0, 0, 0, 0, 0, 0, 0, 0, 0, 0, 0, 0, 0, 0, 0, 0, 0, 0, 0, 0, 0, 0, 0, 0, 0, 0, 0, 0, 0, 0, 0, 0, 2, 0, 0, 0, 0, 0, 0, 0, 0, 0, 0, 0, 0, 0, 0, 0, 0, 0, 0, 0, 0, 0, 0, 0, 0, 0, 0, 0, 0, 0, 0, 0, 0, 0, 0, 0, 0, 0, 0, 0, 0, 0, 0, 0, 0, 0, 0, 0, 0, 0, 0, 0, 0, 0, 0, 0, 0, 0, 0, 0, 0, 0, 0, 0, 0, 0, 0, 0, 0, 0, 0, 0, 0, 0, 0, 0, 0, 0, 0, 0, 0, 0, 0, 0, 0, 0, 0, 0, 0, 0, 0, 0, 0, 0, 0, 0, 0, 0, 0, 0, 0, 0, 0, 0, 0, 0, 0, 0, 0, 0, 0, 0, 0, 0, 0, 0, 0, 0, 0, 0, 0, 0, 0, 0, 0, 0, 0, 0, 0, 0, 0, 0, 0, 0, 0, 0, 0, 0, 0, 0, 0, 0, 0, 0, 0, 0, 0, 0, 0, 0, 0, 0, 0, 0, 0, 0, 0, 0, 0, 0, 0, 0, 0, 0, 0, 0, 0, 0, 0, 0, 0, 0, 0, 0, 0, 0, 0, 0, 0, 0, 0, 0, 0, 0, 0, 0, 0, 0, 0, 0, 0, 0, 0, 0, 0, 0, 0, 0, 0, 0, 0, 0, 0, 0, 0, 0, 0, 0, 0, 0, 0, 0, 0, 0, 0, 0, 0, 0, 0, 0, 0, 0, 0, 0, 0, 0, 0, 0, 0, 0, 0, 0, 0, 0, 0, 0, 0, 0, 0, 0, 0, 0, 0, 0, 0, 0, 0, 0, 0, 0, 0, 0, 0, 0, 0, 0, 0, 0, 0, 0, 0, 0, 0, 0, 0, 0, 0, 0, 0, 0, 0, 0, 0, 0, 0, 0, 0, 0, 0, 0, 0, 0, 0, 0, 0, 0, 0, 0, 0, 0, 0, 0, 0, 0, 0, 0, 0, 0, 0, 0, 0, 0, 0, 0, 0, 0, 0, 0, 0, 0, 0, 0, 0, 0, 0, 0, 0, 0, 0, 0, 0, 0, 0, 0, 0, 0, 0, 0, 0, 0, 0, 0, 0, 0, 0, 0, 0, 0, 0, 0, 0, 0, 0, 0, 0, 0, 0, 0, 0, 0, 0, 0, 0, 0, 0, 0, 0, 0, 0, 0, 0, 0, 0, 0, 0, 0, 0, 0, 0, 0, 0, 0, 0, 0, 0, 0, 0, 0, 0, 0, 0, 0, 0, 0, 0, 0, 0, 0, 0, 0, 0, 0, 0, 0, 0, 0, 0, 0, 0, 0, 0, 0, 0, 0, 0, 0, 0, 0, 0, 0, 0, 0, 0, 0, 0, 0, 0, 0, 0, 0, 0, 0, 0, 0, 0, 0, 0, 0, 0, 0, 0, 0, 0, 0, 0, 0, 0, 0, 0, 0, 0, 0, 0, 0, 0, 0, 0, 0, 0, 0, 0, 0, 0, 0, 0, 0, 0, 0, 0, 0, 0, 0, 0, 0, 0, 0, 0, 0, 0, 0, 0, 0, 0, 0, 0, 0, 0, 0, 0, 0, 0, 0, 0, 0, 0, 0, 0, 0, 0, 0, 0, 0, 0, 0, 0, 0, 0, 0, 0, 0, 0, 0, 0, 0, 0, 0, 0, 0, 0, 0, 0, 0, 0, 0, 0, 0, 0, 0, 0, 0, 0, 0, 0, 0, 0, 0, 0, 0, 0, 0, 0, 0, 0, 0, 0, 0, 0, 0, 0, 0, 0, 0, 0, 0, 0, 0, 0, 0, 0, 0, 0, 0, 0, 0, 0, 0, 0, 0, 0, 0, 0, 0, 0, 0, 0, 0, 0, 0, 0, 0, 0, 0, 0, 0, 0, 0, 0, 0, 0, 0, 0, 0, 0, 0, 0, 0, 0, 0, 0, 0, 0, 0, 0, 0, 0, 0, 0, 0, 0, 0, 0, 0, 0, 0, 0, 0, 0, 0, 0, 0, 0, 0, 0, 0, 0, 0, 0, 0, 0, 0, 0, 0, 0, 0, 0, 0, 0, 0, 0, 0, 0, 0, 0, 0, 0, 0, 0, 0, 0, 0, 0, 0, 0, 0, 0, 0, 0, 0, 0, 0, 0, 0, 0, 0, 0, 0, 0, 0, 0, 0, 0, 0, 0, 0, 0, 0, 0, 0, 0, 0, 0, 0, 0, 0, 0, 0, 0, 0, 0, 0, 0, 0, 0, 0, 0, 0, 0, 0, 0, 0, 0, 1, 0, 0, 0, 0, 0, 0, 0, 0, 0, 0, 0, 0, 0, 0, 0, 0, 0, 0, 0, 0, 0, 0, 0, 0, 0, 0, 0, 0, 0, 0, 0, 0, 0, 0, 0, 0, 0, 0, 0, 0, 0, 0, 0, 0, 0, 0, 0, 0, 0, 0, 0, 0, 0, 0, 0, 0, 0, 0, 0, 0, 0, 0, 0, 0, 0, 0, 0, 0, 0, 0, 0, 0, 0, 0, 0, 0, 0, 0, 0, 0, 0, 0, 0, 0, 0, 0, 0, 0, 0, 0, 0, 0, 0, 0, 0, 0, 0, 0, 0, 0, 0, 0, 0, 0, 0, 0, 0, 1, 0, 0, 0, 0, 0, 0, 0, 0, 0, 0, 0, 0, 0, 0, 0, 0, 0, 0, 0, 0, 0, 0, 0, 0, 0, 0, 0, 0, 0, 0, 0, 0, 0, 0, 0, 0, 0, 0, 0, 0, 0, 0, 0, 0, 0, 0, 0, 0, 0, 0, 0, 0, 0, 0, 0, 0, 0, 0, 0, 0, 0, 0, 0, 0, 0, 0, 0, 0, 0, 0, 0, 0, 0, 0, 0, 0, 0, 0, 0, 0, 0, 0, 0, 0, 0, 0, 0, 0, 0, 0, 0, 0, 0, 0, 0, 0, 0, 0, 0, 0, 0, 0, 0, 0, 0, 0, 0, 0, 0, 0, 0, 0, 0, 0, 0, 0, 0, 0, 0, 0, 0, 0, 0, 0, 0, 0, 0, 0, 0, 0, 0, 0, 0, 0, 0, 0, 0, 0, 0, 0, 0, 0, 0, 0, 0, 0, 0, 0, 0, 0, 0, 0, 0, 0, 0, 0, 0, 0, 0, 0, 0, 0, 0, 0, 0, 0, 0, 0, 0, 0, 0, 0, 0, 0, 0, 0, 0, 0, 0, 0, 0, 0, 0, 0, 0, 0, 0, 0, 0, 0, 0, 0, 0, 0, 0, 0, 0, 0, 0, 0, 0, 0, 0, 0, 0, 0, 0, 0, 0, 0, 0, 0, 0, 0, 0, 0, 0, 0, 0, 0, 0, 0, 0, 0, 0, 0, 0, 0, 0, 0, 0, 0, 0, 0, 0, 0, 0, 0, 0, 0, 0, 0, 0, 0, 0, 0, 0, 0, 0, 0, 0, 0, 0, 0, 0, 0, 0, 0, 0, 0, 0, 0, 0, 0, 0, 0, 0, 0, 0, 0, 0, 0, 0, 0, 0, 0, 0, 0, 0, 0, 0, 0, 0, 0, 0, 0, 0, 0, 0, 0, 0, 0, 0, 0, 0, 0, 0, 0, 0, 0, 0, 0, 0, 0, 0, 0, 0, 0, 0, 0, 0, 0, 0, 0, 0, 0, 0, 0, 0, 0, 0, 0, 0, 0, 0, 0, 0, 0, 0, 0, 0, 0, 0, 0, 0, 0, 0, 0, 0, 0, 0, 0, 0, 0, 0, 0, 0, 0, 0, 0, 0, 0, 0, 0, 0, 0, 0, 0, 0, 0, 0, 0, 0, 0, 0, 0, 0, 0, 0, 0, 0, 0, 0, 0, 0, 0, 0, 0, 0, 0, 0, 0, 0, 0, 0, 0, 0, 0, 0, 0, 0, 0, 0, 0, 0, 0, 0, 0, 0, 0, 0, 0, 0, 0, 0, 0, 0, 0, 0, 0, 0, 0, 0, 0, 0, 0, 0, 0, 0, 0, 0, 0, 0, 0, 0, 0, 0, 0, 0, 0, 0, 0, 0, 0, 0, 0, 0, 0, 0, 0, 0, 0, 0, 0, 0, 0, 0, 0, 0, 0, 0, 0, 0, 0, 0, 0, 0, 0, 0, 0, 0, 0, 0, 2, 0, 1, 0]\n"
     ]
    }
   ],
   "source": [
    "test_bow = bow_encoding(test_words, vocabulary)\n",
    "print(test_bow)"
   ]
  },
  {
   "cell_type": "code",
   "execution_count": 44,
   "metadata": {},
   "outputs": [
    {
     "data": {
      "text/plain": [
       "5000"
      ]
     },
     "execution_count": 44,
     "metadata": {},
     "output_type": "execute_result"
    }
   ],
   "source": [
    "len(test_bow)"
   ]
  },
  {
   "cell_type": "markdown",
   "metadata": {},
   "source": [
    "So now we know how to construct a bag of words encoding of a user provided review, how to we send it to our endpoint? First, we need to start the endpoint back up."
   ]
  },
  {
   "cell_type": "code",
   "execution_count": null,
   "metadata": {},
   "outputs": [
    {
     "name": "stdout",
     "output_type": "stream",
     "text": [
      "---------------------------------------------"
     ]
    }
   ],
   "source": [
    "xgb_predictor = xgb.deploy(initial_instance_count = 1, instance_type = 'ml.m4.xlarge')"
   ]
  },
  {
   "cell_type": "markdown",
   "metadata": {},
   "source": [
    "At this point we could just do the same thing that we did earlier when we tested our deployed model and send `test_bow` to our endpoint using the `xgb_predictor` object. However, when we eventually construct our Lambda function we won't have access to this object, so how do we call a SageMaker endpoint?\n",
    "\n",
    "It turns out that Python functions that are used in Lambda have access to another Amazon library called `boto3`. This library provides an API for working with Amazon services, including SageMaker. To start with, we need to get a handle to the SageMaker runtime."
   ]
  },
  {
   "cell_type": "code",
   "execution_count": 46,
   "metadata": {},
   "outputs": [],
   "source": [
    "import boto3\n",
    "\n",
    "runtime = boto3.Session().client('sagemaker-runtime')"
   ]
  },
  {
   "cell_type": "markdown",
   "metadata": {},
   "source": [
    "And now that we have access to the SageMaker runtime, we can ask it to make use of (invoke) an endpoint that has already been created. However, we need to provide SageMaker with the name of the deployed endpoint. To find this out we can print it out using the `xgb_predictor` object."
   ]
  },
  {
   "cell_type": "code",
   "execution_count": 47,
   "metadata": {},
   "outputs": [
    {
     "data": {
      "text/plain": [
       "'xgboost-2019-05-12-07-25-42-881'"
      ]
     },
     "execution_count": 47,
     "metadata": {},
     "output_type": "execute_result"
    }
   ],
   "source": [
    "xgb_predictor.endpoint"
   ]
  },
  {
   "cell_type": "markdown",
   "metadata": {},
   "source": [
    "Using the SageMaker runtime and the name of our endpoint, we can invoke the endpoint and send it the `test_bow` data."
   ]
  },
  {
   "cell_type": "code",
   "execution_count": 48,
   "metadata": {},
   "outputs": [
    {
     "ename": "ParamValidationError",
     "evalue": "Parameter validation failed:\nInvalid type for parameter Body, value: [0, 0, 0, 0, 0, 0, 0, 0, 0, 0, 0, 0, 0, 0, 0, 0, 0, 0, 0, 0, 0, 0, 0, 0, 0, 0, 0, 0, 0, 0, 0, 0, 0, 0, 0, 0, 0, 0, 0, 0, 0, 0, 0, 0, 0, 0, 0, 0, 0, 0, 0, 0, 0, 0, 0, 0, 0, 0, 0, 0, 0, 0, 0, 0, 0, 0, 0, 0, 0, 0, 0, 0, 0, 0, 0, 0, 0, 0, 0, 0, 0, 0, 0, 0, 0, 0, 0, 0, 0, 0, 0, 0, 0, 0, 0, 0, 0, 0, 0, 0, 0, 0, 0, 0, 0, 0, 0, 0, 0, 0, 0, 0, 0, 0, 0, 0, 0, 0, 0, 0, 0, 0, 0, 0, 0, 0, 0, 0, 0, 0, 0, 0, 0, 0, 0, 0, 0, 0, 0, 0, 0, 0, 0, 0, 0, 0, 0, 0, 0, 0, 0, 0, 0, 0, 0, 0, 0, 0, 0, 0, 0, 0, 0, 0, 0, 0, 0, 0, 0, 0, 0, 0, 0, 0, 0, 0, 0, 0, 0, 0, 0, 0, 0, 0, 0, 0, 0, 0, 0, 0, 0, 0, 0, 0, 0, 0, 0, 0, 0, 0, 0, 0, 0, 0, 0, 0, 0, 0, 0, 0, 0, 0, 0, 0, 0, 0, 0, 0, 0, 0, 0, 0, 0, 0, 0, 0, 1, 0, 0, 0, 0, 0, 0, 0, 0, 0, 0, 0, 0, 0, 0, 0, 0, 0, 0, 0, 0, 0, 0, 0, 0, 0, 0, 0, 0, 0, 1, 0, 0, 0, 0, 0, 0, 0, 0, 0, 0, 0, 0, 0, 0, 0, 0, 0, 0, 0, 0, 0, 0, 0, 0, 0, 0, 0, 0, 0, 0, 0, 0, 0, 0, 0, 0, 0, 0, 0, 0, 0, 0, 0, 0, 0, 0, 0, 0, 0, 0, 0, 0, 0, 0, 0, 0, 0, 0, 0, 0, 0, 0, 0, 0, 0, 0, 0, 0, 0, 0, 0, 0, 0, 0, 0, 0, 0, 0, 0, 0, 0, 0, 0, 0, 0, 0, 0, 0, 0, 0, 0, 0, 0, 0, 0, 0, 0, 0, 0, 0, 0, 0, 0, 0, 0, 0, 0, 0, 0, 0, 0, 0, 0, 0, 0, 0, 0, 0, 0, 0, 0, 0, 0, 0, 0, 0, 0, 0, 0, 0, 0, 0, 0, 0, 0, 0, 0, 0, 0, 0, 0, 0, 0, 0, 0, 0, 0, 0, 0, 0, 0, 0, 0, 0, 0, 0, 0, 0, 0, 0, 0, 0, 0, 0, 0, 0, 0, 0, 0, 0, 0, 0, 0, 0, 0, 0, 0, 0, 0, 0, 0, 0, 0, 0, 0, 0, 0, 0, 0, 0, 0, 0, 0, 0, 0, 0, 0, 0, 0, 0, 0, 0, 0, 0, 0, 0, 0, 0, 0, 0, 0, 0, 0, 0, 0, 0, 0, 0, 0, 0, 0, 0, 0, 0, 0, 0, 0, 0, 0, 0, 0, 0, 0, 0, 0, 0, 0, 0, 0, 0, 0, 0, 0, 0, 0, 0, 0, 0, 0, 0, 0, 0, 0, 0, 0, 0, 0, 0, 0, 0, 0, 0, 0, 0, 0, 0, 0, 0, 0, 0, 0, 0, 0, 0, 0, 0, 0, 0, 0, 0, 0, 0, 0, 0, 0, 0, 0, 0, 0, 0, 0, 0, 0, 0, 0, 0, 0, 0, 0, 0, 0, 0, 0, 0, 0, 0, 0, 0, 0, 0, 0, 0, 0, 0, 0, 0, 0, 0, 0, 0, 0, 0, 0, 0, 0, 0, 0, 0, 0, 0, 0, 0, 0, 0, 0, 0, 0, 0, 0, 0, 0, 0, 0, 0, 0, 0, 0, 0, 0, 0, 0, 0, 0, 0, 0, 0, 0, 0, 0, 0, 0, 0, 0, 0, 0, 0, 0, 0, 0, 0, 0, 0, 0, 0, 0, 0, 0, 0, 0, 1, 0, 0, 0, 0, 0, 0, 0, 0, 0, 0, 0, 0, 0, 0, 0, 0, 0, 0, 0, 0, 0, 0, 0, 0, 0, 0, 0, 0, 0, 0, 0, 0, 0, 0, 0, 0, 0, 0, 0, 0, 0, 0, 0, 0, 0, 0, 0, 0, 0, 0, 0, 0, 0, 0, 0, 0, 0, 0, 0, 0, 0, 0, 0, 0, 0, 0, 0, 0, 0, 0, 0, 0, 0, 0, 0, 0, 0, 0, 0, 0, 0, 0, 0, 0, 0, 0, 0, 0, 0, 0, 0, 0, 0, 0, 0, 0, 0, 0, 0, 0, 0, 0, 0, 0, 0, 0, 0, 0, 0, 0, 0, 0, 0, 0, 0, 0, 0, 0, 0, 0, 0, 0, 0, 0, 0, 0, 0, 0, 0, 0, 0, 0, 0, 0, 0, 0, 0, 0, 0, 0, 0, 0, 0, 0, 0, 0, 0, 0, 0, 0, 0, 0, 0, 0, 0, 0, 0, 0, 0, 0, 0, 0, 0, 0, 0, 0, 0, 0, 0, 0, 0, 0, 0, 0, 0, 0, 0, 0, 0, 0, 0, 0, 0, 0, 0, 0, 0, 0, 0, 0, 0, 0, 0, 0, 0, 0, 0, 0, 0, 0, 0, 0, 0, 0, 0, 0, 0, 0, 0, 0, 0, 0, 0, 0, 0, 0, 0, 0, 0, 0, 0, 0, 0, 0, 0, 0, 0, 0, 0, 0, 0, 0, 0, 0, 0, 0, 0, 0, 0, 0, 0, 0, 0, 0, 0, 0, 0, 0, 0, 0, 0, 0, 0, 1, 0, 0, 0, 0, 0, 0, 0, 0, 0, 0, 0, 0, 0, 0, 0, 0, 0, 0, 0, 0, 0, 0, 0, 0, 0, 0, 0, 0, 0, 0, 0, 0, 0, 0, 0, 0, 0, 0, 0, 0, 0, 0, 0, 0, 0, 0, 0, 0, 0, 0, 0, 0, 0, 0, 0, 0, 0, 0, 0, 0, 0, 0, 0, 0, 0, 0, 0, 0, 0, 0, 0, 0, 0, 0, 0, 0, 0, 0, 0, 0, 0, 0, 0, 0, 0, 0, 1, 0, 0, 0, 0, 0, 0, 0, 0, 0, 0, 0, 0, 0, 0, 0, 0, 0, 0, 0, 0, 0, 0, 0, 0, 0, 0, 0, 0, 0, 0, 0, 0, 0, 0, 0, 0, 0, 0, 0, 0, 0, 0, 0, 0, 0, 0, 0, 0, 0, 0, 0, 0, 0, 0, 0, 0, 0, 0, 0, 0, 0, 0, 0, 0, 0, 0, 0, 0, 0, 0, 0, 0, 0, 0, 0, 0, 0, 0, 0, 0, 0, 0, 0, 0, 0, 0, 0, 0, 0, 0, 0, 0, 0, 0, 0, 0, 0, 0, 0, 0, 0, 0, 0, 0, 0, 0, 0, 0, 0, 0, 0, 0, 0, 0, 0, 0, 0, 0, 0, 0, 0, 0, 0, 0, 0, 0, 0, 0, 0, 0, 0, 0, 0, 0, 0, 0, 0, 0, 0, 0, 0, 0, 0, 0, 0, 0, 0, 0, 0, 0, 0, 0, 0, 0, 0, 0, 0, 0, 0, 0, 0, 0, 0, 0, 0, 0, 0, 0, 0, 0, 0, 0, 0, 0, 0, 0, 0, 0, 0, 0, 0, 0, 0, 0, 0, 0, 0, 0, 0, 0, 0, 0, 0, 0, 0, 0, 0, 0, 0, 0, 0, 0, 0, 0, 0, 0, 0, 0, 0, 0, 0, 0, 0, 0, 0, 0, 0, 0, 0, 0, 0, 0, 0, 0, 0, 0, 0, 0, 0, 0, 0, 0, 0, 0, 0, 0, 0, 0, 0, 0, 0, 0, 0, 0, 0, 0, 0, 0, 0, 0, 0, 0, 1, 0, 0, 0, 0, 0, 0, 0, 0, 0, 0, 0, 0, 0, 0, 0, 0, 0, 0, 0, 0, 0, 0, 0, 0, 0, 0, 0, 0, 0, 0, 0, 0, 0, 0, 0, 0, 0, 0, 0, 0, 0, 0, 0, 0, 0, 0, 0, 0, 0, 0, 0, 0, 0, 0, 0, 1, 0, 0, 0, 0, 0, 0, 0, 0, 0, 0, 0, 0, 0, 0, 0, 0, 0, 0, 0, 0, 0, 0, 0, 0, 0, 0, 0, 0, 0, 0, 0, 0, 0, 0, 0, 0, 0, 0, 0, 0, 0, 0, 0, 0, 0, 0, 0, 0, 0, 0, 0, 0, 0, 0, 0, 0, 0, 0, 0, 0, 0, 0, 0, 0, 0, 0, 0, 0, 0, 0, 0, 0, 0, 0, 0, 0, 0, 0, 0, 0, 0, 0, 0, 0, 0, 0, 0, 0, 0, 0, 0, 0, 0, 0, 0, 0, 0, 0, 0, 0, 0, 0, 0, 0, 0, 0, 0, 0, 0, 0, 0, 0, 0, 0, 0, 0, 0, 0, 0, 0, 0, 0, 0, 0, 0, 0, 0, 0, 0, 0, 0, 0, 0, 0, 0, 0, 0, 0, 0, 0, 0, 0, 0, 0, 0, 0, 0, 0, 0, 0, 0, 0, 0, 0, 0, 0, 0, 0, 0, 0, 0, 0, 0, 0, 0, 0, 0, 0, 0, 0, 0, 0, 0, 0, 0, 0, 0, 0, 0, 0, 0, 0, 0, 0, 0, 0, 0, 0, 0, 0, 0, 0, 0, 0, 0, 0, 0, 0, 0, 0, 0, 0, 0, 0, 0, 0, 0, 0, 0, 0, 0, 0, 0, 0, 0, 0, 0, 0, 0, 0, 0, 0, 0, 0, 0, 0, 0, 0, 0, 0, 0, 0, 0, 0, 0, 0, 0, 0, 0, 0, 0, 0, 0, 0, 0, 0, 0, 0, 0, 0, 0, 0, 0, 0, 0, 0, 0, 0, 0, 0, 0, 0, 0, 0, 0, 0, 0, 0, 0, 0, 0, 0, 0, 0, 0, 0, 0, 0, 0, 0, 0, 0, 0, 0, 0, 0, 0, 0, 0, 0, 0, 0, 0, 0, 0, 0, 0, 0, 0, 0, 0, 0, 0, 0, 0, 0, 0, 0, 0, 0, 0, 0, 0, 0, 0, 0, 0, 0, 0, 0, 0, 0, 0, 0, 0, 0, 0, 0, 0, 0, 0, 0, 0, 0, 0, 0, 0, 0, 0, 0, 0, 0, 0, 0, 0, 0, 0, 0, 0, 0, 0, 0, 0, 0, 0, 0, 0, 0, 0, 0, 0, 0, 0, 0, 0, 0, 0, 0, 0, 0, 0, 0, 0, 0, 0, 0, 0, 0, 0, 0, 0, 0, 0, 0, 0, 0, 0, 0, 0, 0, 0, 0, 0, 0, 0, 0, 0, 0, 0, 0, 0, 0, 0, 0, 0, 0, 0, 0, 0, 0, 0, 0, 0, 0, 0, 0, 0, 0, 0, 0, 0, 0, 0, 0, 0, 0, 0, 0, 0, 0, 0, 0, 0, 0, 0, 0, 0, 0, 0, 0, 0, 0, 0, 0, 0, 0, 0, 0, 0, 0, 0, 0, 0, 0, 0, 0, 0, 0, 0, 0, 0, 0, 0, 0, 0, 0, 0, 0, 0, 0, 0, 0, 0, 0, 0, 0, 0, 0, 0, 0, 0, 0, 0, 0, 0, 0, 0, 0, 0, 0, 0, 0, 0, 0, 0, 0, 0, 0, 0, 0, 0, 0, 0, 0, 0, 0, 0, 0, 0, 0, 0, 0, 0, 0, 0, 0, 0, 0, 0, 0, 0, 0, 0, 0, 0, 0, 0, 0, 0, 0, 0, 0, 0, 0, 0, 0, 0, 0, 0, 0, 0, 0, 0, 0, 0, 0, 0, 0, 0, 0, 0, 0, 0, 0, 0, 0, 0, 0, 0, 0, 0, 0, 0, 0, 0, 0, 0, 0, 0, 0, 0, 0, 0, 0, 0, 0, 0, 0, 0, 0, 0, 0, 0, 0, 0, 0, 0, 0, 0, 0, 0, 0, 0, 0, 0, 0, 0, 0, 0, 0, 0, 0, 0, 0, 0, 0, 0, 0, 0, 0, 0, 0, 0, 0, 0, 0, 0, 0, 0, 0, 0, 0, 0, 0, 0, 0, 0, 0, 0, 0, 0, 0, 0, 0, 0, 0, 0, 0, 0, 0, 0, 0, 0, 0, 0, 0, 0, 0, 0, 0, 0, 0, 0, 0, 0, 0, 0, 0, 0, 0, 0, 0, 0, 0, 0, 0, 0, 0, 0, 0, 0, 0, 0, 0, 0, 0, 0, 0, 0, 0, 0, 1, 0, 0, 0, 0, 0, 0, 0, 0, 0, 0, 0, 0, 0, 0, 0, 0, 0, 0, 0, 0, 0, 0, 0, 0, 0, 0, 0, 0, 0, 0, 0, 0, 0, 0, 0, 0, 0, 0, 0, 0, 0, 0, 0, 0, 0, 0, 0, 0, 0, 0, 0, 0, 0, 0, 0, 0, 0, 0, 0, 0, 0, 0, 0, 0, 0, 0, 0, 0, 0, 0, 0, 0, 0, 0, 1, 0, 0, 0, 0, 0, 0, 0, 0, 0, 0, 0, 0, 0, 0, 0, 0, 0, 0, 0, 0, 1, 0, 0, 1, 0, 0, 0, 0, 0, 0, 0, 0, 0, 0, 0, 0, 0, 0, 0, 0, 0, 0, 0, 0, 0, 0, 0, 0, 0, 0, 0, 0, 0, 0, 0, 0, 0, 0, 0, 0, 0, 0, 0, 0, 0, 0, 0, 0, 0, 0, 0, 0, 0, 0, 0, 0, 0, 0, 0, 0, 0, 0, 0, 0, 0, 0, 0, 0, 0, 0, 0, 0, 0, 0, 0, 0, 0, 0, 0, 0, 0, 0, 0, 0, 0, 0, 0, 0, 0, 0, 0, 0, 0, 0, 0, 0, 0, 0, 0, 0, 0, 0, 0, 0, 0, 0, 0, 0, 0, 0, 0, 0, 0, 0, 0, 0, 0, 0, 0, 0, 0, 0, 0, 0, 0, 0, 0, 0, 0, 0, 0, 0, 0, 0, 0, 0, 0, 0, 0, 0, 0, 0, 0, 0, 0, 0, 0, 0, 0, 0, 0, 0, 0, 0, 0, 0, 0, 0, 0, 0, 0, 0, 0, 0, 0, 0, 0, 0, 0, 0, 0, 0, 0, 0, 0, 0, 0, 0, 0, 0, 0, 0, 0, 0, 0, 0, 0, 0, 0, 0, 0, 0, 0, 0, 0, 0, 0, 0, 0, 0, 0, 0, 0, 0, 0, 0, 0, 0, 0, 0, 0, 0, 0, 0, 0, 0, 0, 0, 0, 0, 0, 0, 0, 0, 0, 0, 0, 0, 0, 0, 0, 0, 0, 0, 0, 0, 0, 0, 0, 0, 0, 0, 0, 0, 0, 0, 0, 0, 0, 0, 0, 0, 0, 0, 0, 0, 0, 0, 0, 0, 0, 0, 0, 0, 0, 0, 0, 0, 0, 0, 0, 0, 0, 0, 0, 0, 0, 0, 0, 0, 0, 0, 0, 0, 0, 0, 0, 0, 0, 0, 0, 0, 0, 0, 0, 0, 0, 0, 0, 0, 0, 0, 0, 0, 0, 0, 0, 0, 0, 0, 0, 0, 0, 0, 0, 0, 0, 0, 0, 0, 0, 0, 0, 0, 0, 0, 0, 0, 0, 0, 0, 0, 0, 0, 0, 0, 0, 0, 0, 0, 0, 0, 0, 0, 0, 0, 0, 0, 0, 0, 0, 0, 0, 0, 0, 0, 0, 0, 0, 0, 0, 0, 0, 0, 0, 0, 0, 0, 0, 0, 0, 0, 0, 0, 0, 0, 0, 0, 0, 0, 0, 0, 0, 0, 0, 0, 0, 0, 0, 0, 0, 0, 0, 0, 0, 0, 0, 0, 0, 0, 0, 0, 0, 0, 0, 0, 0, 0, 0, 0, 0, 0, 0, 0, 0, 0, 0, 0, 0, 0, 0, 0, 0, 0, 0, 0, 0, 0, 0, 0, 0, 0, 0, 0, 0, 0, 0, 0, 0, 0, 0, 0, 0, 0, 0, 0, 0, 0, 0, 0, 0, 0, 0, 0, 0, 0, 0, 0, 0, 0, 0, 0, 0, 0, 0, 0, 0, 0, 0, 0, 1, 0, 0, 0, 0, 0, 0, 0, 0, 0, 0, 0, 0, 0, 0, 0, 0, 0, 0, 0, 0, 0, 0, 0, 0, 0, 0, 0, 0, 0, 0, 0, 0, 0, 0, 0, 0, 0, 0, 0, 0, 0, 0, 0, 0, 0, 0, 0, 0, 0, 0, 0, 0, 0, 0, 0, 0, 0, 0, 0, 0, 0, 0, 0, 0, 0, 0, 0, 0, 0, 0, 0, 0, 0, 0, 0, 0, 0, 0, 0, 0, 0, 0, 0, 0, 0, 0, 0, 0, 0, 0, 0, 0, 0, 0, 0, 0, 0, 0, 0, 0, 0, 0, 0, 0, 0, 0, 0, 0, 0, 0, 0, 0, 0, 0, 0, 0, 0, 0, 0, 0, 0, 0, 0, 0, 0, 0, 0, 0, 0, 0, 0, 0, 0, 0, 0, 0, 0, 0, 0, 0, 0, 0, 0, 0, 0, 0, 0, 0, 0, 0, 0, 0, 0, 0, 0, 0, 0, 0, 0, 0, 0, 0, 0, 0, 0, 0, 0, 0, 0, 0, 0, 0, 0, 0, 0, 0, 0, 0, 0, 0, 0, 0, 0, 0, 0, 0, 0, 0, 0, 0, 0, 0, 0, 0, 0, 0, 0, 0, 0, 0, 0, 0, 0, 0, 0, 0, 0, 0, 0, 0, 0, 0, 0, 0, 0, 0, 0, 0, 0, 0, 0, 0, 0, 0, 0, 0, 0, 0, 0, 0, 0, 0, 0, 0, 0, 0, 0, 0, 0, 0, 0, 0, 0, 0, 0, 0, 0, 0, 0, 0, 0, 0, 0, 0, 0, 0, 0, 0, 0, 0, 0, 0, 0, 0, 0, 0, 0, 0, 0, 0, 0, 0, 0, 0, 0, 0, 0, 0, 0, 0, 0, 0, 0, 0, 0, 0, 0, 0, 0, 0, 0, 0, 0, 0, 0, 0, 0, 0, 0, 0, 0, 0, 0, 0, 0, 0, 0, 0, 0, 0, 0, 0, 0, 0, 0, 0, 0, 0, 0, 0, 0, 0, 0, 0, 0, 0, 0, 0, 0, 0, 0, 0, 0, 0, 0, 0, 0, 0, 0, 0, 0, 0, 0, 0, 0, 0, 0, 0, 0, 0, 0, 0, 0, 0, 0, 0, 0, 0, 0, 0, 0, 0, 0, 0, 0, 0, 0, 0, 0, 0, 0, 0, 0, 0, 0, 0, 0, 0, 0, 0, 0, 0, 0, 0, 0, 0, 0, 0, 0, 0, 0, 0, 0, 0, 0, 0, 0, 0, 0, 0, 0, 0, 0, 0, 0, 0, 0, 0, 0, 0, 0, 0, 0, 0, 0, 0, 0, 0, 0, 0, 0, 0, 0, 0, 0, 0, 0, 0, 0, 0, 0, 0, 0, 0, 0, 0, 0, 0, 0, 0, 0, 0, 0, 0, 0, 0, 0, 0, 0, 0, 0, 0, 0, 0, 0, 0, 0, 0, 0, 0, 0, 0, 0, 0, 0, 0, 0, 0, 0, 0, 0, 0, 0, 0, 0, 0, 0, 0, 0, 0, 0, 0, 0, 0, 0, 0, 0, 0, 0, 0, 0, 0, 0, 0, 0, 0, 0, 0, 0, 0, 0, 0, 0, 0, 0, 0, 0, 0, 0, 0, 0, 0, 1, 0, 0, 0, 0, 0, 0, 0, 0, 0, 0, 0, 0, 0, 0, 0, 0, 0, 0, 0, 0, 0, 0, 0, 0, 0, 0, 0, 0, 0, 0, 0, 0, 0, 0, 0, 2, 0, 0, 0, 0, 0, 0, 0, 0, 0, 0, 0, 0, 0, 0, 0, 0, 0, 0, 0, 0, 0, 0, 0, 0, 0, 0, 0, 0, 0, 0, 0, 0, 0, 0, 0, 0, 0, 0, 0, 0, 1, 0, 0, 0, 0, 0, 0, 0, 0, 0, 0, 0, 0, 0, 0, 0, 0, 0, 0, 0, 0, 0, 0, 0, 0, 0, 0, 0, 0, 0, 0, 0, 0, 0, 0, 0, 0, 0, 0, 0, 0, 0, 0, 0, 0, 0, 0, 0, 0, 0, 0, 0, 0, 0, 0, 0, 0, 0, 0, 0, 0, 0, 0, 0, 0, 0, 0, 0, 0, 0, 0, 0, 0, 0, 0, 0, 0, 0, 0, 0, 0, 0, 0, 0, 0, 0, 0, 0, 0, 0, 0, 0, 0, 0, 0, 0, 0, 0, 0, 0, 0, 0, 0, 0, 0, 0, 0, 0, 0, 0, 0, 0, 0, 0, 0, 0, 0, 0, 0, 0, 0, 0, 0, 0, 0, 0, 0, 0, 0, 0, 0, 0, 0, 0, 0, 0, 0, 0, 0, 0, 0, 0, 0, 0, 0, 0, 0, 0, 0, 0, 0, 0, 0, 0, 0, 0, 0, 0, 0, 0, 0, 0, 0, 0, 0, 0, 0, 0, 0, 0, 0, 0, 0, 0, 0, 0, 0, 0, 0, 0, 0, 0, 0, 0, 0, 0, 0, 0, 0, 0, 0, 0, 0, 0, 0, 0, 0, 0, 0, 0, 0, 0, 0, 0, 0, 0, 0, 0, 0, 0, 0, 0, 0, 0, 0, 0, 0, 0, 0, 0, 0, 0, 0, 0, 0, 0, 0, 0, 0, 0, 0, 0, 0, 0, 0, 0, 0, 0, 0, 0, 0, 0, 0, 0, 0, 0, 0, 0, 0, 0, 0, 0, 0, 0, 0, 0, 0, 0, 0, 0, 0, 0, 0, 0, 0, 0, 0, 0, 0, 0, 0, 0, 0, 0, 0, 0, 0, 0, 0, 0, 0, 0, 0, 0, 0, 0, 0, 0, 0, 0, 0, 0, 0, 0, 0, 0, 0, 0, 0, 0, 0, 0, 0, 0, 0, 0, 0, 0, 0, 0, 0, 0, 0, 0, 0, 0, 0, 0, 0, 0, 0, 0, 0, 0, 0, 0, 0, 0, 0, 0, 0, 0, 0, 0, 0, 0, 0, 0, 0, 0, 0, 0, 0, 0, 0, 0, 0, 0, 0, 0, 0, 0, 0, 0, 0, 0, 0, 0, 0, 0, 0, 0, 0, 0, 0, 0, 0, 0, 0, 0, 0, 0, 0, 0, 0, 0, 0, 0, 0, 0, 0, 0, 0, 0, 0, 0, 0, 0, 0, 0, 0, 0, 0, 0, 0, 0, 0, 0, 0, 0, 0, 0, 0, 0, 0, 0, 0, 0, 0, 0, 0, 0, 0, 0, 0, 0, 0, 0, 0, 0, 0, 0, 0, 0, 0, 0, 0, 0, 0, 0, 0, 0, 0, 0, 0, 0, 0, 0, 0, 0, 0, 0, 0, 0, 0, 0, 0, 0, 0, 0, 0, 0, 0, 0, 0, 0, 0, 0, 0, 0, 0, 0, 0, 0, 0, 0, 0, 0, 0, 0, 0, 0, 0, 0, 0, 0, 0, 0, 0, 0, 0, 0, 0, 0, 0, 0, 0, 0, 0, 0, 0, 0, 0, 0, 0, 0, 0, 0, 1, 0, 0, 0, 0, 0, 0, 0, 0, 0, 0, 0, 0, 0, 0, 0, 0, 0, 0, 0, 0, 0, 0, 0, 0, 0, 0, 0, 0, 0, 0, 0, 0, 0, 0, 0, 0, 0, 0, 0, 0, 0, 0, 0, 0, 0, 0, 0, 0, 0, 0, 0, 0, 0, 0, 0, 0, 0, 0, 0, 0, 0, 0, 0, 0, 0, 0, 0, 0, 0, 0, 0, 0, 0, 0, 0, 0, 0, 0, 0, 0, 0, 0, 0, 0, 0, 0, 0, 0, 0, 0, 0, 0, 0, 0, 0, 0, 0, 0, 0, 0, 0, 0, 0, 0, 0, 0, 0, 0, 0, 0, 2, 0, 0, 0, 0, 0, 0, 0, 0, 0, 0, 0, 0, 0, 0, 0, 0, 0, 0, 0, 0, 0, 0, 0, 0, 0, 0, 0, 0, 0, 0, 0, 0, 0, 0, 0, 0, 0, 0, 0, 0, 0, 0, 0, 0, 0, 0, 0, 0, 0, 0, 0, 0, 0, 0, 0, 0, 0, 0, 0, 0, 0, 0, 0, 0, 0, 0, 0, 0, 0, 0, 0, 0, 0, 0, 0, 0, 0, 0, 0, 0, 0, 0, 0, 0, 0, 0, 0, 0, 0, 0, 0, 0, 0, 0, 0, 0, 0, 0, 0, 0, 0, 0, 0, 0, 0, 0, 0, 0, 0, 0, 0, 0, 0, 0, 0, 0, 0, 0, 0, 0, 0, 0, 0, 0, 0, 0, 0, 0, 0, 0, 0, 0, 0, 0, 0, 0, 0, 0, 0, 0, 0, 0, 0, 0, 0, 0, 0, 0, 0, 0, 0, 0, 0, 0, 0, 0, 0, 0, 0, 0, 0, 0, 0, 0, 0, 0, 0, 0, 0, 0, 0, 0, 0, 0, 0, 0, 0, 0, 0, 0, 0, 0, 0, 0, 0, 0, 0, 0, 0, 0, 0, 0, 0, 0, 0, 0, 0, 0, 0, 0, 0, 0, 0, 0, 0, 0, 0, 0, 0, 0, 0, 0, 0, 0, 0, 0, 0, 0, 0, 0, 0, 0, 0, 0, 0, 0, 0, 0, 0, 0, 0, 0, 0, 0, 0, 0, 0, 0, 0, 0, 0, 0, 0, 0, 0, 0, 0, 0, 0, 0, 0, 0, 0, 0, 0, 0, 0, 0, 0, 0, 0, 0, 0, 0, 0, 0, 0, 0, 0, 0, 0, 0, 0, 0, 0, 0, 0, 0, 0, 0, 0, 0, 0, 0, 0, 0, 0, 0, 0, 0, 0, 0, 0, 0, 0, 0, 0, 0, 0, 0, 0, 0, 0, 0, 0, 0, 0, 0, 0, 0, 0, 0, 0, 0, 0, 0, 0, 0, 0, 0, 0, 0, 0, 0, 0, 0, 0, 0, 0, 0, 0, 0, 0, 0, 0, 0, 0, 0, 0, 0, 0, 0, 0, 0, 0, 0, 0, 0, 0, 0, 0, 0, 0, 0, 0, 0, 0, 0, 0, 0, 0, 0, 0, 0, 0, 0, 0, 0, 0, 0, 0, 0, 0, 0, 0, 0, 0, 0, 0, 0, 0, 0, 0, 0, 0, 0, 0, 0, 0, 0, 0, 0, 0, 0, 0, 0, 0, 0, 0, 0, 0, 0, 0, 0, 0, 0, 0, 0, 0, 0, 0, 0, 0, 0, 0, 0, 0, 0, 0, 0, 0, 0, 0, 0, 0, 0, 0, 0, 0, 0, 0, 0, 0, 0, 0, 0, 0, 0, 0, 0, 0, 0, 0, 0, 0, 0, 0, 0, 0, 0, 0, 0, 0, 0, 0, 0, 0, 0, 0, 0, 0, 0, 0, 0, 0, 0, 0, 0, 0, 0, 0, 0, 0, 0, 0, 0, 0, 0, 0, 0, 0, 0, 0, 0, 0, 0, 0, 0, 0, 0, 0, 0, 0, 0, 0, 0, 0, 0, 0, 0, 0, 0, 0, 0, 0, 0, 0, 0, 0, 0, 0, 0, 0, 0, 0, 0, 0, 0, 0, 0, 0, 0, 0, 0, 0, 0, 0, 0, 0, 0, 0, 0, 0, 0, 0, 0, 0, 0, 0, 0, 0, 0, 0, 0, 0, 0, 0, 0, 0, 0, 0, 0, 0, 0, 0, 0, 0, 0, 0, 0, 0, 0, 0, 0, 0, 0, 0, 0, 0, 0, 0, 0, 0, 0, 0, 0, 0, 0, 0, 0, 0, 0, 0, 0, 0, 0, 0, 0, 0, 0, 0, 0, 0, 0, 0, 0, 0, 0, 0, 0, 0, 0, 0, 0, 0, 0, 0, 0, 0, 0, 0, 0, 0, 0, 0, 0, 0, 0, 0, 0, 0, 0, 0, 0, 0, 0, 0, 0, 0, 0, 0, 0, 0, 0, 0, 0, 0, 0, 0, 0, 0, 0, 0, 0, 0, 0, 0, 0, 0, 0, 0, 0, 0, 0, 0, 0, 0, 0, 0, 0, 0, 0, 0, 0, 0, 0, 0, 0, 0, 0, 0, 0, 0, 0, 0, 0, 0, 0, 0, 0, 0, 0, 0, 0, 0, 0, 0, 0, 0, 0, 1, 0, 0, 0, 0, 0, 0, 0, 0, 0, 0, 0, 0, 0, 0, 0, 0, 0, 0, 0, 0, 0, 0, 0, 0, 0, 0, 0, 0, 0, 0, 0, 0, 0, 0, 0, 0, 0, 0, 0, 0, 0, 0, 0, 0, 0, 0, 0, 0, 0, 0, 0, 0, 0, 0, 0, 0, 0, 0, 0, 0, 0, 0, 0, 0, 0, 0, 0, 0, 0, 0, 0, 0, 0, 0, 0, 0, 0, 0, 0, 0, 0, 0, 0, 0, 0, 0, 0, 0, 0, 0, 0, 0, 0, 0, 0, 0, 0, 0, 0, 0, 0, 0, 0, 0, 0, 0, 0, 1, 0, 0, 0, 0, 0, 0, 0, 0, 0, 0, 0, 0, 0, 0, 0, 0, 0, 0, 0, 0, 0, 0, 0, 0, 0, 0, 0, 0, 0, 0, 0, 0, 0, 0, 0, 0, 0, 0, 0, 0, 0, 0, 0, 0, 0, 0, 0, 0, 0, 0, 0, 0, 0, 0, 0, 0, 0, 0, 0, 0, 0, 0, 0, 0, 0, 0, 0, 0, 0, 0, 0, 0, 0, 0, 0, 0, 0, 0, 0, 0, 0, 0, 0, 0, 0, 0, 0, 0, 0, 0, 0, 0, 0, 0, 0, 0, 0, 0, 0, 0, 0, 0, 0, 0, 0, 0, 0, 0, 0, 0, 0, 0, 0, 0, 0, 0, 0, 0, 0, 0, 0, 0, 0, 0, 0, 0, 0, 0, 0, 0, 0, 0, 0, 0, 0, 0, 0, 0, 0, 0, 0, 0, 0, 0, 0, 0, 0, 0, 0, 0, 0, 0, 0, 0, 0, 0, 0, 0, 0, 0, 0, 0, 0, 0, 0, 0, 0, 0, 0, 0, 0, 0, 0, 0, 0, 0, 0, 0, 0, 0, 0, 0, 0, 0, 0, 0, 0, 0, 0, 0, 0, 0, 0, 0, 0, 0, 0, 0, 0, 0, 0, 0, 0, 0, 0, 0, 0, 0, 0, 0, 0, 0, 0, 0, 0, 0, 0, 0, 0, 0, 0, 0, 0, 0, 0, 0, 0, 0, 0, 0, 0, 0, 0, 0, 0, 0, 0, 0, 0, 0, 0, 0, 0, 0, 0, 0, 0, 0, 0, 0, 0, 0, 0, 0, 0, 0, 0, 0, 0, 0, 0, 0, 0, 0, 0, 0, 0, 0, 0, 0, 0, 0, 0, 0, 0, 0, 0, 0, 0, 0, 0, 0, 0, 0, 0, 0, 0, 0, 0, 0, 0, 0, 0, 0, 0, 0, 0, 0, 0, 0, 0, 0, 0, 0, 0, 0, 0, 0, 0, 0, 0, 0, 0, 0, 0, 0, 0, 0, 0, 0, 0, 0, 0, 0, 0, 0, 0, 0, 0, 0, 0, 0, 0, 0, 0, 0, 0, 0, 0, 0, 0, 0, 0, 0, 0, 0, 0, 0, 0, 0, 0, 0, 0, 0, 0, 0, 0, 0, 0, 0, 0, 0, 0, 0, 0, 0, 0, 0, 0, 0, 0, 0, 0, 0, 0, 0, 0, 0, 0, 0, 0, 0, 0, 0, 0, 0, 0, 0, 0, 0, 0, 0, 0, 0, 0, 0, 0, 0, 0, 0, 0, 0, 0, 0, 0, 0, 0, 0, 0, 0, 0, 0, 0, 0, 0, 0, 0, 0, 0, 0, 0, 0, 0, 0, 0, 0, 0, 0, 0, 0, 0, 0, 0, 0, 0, 0, 0, 0, 0, 0, 0, 0, 0, 0, 0, 0, 0, 0, 0, 0, 0, 0, 0, 0, 0, 0, 0, 0, 0, 0, 0, 0, 0, 2, 0, 1, 0], type: <class 'list'>, valid types: <class 'bytes'>, <class 'bytearray'>, file-like object",
     "output_type": "error",
     "traceback": [
      "\u001b[0;31m---------------------------------------------------------------------------\u001b[0m",
      "\u001b[0;31mParamValidationError\u001b[0m                      Traceback (most recent call last)",
      "\u001b[0;32m<ipython-input-48-c9ab54ae3a48>\u001b[0m in \u001b[0;36m<module>\u001b[0;34m()\u001b[0m\n\u001b[1;32m      1\u001b[0m response = runtime.invoke_endpoint(EndpointName = xgb_predictor.endpoint, # The name of the endpoint we created\n\u001b[1;32m      2\u001b[0m                                        \u001b[0mContentType\u001b[0m \u001b[0;34m=\u001b[0m \u001b[0;34m'text/csv'\u001b[0m\u001b[0;34m,\u001b[0m                     \u001b[0;31m# The data format that is expected\u001b[0m\u001b[0;34m\u001b[0m\u001b[0m\n\u001b[0;32m----> 3\u001b[0;31m                                        Body = test_bow)\n\u001b[0m",
      "\u001b[0;32m~/anaconda3/envs/python3/lib/python3.6/site-packages/botocore/client.py\u001b[0m in \u001b[0;36m_api_call\u001b[0;34m(self, *args, **kwargs)\u001b[0m\n\u001b[1;32m    355\u001b[0m                     \"%s() only accepts keyword arguments.\" % py_operation_name)\n\u001b[1;32m    356\u001b[0m             \u001b[0;31m# The \"self\" in this scope is referring to the BaseClient.\u001b[0m\u001b[0;34m\u001b[0m\u001b[0;34m\u001b[0m\u001b[0m\n\u001b[0;32m--> 357\u001b[0;31m             \u001b[0;32mreturn\u001b[0m \u001b[0mself\u001b[0m\u001b[0;34m.\u001b[0m\u001b[0m_make_api_call\u001b[0m\u001b[0;34m(\u001b[0m\u001b[0moperation_name\u001b[0m\u001b[0;34m,\u001b[0m \u001b[0mkwargs\u001b[0m\u001b[0;34m)\u001b[0m\u001b[0;34m\u001b[0m\u001b[0m\n\u001b[0m\u001b[1;32m    358\u001b[0m \u001b[0;34m\u001b[0m\u001b[0m\n\u001b[1;32m    359\u001b[0m         \u001b[0m_api_call\u001b[0m\u001b[0;34m.\u001b[0m\u001b[0m__name__\u001b[0m \u001b[0;34m=\u001b[0m \u001b[0mstr\u001b[0m\u001b[0;34m(\u001b[0m\u001b[0mpy_operation_name\u001b[0m\u001b[0;34m)\u001b[0m\u001b[0;34m\u001b[0m\u001b[0m\n",
      "\u001b[0;32m~/anaconda3/envs/python3/lib/python3.6/site-packages/botocore/client.py\u001b[0m in \u001b[0;36m_make_api_call\u001b[0;34m(self, operation_name, api_params)\u001b[0m\n\u001b[1;32m    632\u001b[0m         }\n\u001b[1;32m    633\u001b[0m         request_dict = self._convert_to_request_dict(\n\u001b[0;32m--> 634\u001b[0;31m             api_params, operation_model, context=request_context)\n\u001b[0m\u001b[1;32m    635\u001b[0m \u001b[0;34m\u001b[0m\u001b[0m\n\u001b[1;32m    636\u001b[0m         \u001b[0mservice_id\u001b[0m \u001b[0;34m=\u001b[0m \u001b[0mself\u001b[0m\u001b[0;34m.\u001b[0m\u001b[0m_service_model\u001b[0m\u001b[0;34m.\u001b[0m\u001b[0mservice_id\u001b[0m\u001b[0;34m.\u001b[0m\u001b[0mhyphenize\u001b[0m\u001b[0;34m(\u001b[0m\u001b[0;34m)\u001b[0m\u001b[0;34m\u001b[0m\u001b[0m\n",
      "\u001b[0;32m~/anaconda3/envs/python3/lib/python3.6/site-packages/botocore/client.py\u001b[0m in \u001b[0;36m_convert_to_request_dict\u001b[0;34m(self, api_params, operation_model, context)\u001b[0m\n\u001b[1;32m    680\u001b[0m             api_params, operation_model, context)\n\u001b[1;32m    681\u001b[0m         request_dict = self._serializer.serialize_to_request(\n\u001b[0;32m--> 682\u001b[0;31m             api_params, operation_model)\n\u001b[0m\u001b[1;32m    683\u001b[0m         \u001b[0;32mif\u001b[0m \u001b[0;32mnot\u001b[0m \u001b[0mself\u001b[0m\u001b[0;34m.\u001b[0m\u001b[0m_client_config\u001b[0m\u001b[0;34m.\u001b[0m\u001b[0minject_host_prefix\u001b[0m\u001b[0;34m:\u001b[0m\u001b[0;34m\u001b[0m\u001b[0m\n\u001b[1;32m    684\u001b[0m             \u001b[0mrequest_dict\u001b[0m\u001b[0;34m.\u001b[0m\u001b[0mpop\u001b[0m\u001b[0;34m(\u001b[0m\u001b[0;34m'host_prefix'\u001b[0m\u001b[0;34m,\u001b[0m \u001b[0;32mNone\u001b[0m\u001b[0;34m)\u001b[0m\u001b[0;34m\u001b[0m\u001b[0m\n",
      "\u001b[0;32m~/anaconda3/envs/python3/lib/python3.6/site-packages/botocore/validate.py\u001b[0m in \u001b[0;36mserialize_to_request\u001b[0;34m(self, parameters, operation_model)\u001b[0m\n\u001b[1;32m    295\u001b[0m                                                     operation_model.input_shape)\n\u001b[1;32m    296\u001b[0m             \u001b[0;32mif\u001b[0m \u001b[0mreport\u001b[0m\u001b[0;34m.\u001b[0m\u001b[0mhas_errors\u001b[0m\u001b[0;34m(\u001b[0m\u001b[0;34m)\u001b[0m\u001b[0;34m:\u001b[0m\u001b[0;34m\u001b[0m\u001b[0m\n\u001b[0;32m--> 297\u001b[0;31m                 \u001b[0;32mraise\u001b[0m \u001b[0mParamValidationError\u001b[0m\u001b[0;34m(\u001b[0m\u001b[0mreport\u001b[0m\u001b[0;34m=\u001b[0m\u001b[0mreport\u001b[0m\u001b[0;34m.\u001b[0m\u001b[0mgenerate_report\u001b[0m\u001b[0;34m(\u001b[0m\u001b[0;34m)\u001b[0m\u001b[0;34m)\u001b[0m\u001b[0;34m\u001b[0m\u001b[0m\n\u001b[0m\u001b[1;32m    298\u001b[0m         return self._serializer.serialize_to_request(parameters,\n\u001b[1;32m    299\u001b[0m                                                      operation_model)\n",
      "\u001b[0;31mParamValidationError\u001b[0m: Parameter validation failed:\nInvalid type for parameter Body, value: [0, 0, 0, 0, 0, 0, 0, 0, 0, 0, 0, 0, 0, 0, 0, 0, 0, 0, 0, 0, 0, 0, 0, 0, 0, 0, 0, 0, 0, 0, 0, 0, 0, 0, 0, 0, 0, 0, 0, 0, 0, 0, 0, 0, 0, 0, 0, 0, 0, 0, 0, 0, 0, 0, 0, 0, 0, 0, 0, 0, 0, 0, 0, 0, 0, 0, 0, 0, 0, 0, 0, 0, 0, 0, 0, 0, 0, 0, 0, 0, 0, 0, 0, 0, 0, 0, 0, 0, 0, 0, 0, 0, 0, 0, 0, 0, 0, 0, 0, 0, 0, 0, 0, 0, 0, 0, 0, 0, 0, 0, 0, 0, 0, 0, 0, 0, 0, 0, 0, 0, 0, 0, 0, 0, 0, 0, 0, 0, 0, 0, 0, 0, 0, 0, 0, 0, 0, 0, 0, 0, 0, 0, 0, 0, 0, 0, 0, 0, 0, 0, 0, 0, 0, 0, 0, 0, 0, 0, 0, 0, 0, 0, 0, 0, 0, 0, 0, 0, 0, 0, 0, 0, 0, 0, 0, 0, 0, 0, 0, 0, 0, 0, 0, 0, 0, 0, 0, 0, 0, 0, 0, 0, 0, 0, 0, 0, 0, 0, 0, 0, 0, 0, 0, 0, 0, 0, 0, 0, 0, 0, 0, 0, 0, 0, 0, 0, 0, 0, 0, 0, 0, 0, 0, 0, 0, 0, 1, 0, 0, 0, 0, 0, 0, 0, 0, 0, 0, 0, 0, 0, 0, 0, 0, 0, 0, 0, 0, 0, 0, 0, 0, 0, 0, 0, 0, 0, 1, 0, 0, 0, 0, 0, 0, 0, 0, 0, 0, 0, 0, 0, 0, 0, 0, 0, 0, 0, 0, 0, 0, 0, 0, 0, 0, 0, 0, 0, 0, 0, 0, 0, 0, 0, 0, 0, 0, 0, 0, 0, 0, 0, 0, 0, 0, 0, 0, 0, 0, 0, 0, 0, 0, 0, 0, 0, 0, 0, 0, 0, 0, 0, 0, 0, 0, 0, 0, 0, 0, 0, 0, 0, 0, 0, 0, 0, 0, 0, 0, 0, 0, 0, 0, 0, 0, 0, 0, 0, 0, 0, 0, 0, 0, 0, 0, 0, 0, 0, 0, 0, 0, 0, 0, 0, 0, 0, 0, 0, 0, 0, 0, 0, 0, 0, 0, 0, 0, 0, 0, 0, 0, 0, 0, 0, 0, 0, 0, 0, 0, 0, 0, 0, 0, 0, 0, 0, 0, 0, 0, 0, 0, 0, 0, 0, 0, 0, 0, 0, 0, 0, 0, 0, 0, 0, 0, 0, 0, 0, 0, 0, 0, 0, 0, 0, 0, 0, 0, 0, 0, 0, 0, 0, 0, 0, 0, 0, 0, 0, 0, 0, 0, 0, 0, 0, 0, 0, 0, 0, 0, 0, 0, 0, 0, 0, 0, 0, 0, 0, 0, 0, 0, 0, 0, 0, 0, 0, 0, 0, 0, 0, 0, 0, 0, 0, 0, 0, 0, 0, 0, 0, 0, 0, 0, 0, 0, 0, 0, 0, 0, 0, 0, 0, 0, 0, 0, 0, 0, 0, 0, 0, 0, 0, 0, 0, 0, 0, 0, 0, 0, 0, 0, 0, 0, 0, 0, 0, 0, 0, 0, 0, 0, 0, 0, 0, 0, 0, 0, 0, 0, 0, 0, 0, 0, 0, 0, 0, 0, 0, 0, 0, 0, 0, 0, 0, 0, 0, 0, 0, 0, 0, 0, 0, 0, 0, 0, 0, 0, 0, 0, 0, 0, 0, 0, 0, 0, 0, 0, 0, 0, 0, 0, 0, 0, 0, 0, 0, 0, 0, 0, 0, 0, 0, 0, 0, 0, 0, 0, 0, 0, 0, 0, 0, 0, 0, 0, 0, 0, 0, 0, 0, 0, 0, 0, 0, 0, 0, 0, 0, 0, 0, 0, 0, 0, 0, 0, 0, 0, 0, 0, 0, 0, 0, 0, 0, 0, 0, 0, 0, 0, 0, 0, 0, 0, 0, 0, 0, 0, 0, 1, 0, 0, 0, 0, 0, 0, 0, 0, 0, 0, 0, 0, 0, 0, 0, 0, 0, 0, 0, 0, 0, 0, 0, 0, 0, 0, 0, 0, 0, 0, 0, 0, 0, 0, 0, 0, 0, 0, 0, 0, 0, 0, 0, 0, 0, 0, 0, 0, 0, 0, 0, 0, 0, 0, 0, 0, 0, 0, 0, 0, 0, 0, 0, 0, 0, 0, 0, 0, 0, 0, 0, 0, 0, 0, 0, 0, 0, 0, 0, 0, 0, 0, 0, 0, 0, 0, 0, 0, 0, 0, 0, 0, 0, 0, 0, 0, 0, 0, 0, 0, 0, 0, 0, 0, 0, 0, 0, 0, 0, 0, 0, 0, 0, 0, 0, 0, 0, 0, 0, 0, 0, 0, 0, 0, 0, 0, 0, 0, 0, 0, 0, 0, 0, 0, 0, 0, 0, 0, 0, 0, 0, 0, 0, 0, 0, 0, 0, 0, 0, 0, 0, 0, 0, 0, 0, 0, 0, 0, 0, 0, 0, 0, 0, 0, 0, 0, 0, 0, 0, 0, 0, 0, 0, 0, 0, 0, 0, 0, 0, 0, 0, 0, 0, 0, 0, 0, 0, 0, 0, 0, 0, 0, 0, 0, 0, 0, 0, 0, 0, 0, 0, 0, 0, 0, 0, 0, 0, 0, 0, 0, 0, 0, 0, 0, 0, 0, 0, 0, 0, 0, 0, 0, 0, 0, 0, 0, 0, 0, 0, 0, 0, 0, 0, 0, 0, 0, 0, 0, 0, 0, 0, 0, 0, 0, 0, 0, 0, 0, 0, 0, 0, 0, 0, 1, 0, 0, 0, 0, 0, 0, 0, 0, 0, 0, 0, 0, 0, 0, 0, 0, 0, 0, 0, 0, 0, 0, 0, 0, 0, 0, 0, 0, 0, 0, 0, 0, 0, 0, 0, 0, 0, 0, 0, 0, 0, 0, 0, 0, 0, 0, 0, 0, 0, 0, 0, 0, 0, 0, 0, 0, 0, 0, 0, 0, 0, 0, 0, 0, 0, 0, 0, 0, 0, 0, 0, 0, 0, 0, 0, 0, 0, 0, 0, 0, 0, 0, 0, 0, 0, 0, 1, 0, 0, 0, 0, 0, 0, 0, 0, 0, 0, 0, 0, 0, 0, 0, 0, 0, 0, 0, 0, 0, 0, 0, 0, 0, 0, 0, 0, 0, 0, 0, 0, 0, 0, 0, 0, 0, 0, 0, 0, 0, 0, 0, 0, 0, 0, 0, 0, 0, 0, 0, 0, 0, 0, 0, 0, 0, 0, 0, 0, 0, 0, 0, 0, 0, 0, 0, 0, 0, 0, 0, 0, 0, 0, 0, 0, 0, 0, 0, 0, 0, 0, 0, 0, 0, 0, 0, 0, 0, 0, 0, 0, 0, 0, 0, 0, 0, 0, 0, 0, 0, 0, 0, 0, 0, 0, 0, 0, 0, 0, 0, 0, 0, 0, 0, 0, 0, 0, 0, 0, 0, 0, 0, 0, 0, 0, 0, 0, 0, 0, 0, 0, 0, 0, 0, 0, 0, 0, 0, 0, 0, 0, 0, 0, 0, 0, 0, 0, 0, 0, 0, 0, 0, 0, 0, 0, 0, 0, 0, 0, 0, 0, 0, 0, 0, 0, 0, 0, 0, 0, 0, 0, 0, 0, 0, 0, 0, 0, 0, 0, 0, 0, 0, 0, 0, 0, 0, 0, 0, 0, 0, 0, 0, 0, 0, 0, 0, 0, 0, 0, 0, 0, 0, 0, 0, 0, 0, 0, 0, 0, 0, 0, 0, 0, 0, 0, 0, 0, 0, 0, 0, 0, 0, 0, 0, 0, 0, 0, 0, 0, 0, 0, 0, 0, 0, 0, 0, 0, 0, 0, 0, 0, 0, 0, 0, 0, 0, 0, 0, 0, 0, 0, 1, 0, 0, 0, 0, 0, 0, 0, 0, 0, 0, 0, 0, 0, 0, 0, 0, 0, 0, 0, 0, 0, 0, 0, 0, 0, 0, 0, 0, 0, 0, 0, 0, 0, 0, 0, 0, 0, 0, 0, 0, 0, 0, 0, 0, 0, 0, 0, 0, 0, 0, 0, 0, 0, 0, 0, 1, 0, 0, 0, 0, 0, 0, 0, 0, 0, 0, 0, 0, 0, 0, 0, 0, 0, 0, 0, 0, 0, 0, 0, 0, 0, 0, 0, 0, 0, 0, 0, 0, 0, 0, 0, 0, 0, 0, 0, 0, 0, 0, 0, 0, 0, 0, 0, 0, 0, 0, 0, 0, 0, 0, 0, 0, 0, 0, 0, 0, 0, 0, 0, 0, 0, 0, 0, 0, 0, 0, 0, 0, 0, 0, 0, 0, 0, 0, 0, 0, 0, 0, 0, 0, 0, 0, 0, 0, 0, 0, 0, 0, 0, 0, 0, 0, 0, 0, 0, 0, 0, 0, 0, 0, 0, 0, 0, 0, 0, 0, 0, 0, 0, 0, 0, 0, 0, 0, 0, 0, 0, 0, 0, 0, 0, 0, 0, 0, 0, 0, 0, 0, 0, 0, 0, 0, 0, 0, 0, 0, 0, 0, 0, 0, 0, 0, 0, 0, 0, 0, 0, 0, 0, 0, 0, 0, 0, 0, 0, 0, 0, 0, 0, 0, 0, 0, 0, 0, 0, 0, 0, 0, 0, 0, 0, 0, 0, 0, 0, 0, 0, 0, 0, 0, 0, 0, 0, 0, 0, 0, 0, 0, 0, 0, 0, 0, 0, 0, 0, 0, 0, 0, 0, 0, 0, 0, 0, 0, 0, 0, 0, 0, 0, 0, 0, 0, 0, 0, 0, 0, 0, 0, 0, 0, 0, 0, 0, 0, 0, 0, 0, 0, 0, 0, 0, 0, 0, 0, 0, 0, 0, 0, 0, 0, 0, 0, 0, 0, 0, 0, 0, 0, 0, 0, 0, 0, 0, 0, 0, 0, 0, 0, 0, 0, 0, 0, 0, 0, 0, 0, 0, 0, 0, 0, 0, 0, 0, 0, 0, 0, 0, 0, 0, 0, 0, 0, 0, 0, 0, 0, 0, 0, 0, 0, 0, 0, 0, 0, 0, 0, 0, 0, 0, 0, 0, 0, 0, 0, 0, 0, 0, 0, 0, 0, 0, 0, 0, 0, 0, 0, 0, 0, 0, 0, 0, 0, 0, 0, 0, 0, 0, 0, 0, 0, 0, 0, 0, 0, 0, 0, 0, 0, 0, 0, 0, 0, 0, 0, 0, 0, 0, 0, 0, 0, 0, 0, 0, 0, 0, 0, 0, 0, 0, 0, 0, 0, 0, 0, 0, 0, 0, 0, 0, 0, 0, 0, 0, 0, 0, 0, 0, 0, 0, 0, 0, 0, 0, 0, 0, 0, 0, 0, 0, 0, 0, 0, 0, 0, 0, 0, 0, 0, 0, 0, 0, 0, 0, 0, 0, 0, 0, 0, 0, 0, 0, 0, 0, 0, 0, 0, 0, 0, 0, 0, 0, 0, 0, 0, 0, 0, 0, 0, 0, 0, 0, 0, 0, 0, 0, 0, 0, 0, 0, 0, 0, 0, 0, 0, 0, 0, 0, 0, 0, 0, 0, 0, 0, 0, 0, 0, 0, 0, 0, 0, 0, 0, 0, 0, 0, 0, 0, 0, 0, 0, 0, 0, 0, 0, 0, 0, 0, 0, 0, 0, 0, 0, 0, 0, 0, 0, 0, 0, 0, 0, 0, 0, 0, 0, 0, 0, 0, 0, 0, 0, 0, 0, 0, 0, 0, 0, 0, 0, 0, 0, 0, 0, 0, 0, 0, 0, 0, 0, 0, 0, 0, 0, 0, 0, 0, 0, 0, 0, 0, 0, 0, 0, 0, 0, 0, 0, 0, 0, 0, 0, 0, 0, 0, 0, 0, 0, 0, 0, 0, 0, 0, 0, 0, 0, 0, 0, 0, 0, 0, 0, 0, 0, 0, 0, 0, 0, 0, 0, 0, 0, 0, 0, 0, 0, 0, 0, 0, 0, 0, 0, 0, 0, 0, 0, 0, 0, 0, 0, 0, 0, 0, 0, 0, 0, 0, 0, 0, 0, 0, 0, 0, 0, 0, 0, 0, 0, 0, 0, 0, 0, 0, 0, 0, 0, 0, 0, 0, 0, 0, 0, 0, 0, 0, 0, 0, 0, 0, 0, 0, 0, 0, 0, 0, 0, 0, 0, 0, 0, 0, 0, 0, 0, 0, 0, 0, 0, 0, 0, 0, 0, 0, 0, 0, 0, 0, 0, 0, 0, 0, 0, 0, 0, 0, 0, 0, 0, 0, 0, 0, 0, 0, 0, 0, 0, 0, 0, 0, 1, 0, 0, 0, 0, 0, 0, 0, 0, 0, 0, 0, 0, 0, 0, 0, 0, 0, 0, 0, 0, 0, 0, 0, 0, 0, 0, 0, 0, 0, 0, 0, 0, 0, 0, 0, 0, 0, 0, 0, 0, 0, 0, 0, 0, 0, 0, 0, 0, 0, 0, 0, 0, 0, 0, 0, 0, 0, 0, 0, 0, 0, 0, 0, 0, 0, 0, 0, 0, 0, 0, 0, 0, 0, 0, 1, 0, 0, 0, 0, 0, 0, 0, 0, 0, 0, 0, 0, 0, 0, 0, 0, 0, 0, 0, 0, 1, 0, 0, 1, 0, 0, 0, 0, 0, 0, 0, 0, 0, 0, 0, 0, 0, 0, 0, 0, 0, 0, 0, 0, 0, 0, 0, 0, 0, 0, 0, 0, 0, 0, 0, 0, 0, 0, 0, 0, 0, 0, 0, 0, 0, 0, 0, 0, 0, 0, 0, 0, 0, 0, 0, 0, 0, 0, 0, 0, 0, 0, 0, 0, 0, 0, 0, 0, 0, 0, 0, 0, 0, 0, 0, 0, 0, 0, 0, 0, 0, 0, 0, 0, 0, 0, 0, 0, 0, 0, 0, 0, 0, 0, 0, 0, 0, 0, 0, 0, 0, 0, 0, 0, 0, 0, 0, 0, 0, 0, 0, 0, 0, 0, 0, 0, 0, 0, 0, 0, 0, 0, 0, 0, 0, 0, 0, 0, 0, 0, 0, 0, 0, 0, 0, 0, 0, 0, 0, 0, 0, 0, 0, 0, 0, 0, 0, 0, 0, 0, 0, 0, 0, 0, 0, 0, 0, 0, 0, 0, 0, 0, 0, 0, 0, 0, 0, 0, 0, 0, 0, 0, 0, 0, 0, 0, 0, 0, 0, 0, 0, 0, 0, 0, 0, 0, 0, 0, 0, 0, 0, 0, 0, 0, 0, 0, 0, 0, 0, 0, 0, 0, 0, 0, 0, 0, 0, 0, 0, 0, 0, 0, 0, 0, 0, 0, 0, 0, 0, 0, 0, 0, 0, 0, 0, 0, 0, 0, 0, 0, 0, 0, 0, 0, 0, 0, 0, 0, 0, 0, 0, 0, 0, 0, 0, 0, 0, 0, 0, 0, 0, 0, 0, 0, 0, 0, 0, 0, 0, 0, 0, 0, 0, 0, 0, 0, 0, 0, 0, 0, 0, 0, 0, 0, 0, 0, 0, 0, 0, 0, 0, 0, 0, 0, 0, 0, 0, 0, 0, 0, 0, 0, 0, 0, 0, 0, 0, 0, 0, 0, 0, 0, 0, 0, 0, 0, 0, 0, 0, 0, 0, 0, 0, 0, 0, 0, 0, 0, 0, 0, 0, 0, 0, 0, 0, 0, 0, 0, 0, 0, 0, 0, 0, 0, 0, 0, 0, 0, 0, 0, 0, 0, 0, 0, 0, 0, 0, 0, 0, 0, 0, 0, 0, 0, 0, 0, 0, 0, 0, 0, 0, 0, 0, 0, 0, 0, 0, 0, 0, 0, 0, 0, 0, 0, 0, 0, 0, 0, 0, 0, 0, 0, 0, 0, 0, 0, 0, 0, 0, 0, 0, 0, 0, 0, 0, 0, 0, 0, 0, 0, 0, 0, 0, 0, 0, 0, 0, 0, 0, 0, 0, 0, 0, 0, 0, 0, 0, 0, 0, 0, 0, 0, 0, 0, 0, 0, 0, 0, 0, 0, 0, 0, 0, 0, 0, 0, 0, 0, 0, 0, 0, 0, 0, 0, 0, 0, 0, 0, 0, 0, 0, 0, 0, 0, 0, 0, 0, 0, 0, 0, 0, 0, 0, 0, 0, 0, 0, 0, 0, 0, 1, 0, 0, 0, 0, 0, 0, 0, 0, 0, 0, 0, 0, 0, 0, 0, 0, 0, 0, 0, 0, 0, 0, 0, 0, 0, 0, 0, 0, 0, 0, 0, 0, 0, 0, 0, 0, 0, 0, 0, 0, 0, 0, 0, 0, 0, 0, 0, 0, 0, 0, 0, 0, 0, 0, 0, 0, 0, 0, 0, 0, 0, 0, 0, 0, 0, 0, 0, 0, 0, 0, 0, 0, 0, 0, 0, 0, 0, 0, 0, 0, 0, 0, 0, 0, 0, 0, 0, 0, 0, 0, 0, 0, 0, 0, 0, 0, 0, 0, 0, 0, 0, 0, 0, 0, 0, 0, 0, 0, 0, 0, 0, 0, 0, 0, 0, 0, 0, 0, 0, 0, 0, 0, 0, 0, 0, 0, 0, 0, 0, 0, 0, 0, 0, 0, 0, 0, 0, 0, 0, 0, 0, 0, 0, 0, 0, 0, 0, 0, 0, 0, 0, 0, 0, 0, 0, 0, 0, 0, 0, 0, 0, 0, 0, 0, 0, 0, 0, 0, 0, 0, 0, 0, 0, 0, 0, 0, 0, 0, 0, 0, 0, 0, 0, 0, 0, 0, 0, 0, 0, 0, 0, 0, 0, 0, 0, 0, 0, 0, 0, 0, 0, 0, 0, 0, 0, 0, 0, 0, 0, 0, 0, 0, 0, 0, 0, 0, 0, 0, 0, 0, 0, 0, 0, 0, 0, 0, 0, 0, 0, 0, 0, 0, 0, 0, 0, 0, 0, 0, 0, 0, 0, 0, 0, 0, 0, 0, 0, 0, 0, 0, 0, 0, 0, 0, 0, 0, 0, 0, 0, 0, 0, 0, 0, 0, 0, 0, 0, 0, 0, 0, 0, 0, 0, 0, 0, 0, 0, 0, 0, 0, 0, 0, 0, 0, 0, 0, 0, 0, 0, 0, 0, 0, 0, 0, 0, 0, 0, 0, 0, 0, 0, 0, 0, 0, 0, 0, 0, 0, 0, 0, 0, 0, 0, 0, 0, 0, 0, 0, 0, 0, 0, 0, 0, 0, 0, 0, 0, 0, 0, 0, 0, 0, 0, 0, 0, 0, 0, 0, 0, 0, 0, 0, 0, 0, 0, 0, 0, 0, 0, 0, 0, 0, 0, 0, 0, 0, 0, 0, 0, 0, 0, 0, 0, 0, 0, 0, 0, 0, 0, 0, 0, 0, 0, 0, 0, 0, 0, 0, 0, 0, 0, 0, 0, 0, 0, 0, 0, 0, 0, 0, 0, 0, 0, 0, 0, 0, 0, 0, 0, 0, 0, 0, 0, 0, 0, 0, 0, 0, 0, 0, 0, 0, 0, 0, 0, 0, 0, 0, 0, 0, 0, 0, 0, 0, 0, 0, 0, 0, 0, 0, 0, 0, 0, 0, 0, 0, 0, 0, 0, 0, 0, 0, 0, 0, 0, 0, 0, 0, 0, 0, 0, 0, 0, 0, 0, 0, 0, 0, 0, 0, 0, 0, 0, 0, 0, 0, 0, 0, 0, 0, 0, 0, 0, 0, 0, 0, 0, 0, 0, 0, 0, 0, 0, 0, 0, 0, 0, 0, 0, 0, 0, 0, 0, 0, 0, 0, 0, 0, 0, 0, 0, 0, 0, 0, 0, 0, 0, 0, 0, 0, 0, 0, 1, 0, 0, 0, 0, 0, 0, 0, 0, 0, 0, 0, 0, 0, 0, 0, 0, 0, 0, 0, 0, 0, 0, 0, 0, 0, 0, 0, 0, 0, 0, 0, 0, 0, 0, 0, 2, 0, 0, 0, 0, 0, 0, 0, 0, 0, 0, 0, 0, 0, 0, 0, 0, 0, 0, 0, 0, 0, 0, 0, 0, 0, 0, 0, 0, 0, 0, 0, 0, 0, 0, 0, 0, 0, 0, 0, 0, 1, 0, 0, 0, 0, 0, 0, 0, 0, 0, 0, 0, 0, 0, 0, 0, 0, 0, 0, 0, 0, 0, 0, 0, 0, 0, 0, 0, 0, 0, 0, 0, 0, 0, 0, 0, 0, 0, 0, 0, 0, 0, 0, 0, 0, 0, 0, 0, 0, 0, 0, 0, 0, 0, 0, 0, 0, 0, 0, 0, 0, 0, 0, 0, 0, 0, 0, 0, 0, 0, 0, 0, 0, 0, 0, 0, 0, 0, 0, 0, 0, 0, 0, 0, 0, 0, 0, 0, 0, 0, 0, 0, 0, 0, 0, 0, 0, 0, 0, 0, 0, 0, 0, 0, 0, 0, 0, 0, 0, 0, 0, 0, 0, 0, 0, 0, 0, 0, 0, 0, 0, 0, 0, 0, 0, 0, 0, 0, 0, 0, 0, 0, 0, 0, 0, 0, 0, 0, 0, 0, 0, 0, 0, 0, 0, 0, 0, 0, 0, 0, 0, 0, 0, 0, 0, 0, 0, 0, 0, 0, 0, 0, 0, 0, 0, 0, 0, 0, 0, 0, 0, 0, 0, 0, 0, 0, 0, 0, 0, 0, 0, 0, 0, 0, 0, 0, 0, 0, 0, 0, 0, 0, 0, 0, 0, 0, 0, 0, 0, 0, 0, 0, 0, 0, 0, 0, 0, 0, 0, 0, 0, 0, 0, 0, 0, 0, 0, 0, 0, 0, 0, 0, 0, 0, 0, 0, 0, 0, 0, 0, 0, 0, 0, 0, 0, 0, 0, 0, 0, 0, 0, 0, 0, 0, 0, 0, 0, 0, 0, 0, 0, 0, 0, 0, 0, 0, 0, 0, 0, 0, 0, 0, 0, 0, 0, 0, 0, 0, 0, 0, 0, 0, 0, 0, 0, 0, 0, 0, 0, 0, 0, 0, 0, 0, 0, 0, 0, 0, 0, 0, 0, 0, 0, 0, 0, 0, 0, 0, 0, 0, 0, 0, 0, 0, 0, 0, 0, 0, 0, 0, 0, 0, 0, 0, 0, 0, 0, 0, 0, 0, 0, 0, 0, 0, 0, 0, 0, 0, 0, 0, 0, 0, 0, 0, 0, 0, 0, 0, 0, 0, 0, 0, 0, 0, 0, 0, 0, 0, 0, 0, 0, 0, 0, 0, 0, 0, 0, 0, 0, 0, 0, 0, 0, 0, 0, 0, 0, 0, 0, 0, 0, 0, 0, 0, 0, 0, 0, 0, 0, 0, 0, 0, 0, 0, 0, 0, 0, 0, 0, 0, 0, 0, 0, 0, 0, 0, 0, 0, 0, 0, 0, 0, 0, 0, 0, 0, 0, 0, 0, 0, 0, 0, 0, 0, 0, 0, 0, 0, 0, 0, 0, 0, 0, 0, 0, 0, 0, 0, 0, 0, 0, 0, 0, 0, 0, 0, 0, 0, 0, 0, 0, 0, 0, 0, 0, 0, 0, 0, 0, 0, 0, 0, 0, 0, 0, 0, 0, 0, 0, 0, 0, 0, 0, 0, 0, 0, 0, 0, 0, 0, 0, 0, 0, 0, 0, 0, 0, 0, 0, 0, 0, 0, 0, 0, 0, 0, 0, 0, 0, 0, 0, 0, 0, 0, 0, 0, 0, 0, 1, 0, 0, 0, 0, 0, 0, 0, 0, 0, 0, 0, 0, 0, 0, 0, 0, 0, 0, 0, 0, 0, 0, 0, 0, 0, 0, 0, 0, 0, 0, 0, 0, 0, 0, 0, 0, 0, 0, 0, 0, 0, 0, 0, 0, 0, 0, 0, 0, 0, 0, 0, 0, 0, 0, 0, 0, 0, 0, 0, 0, 0, 0, 0, 0, 0, 0, 0, 0, 0, 0, 0, 0, 0, 0, 0, 0, 0, 0, 0, 0, 0, 0, 0, 0, 0, 0, 0, 0, 0, 0, 0, 0, 0, 0, 0, 0, 0, 0, 0, 0, 0, 0, 0, 0, 0, 0, 0, 0, 0, 0, 2, 0, 0, 0, 0, 0, 0, 0, 0, 0, 0, 0, 0, 0, 0, 0, 0, 0, 0, 0, 0, 0, 0, 0, 0, 0, 0, 0, 0, 0, 0, 0, 0, 0, 0, 0, 0, 0, 0, 0, 0, 0, 0, 0, 0, 0, 0, 0, 0, 0, 0, 0, 0, 0, 0, 0, 0, 0, 0, 0, 0, 0, 0, 0, 0, 0, 0, 0, 0, 0, 0, 0, 0, 0, 0, 0, 0, 0, 0, 0, 0, 0, 0, 0, 0, 0, 0, 0, 0, 0, 0, 0, 0, 0, 0, 0, 0, 0, 0, 0, 0, 0, 0, 0, 0, 0, 0, 0, 0, 0, 0, 0, 0, 0, 0, 0, 0, 0, 0, 0, 0, 0, 0, 0, 0, 0, 0, 0, 0, 0, 0, 0, 0, 0, 0, 0, 0, 0, 0, 0, 0, 0, 0, 0, 0, 0, 0, 0, 0, 0, 0, 0, 0, 0, 0, 0, 0, 0, 0, 0, 0, 0, 0, 0, 0, 0, 0, 0, 0, 0, 0, 0, 0, 0, 0, 0, 0, 0, 0, 0, 0, 0, 0, 0, 0, 0, 0, 0, 0, 0, 0, 0, 0, 0, 0, 0, 0, 0, 0, 0, 0, 0, 0, 0, 0, 0, 0, 0, 0, 0, 0, 0, 0, 0, 0, 0, 0, 0, 0, 0, 0, 0, 0, 0, 0, 0, 0, 0, 0, 0, 0, 0, 0, 0, 0, 0, 0, 0, 0, 0, 0, 0, 0, 0, 0, 0, 0, 0, 0, 0, 0, 0, 0, 0, 0, 0, 0, 0, 0, 0, 0, 0, 0, 0, 0, 0, 0, 0, 0, 0, 0, 0, 0, 0, 0, 0, 0, 0, 0, 0, 0, 0, 0, 0, 0, 0, 0, 0, 0, 0, 0, 0, 0, 0, 0, 0, 0, 0, 0, 0, 0, 0, 0, 0, 0, 0, 0, 0, 0, 0, 0, 0, 0, 0, 0, 0, 0, 0, 0, 0, 0, 0, 0, 0, 0, 0, 0, 0, 0, 0, 0, 0, 0, 0, 0, 0, 0, 0, 0, 0, 0, 0, 0, 0, 0, 0, 0, 0, 0, 0, 0, 0, 0, 0, 0, 0, 0, 0, 0, 0, 0, 0, 0, 0, 0, 0, 0, 0, 0, 0, 0, 0, 0, 0, 0, 0, 0, 0, 0, 0, 0, 0, 0, 0, 0, 0, 0, 0, 0, 0, 0, 0, 0, 0, 0, 0, 0, 0, 0, 0, 0, 0, 0, 0, 0, 0, 0, 0, 0, 0, 0, 0, 0, 0, 0, 0, 0, 0, 0, 0, 0, 0, 0, 0, 0, 0, 0, 0, 0, 0, 0, 0, 0, 0, 0, 0, 0, 0, 0, 0, 0, 0, 0, 0, 0, 0, 0, 0, 0, 0, 0, 0, 0, 0, 0, 0, 0, 0, 0, 0, 0, 0, 0, 0, 0, 0, 0, 0, 0, 0, 0, 0, 0, 0, 0, 0, 0, 0, 0, 0, 0, 0, 0, 0, 0, 0, 0, 0, 0, 0, 0, 0, 0, 0, 0, 0, 0, 0, 0, 0, 0, 0, 0, 0, 0, 0, 0, 0, 0, 0, 0, 0, 0, 0, 0, 0, 0, 0, 0, 0, 0, 0, 0, 0, 0, 0, 0, 0, 0, 0, 0, 0, 0, 0, 0, 0, 0, 0, 0, 0, 0, 0, 0, 0, 0, 0, 0, 0, 0, 0, 0, 0, 0, 0, 0, 0, 0, 0, 0, 0, 0, 0, 0, 0, 0, 0, 0, 0, 0, 0, 0, 0, 0, 0, 0, 0, 0, 0, 0, 0, 0, 0, 0, 0, 0, 0, 0, 0, 0, 0, 0, 0, 0, 0, 0, 0, 0, 0, 0, 0, 0, 0, 0, 0, 0, 0, 0, 0, 0, 0, 0, 0, 0, 0, 0, 0, 0, 0, 0, 0, 0, 0, 0, 0, 0, 0, 0, 0, 0, 0, 0, 0, 0, 0, 0, 0, 0, 0, 0, 0, 0, 0, 0, 0, 0, 0, 0, 0, 0, 0, 0, 0, 0, 0, 0, 0, 0, 0, 0, 0, 0, 0, 0, 0, 0, 0, 0, 0, 0, 0, 0, 0, 0, 0, 0, 0, 0, 0, 0, 0, 0, 0, 0, 0, 0, 0, 0, 0, 0, 0, 0, 1, 0, 0, 0, 0, 0, 0, 0, 0, 0, 0, 0, 0, 0, 0, 0, 0, 0, 0, 0, 0, 0, 0, 0, 0, 0, 0, 0, 0, 0, 0, 0, 0, 0, 0, 0, 0, 0, 0, 0, 0, 0, 0, 0, 0, 0, 0, 0, 0, 0, 0, 0, 0, 0, 0, 0, 0, 0, 0, 0, 0, 0, 0, 0, 0, 0, 0, 0, 0, 0, 0, 0, 0, 0, 0, 0, 0, 0, 0, 0, 0, 0, 0, 0, 0, 0, 0, 0, 0, 0, 0, 0, 0, 0, 0, 0, 0, 0, 0, 0, 0, 0, 0, 0, 0, 0, 0, 0, 1, 0, 0, 0, 0, 0, 0, 0, 0, 0, 0, 0, 0, 0, 0, 0, 0, 0, 0, 0, 0, 0, 0, 0, 0, 0, 0, 0, 0, 0, 0, 0, 0, 0, 0, 0, 0, 0, 0, 0, 0, 0, 0, 0, 0, 0, 0, 0, 0, 0, 0, 0, 0, 0, 0, 0, 0, 0, 0, 0, 0, 0, 0, 0, 0, 0, 0, 0, 0, 0, 0, 0, 0, 0, 0, 0, 0, 0, 0, 0, 0, 0, 0, 0, 0, 0, 0, 0, 0, 0, 0, 0, 0, 0, 0, 0, 0, 0, 0, 0, 0, 0, 0, 0, 0, 0, 0, 0, 0, 0, 0, 0, 0, 0, 0, 0, 0, 0, 0, 0, 0, 0, 0, 0, 0, 0, 0, 0, 0, 0, 0, 0, 0, 0, 0, 0, 0, 0, 0, 0, 0, 0, 0, 0, 0, 0, 0, 0, 0, 0, 0, 0, 0, 0, 0, 0, 0, 0, 0, 0, 0, 0, 0, 0, 0, 0, 0, 0, 0, 0, 0, 0, 0, 0, 0, 0, 0, 0, 0, 0, 0, 0, 0, 0, 0, 0, 0, 0, 0, 0, 0, 0, 0, 0, 0, 0, 0, 0, 0, 0, 0, 0, 0, 0, 0, 0, 0, 0, 0, 0, 0, 0, 0, 0, 0, 0, 0, 0, 0, 0, 0, 0, 0, 0, 0, 0, 0, 0, 0, 0, 0, 0, 0, 0, 0, 0, 0, 0, 0, 0, 0, 0, 0, 0, 0, 0, 0, 0, 0, 0, 0, 0, 0, 0, 0, 0, 0, 0, 0, 0, 0, 0, 0, 0, 0, 0, 0, 0, 0, 0, 0, 0, 0, 0, 0, 0, 0, 0, 0, 0, 0, 0, 0, 0, 0, 0, 0, 0, 0, 0, 0, 0, 0, 0, 0, 0, 0, 0, 0, 0, 0, 0, 0, 0, 0, 0, 0, 0, 0, 0, 0, 0, 0, 0, 0, 0, 0, 0, 0, 0, 0, 0, 0, 0, 0, 0, 0, 0, 0, 0, 0, 0, 0, 0, 0, 0, 0, 0, 0, 0, 0, 0, 0, 0, 0, 0, 0, 0, 0, 0, 0, 0, 0, 0, 0, 0, 0, 0, 0, 0, 0, 0, 0, 0, 0, 0, 0, 0, 0, 0, 0, 0, 0, 0, 0, 0, 0, 0, 0, 0, 0, 0, 0, 0, 0, 0, 0, 0, 0, 0, 0, 0, 0, 0, 0, 0, 0, 0, 0, 0, 0, 0, 0, 0, 0, 0, 0, 0, 0, 0, 0, 0, 0, 0, 0, 0, 0, 0, 0, 0, 0, 0, 0, 0, 0, 0, 0, 0, 0, 0, 0, 0, 0, 0, 0, 0, 0, 0, 0, 0, 0, 0, 0, 0, 0, 0, 0, 0, 0, 0, 0, 0, 0, 0, 0, 0, 0, 0, 0, 0, 0, 0, 0, 0, 2, 0, 1, 0], type: <class 'list'>, valid types: <class 'bytes'>, <class 'bytearray'>, file-like object"
     ]
    }
   ],
   "source": [
    "response = runtime.invoke_endpoint(EndpointName = xgb_predictor.endpoint, # The name of the endpoint we created\n",
    "                                       ContentType = 'text/csv',                     # The data format that is expected\n",
    "                                       Body = test_bow)"
   ]
  },
  {
   "cell_type": "markdown",
   "metadata": {},
   "source": [
    "So why did we get an error?\n",
    "\n",
    "Because we tried to send the endpoint a list of integers but it expected us to send data of type `text/csv`. So, we need to convert it."
   ]
  },
  {
   "cell_type": "code",
   "execution_count": 55,
   "metadata": {},
   "outputs": [
    {
     "ename": "ValidationError",
     "evalue": "An error occurred (ValidationError) when calling the InvokeEndpoint operation: Endpoint xgboost-2019-05-12-07-25-42-881 of account 174239324085 not found.",
     "output_type": "error",
     "traceback": [
      "\u001b[0;31m---------------------------------------------------------------------------\u001b[0m",
      "\u001b[0;31mValidationError\u001b[0m                           Traceback (most recent call last)",
      "\u001b[0;32m<ipython-input-55-838b0a600725>\u001b[0m in \u001b[0;36m<module>\u001b[0;34m()\u001b[0m\n\u001b[1;32m      1\u001b[0m response = runtime.invoke_endpoint(EndpointName = xgb_predictor.endpoint, # The name of the endpoint we created\n\u001b[1;32m      2\u001b[0m                                        \u001b[0mContentType\u001b[0m \u001b[0;34m=\u001b[0m \u001b[0;34m'text/csv'\u001b[0m\u001b[0;34m,\u001b[0m                     \u001b[0;31m# The data format that is expected\u001b[0m\u001b[0;34m\u001b[0m\u001b[0m\n\u001b[0;32m----> 3\u001b[0;31m                                        Body = ','.join([str(val) for val in test_bow]).encode('utf-8'))\n\u001b[0m",
      "\u001b[0;32m~/anaconda3/envs/python3/lib/python3.6/site-packages/botocore/client.py\u001b[0m in \u001b[0;36m_api_call\u001b[0;34m(self, *args, **kwargs)\u001b[0m\n\u001b[1;32m    355\u001b[0m                     \"%s() only accepts keyword arguments.\" % py_operation_name)\n\u001b[1;32m    356\u001b[0m             \u001b[0;31m# The \"self\" in this scope is referring to the BaseClient.\u001b[0m\u001b[0;34m\u001b[0m\u001b[0;34m\u001b[0m\u001b[0m\n\u001b[0;32m--> 357\u001b[0;31m             \u001b[0;32mreturn\u001b[0m \u001b[0mself\u001b[0m\u001b[0;34m.\u001b[0m\u001b[0m_make_api_call\u001b[0m\u001b[0;34m(\u001b[0m\u001b[0moperation_name\u001b[0m\u001b[0;34m,\u001b[0m \u001b[0mkwargs\u001b[0m\u001b[0;34m)\u001b[0m\u001b[0;34m\u001b[0m\u001b[0m\n\u001b[0m\u001b[1;32m    358\u001b[0m \u001b[0;34m\u001b[0m\u001b[0m\n\u001b[1;32m    359\u001b[0m         \u001b[0m_api_call\u001b[0m\u001b[0;34m.\u001b[0m\u001b[0m__name__\u001b[0m \u001b[0;34m=\u001b[0m \u001b[0mstr\u001b[0m\u001b[0;34m(\u001b[0m\u001b[0mpy_operation_name\u001b[0m\u001b[0;34m)\u001b[0m\u001b[0;34m\u001b[0m\u001b[0m\n",
      "\u001b[0;32m~/anaconda3/envs/python3/lib/python3.6/site-packages/botocore/client.py\u001b[0m in \u001b[0;36m_make_api_call\u001b[0;34m(self, operation_name, api_params)\u001b[0m\n\u001b[1;32m    659\u001b[0m             \u001b[0merror_code\u001b[0m \u001b[0;34m=\u001b[0m \u001b[0mparsed_response\u001b[0m\u001b[0;34m.\u001b[0m\u001b[0mget\u001b[0m\u001b[0;34m(\u001b[0m\u001b[0;34m\"Error\"\u001b[0m\u001b[0;34m,\u001b[0m \u001b[0;34m{\u001b[0m\u001b[0;34m}\u001b[0m\u001b[0;34m)\u001b[0m\u001b[0;34m.\u001b[0m\u001b[0mget\u001b[0m\u001b[0;34m(\u001b[0m\u001b[0;34m\"Code\"\u001b[0m\u001b[0;34m)\u001b[0m\u001b[0;34m\u001b[0m\u001b[0m\n\u001b[1;32m    660\u001b[0m             \u001b[0merror_class\u001b[0m \u001b[0;34m=\u001b[0m \u001b[0mself\u001b[0m\u001b[0;34m.\u001b[0m\u001b[0mexceptions\u001b[0m\u001b[0;34m.\u001b[0m\u001b[0mfrom_code\u001b[0m\u001b[0;34m(\u001b[0m\u001b[0merror_code\u001b[0m\u001b[0;34m)\u001b[0m\u001b[0;34m\u001b[0m\u001b[0m\n\u001b[0;32m--> 661\u001b[0;31m             \u001b[0;32mraise\u001b[0m \u001b[0merror_class\u001b[0m\u001b[0;34m(\u001b[0m\u001b[0mparsed_response\u001b[0m\u001b[0;34m,\u001b[0m \u001b[0moperation_name\u001b[0m\u001b[0;34m)\u001b[0m\u001b[0;34m\u001b[0m\u001b[0m\n\u001b[0m\u001b[1;32m    662\u001b[0m         \u001b[0;32melse\u001b[0m\u001b[0;34m:\u001b[0m\u001b[0;34m\u001b[0m\u001b[0m\n\u001b[1;32m    663\u001b[0m             \u001b[0;32mreturn\u001b[0m \u001b[0mparsed_response\u001b[0m\u001b[0;34m\u001b[0m\u001b[0m\n",
      "\u001b[0;31mValidationError\u001b[0m: An error occurred (ValidationError) when calling the InvokeEndpoint operation: Endpoint xgboost-2019-05-12-07-25-42-881 of account 174239324085 not found."
     ]
    }
   ],
   "source": [
    "response = runtime.invoke_endpoint(EndpointName = xgb_predictor.endpoint, # The name of the endpoint we created\n",
    "                                       ContentType = 'text/csv',                     # The data format that is expected\n",
    "                                       Body = ','.join([str(val) for val in test_bow]).encode('utf-8'))"
   ]
  },
  {
   "cell_type": "code",
   "execution_count": 50,
   "metadata": {},
   "outputs": [
    {
     "name": "stdout",
     "output_type": "stream",
     "text": [
      "{'ResponseMetadata': {'RequestId': '6336a130-ccc6-42c2-90fc-7c1620a7fe6c', 'HTTPStatusCode': 200, 'HTTPHeaders': {'x-amzn-requestid': '6336a130-ccc6-42c2-90fc-7c1620a7fe6c', 'x-amzn-invoked-production-variant': 'AllTraffic', 'date': 'Sun, 12 May 2019 07:56:43 GMT', 'content-type': 'text/csv; charset=utf-8', 'content-length': '14'}, 'RetryAttempts': 0}, 'ContentType': 'text/csv; charset=utf-8', 'InvokedProductionVariant': 'AllTraffic', 'Body': <botocore.response.StreamingBody object at 0x7f1cf20db358>}\n"
     ]
    }
   ],
   "source": [
    "print(response)"
   ]
  },
  {
   "cell_type": "markdown",
   "metadata": {},
   "source": [
    "As we can see, the response from our model is a somewhat complicated looking dict that contains a bunch of information. The bit that we are most interested in is `'Body'` object which is a streaming object that we need to `read` in order to make use of."
   ]
  },
  {
   "cell_type": "code",
   "execution_count": 51,
   "metadata": {},
   "outputs": [
    {
     "name": "stdout",
     "output_type": "stream",
     "text": [
      "0.482122421265\n"
     ]
    }
   ],
   "source": [
    "response = response['Body'].read().decode('utf-8')\n",
    "print(response)"
   ]
  },
  {
   "cell_type": "markdown",
   "metadata": {},
   "source": [
    "Now that we know how to process the incoming user data we can start setting up the infrastructure to make our simple web app work. To do this we will make use of two different services. Amazon's Lambda and API Gateway services.\n",
    "\n",
    "Lambda is a service which allows someone to write some relatively simple code and have it executed whenever a chosen trigger occurs. For example, you may want to update a database whenever new data is uploaded to a folder stored on S3.\n",
    "\n",
    "API Gateway is a service that allows you to create HTTP endpoints (url addresses) which are connected to other AWS services. One of the benefits to this is that you get to decide what credentials, if any, are required to access these endpoints.\n",
    "\n",
    "In our case we are going to set up an HTTP endpoint through API Gateway which is open to the public. Then, whenever anyone sends data to our public endpoint we will trigger a Lambda function which will send the input (in our case a review) to our model's endpoint and then return the result."
   ]
  },
  {
   "cell_type": "markdown",
   "metadata": {},
   "source": [
    "### Setting up a Lambda function\n",
    "\n",
    "The first thing we are going to do is set up a Lambda function. This Lambda function will be executed whenever our public API has data sent to it. When it is executed it will receive the data, perform any sort of processing that is required, send the data (the review) to the SageMaker endpoint we've created and then return the result.\n",
    "\n",
    "#### Part A: Create an IAM Role for the Lambda function\n",
    "\n",
    "Since we want the Lambda function to call a SageMaker endpoint, we need to make sure that it has permission to do so. To do this, we will construct a role that we can later give the Lambda function.\n",
    "\n",
    "Using the AWS Console, navigate to the **IAM** page and click on **Roles**. Then, click on **Create role**. Make sure that the **AWS service** is the type of trusted entity selected and choose **Lambda** as the service that will use this role, then click **Next: Permissions**.\n",
    "\n",
    "In the search box type `sagemaker` and select the check box next to the **AmazonSageMakerFullAccess** policy. Then, click on **Next: Review**.\n",
    "\n",
    "Lastly, give this role a name. Make sure you use a name that you will remember later on, for example `LambdaSageMakerRole`. Then, click on **Create role**."
   ]
  },
  {
   "cell_type": "markdown",
   "metadata": {},
   "source": [
    "#### Part B: Create a Lambda function\n",
    "\n",
    "Now it is time to actually create the Lambda function. Remember from earlier that in order to process the user provided input and send it to our endpoint we need to gather two pieces of information:\n",
    "\n",
    " - The name of the endpoint, and\n",
    " - the vocabulary object.\n",
    "\n",
    "We will copy these pieces of information to our Lambda function after we create it.\n",
    "\n",
    "To start, using the AWS Console, navigate to the AWS Lambda page and click on **Create a function**. When you get to the next page, make sure that **Author from scratch** is selected. Now, name your Lambda function, using a name that you will remember later on, for example `sentiment_analysis_xgboost_func`. Make sure that the **Python 3.6** runtime is selected and then choose the role that you created in the previous part. Then, click on **Create Function**.\n",
    "\n",
    "On the next page you will see some information about the Lambda function you've just created. If you scroll down you should see an editor in which you can write the code that will be executed when your Lambda function is triggered. Collecting the code we wrote above to process a single review and adding it to the provided example `lambda_handler` we arrive at the following.\n",
    "\n",
    "```python\n",
    "# We need to use the low-level library to interact with SageMaker since the SageMaker API\n",
    "# is not available natively through Lambda.\n",
    "import boto3\n",
    "\n",
    "# And we need the regular expression library to do some of the data processing\n",
    "import re\n",
    "\n",
    "REPLACE_NO_SPACE = re.compile(\"(\\.)|(\\;)|(\\:)|(\\!)|(\\')|(\\?)|(\\,)|(\\\")|(\\()|(\\))|(\\[)|(\\])\")\n",
    "REPLACE_WITH_SPACE = re.compile(\"(<br\\s*/><br\\s*/>)|(\\-)|(\\/)\")\n",
    "\n",
    "def review_to_words(review):\n",
    "    words = REPLACE_NO_SPACE.sub(\"\", review.lower())\n",
    "    words = REPLACE_WITH_SPACE.sub(\" \", words)\n",
    "    return words\n",
    "    \n",
    "def bow_encoding(words, vocabulary):\n",
    "    bow = [0] * len(vocabulary) # Start by setting the count for each word in the vocabulary to zero.\n",
    "    for word in words.split():  # For each word in the string\n",
    "        if word in vocabulary:  # If the word is one that occurs in the vocabulary, increase its count.\n",
    "            bow[vocabulary[word]] += 1\n",
    "    return bow\n",
    "\n",
    "\n",
    "def lambda_handler(event, context):\n",
    "    \n",
    "    vocab = \"*** ACTUAL VOCABULARY GOES HERE ***\"\n",
    "    \n",
    "    words = review_to_words(event['body'])\n",
    "    bow = bow_encoding(words, vocab)\n",
    "\n",
    "    # The SageMaker runtime is what allows us to invoke the endpoint that we've created.\n",
    "    runtime = boto3.Session().client('sagemaker-runtime')\n",
    "\n",
    "    # Now we use the SageMaker runtime to invoke our endpoint, sending the review we were given\n",
    "    response = runtime.invoke_endpoint(EndpointName = '***ENDPOINT NAME HERE***',# The name of the endpoint we created\n",
    "                                       ContentType = 'text/csv',                 # The data format that is expected\n",
    "                                       Body = ','.join([str(val) for val in bow]).encode('utf-8')) # The actual review\n",
    "\n",
    "    # The response is an HTTP response whose body contains the result of our inference\n",
    "    result = response['Body'].read().decode('utf-8')\n",
    "    \n",
    "    # Round the result so that our web app only gets '1' or '0' as a response.\n",
    "    result = round(float(result))\n",
    "\n",
    "    return {\n",
    "        'statusCode' : 200,\n",
    "        'headers' : { 'Content-Type' : 'text/plain', 'Access-Control-Allow-Origin' : '*' },\n",
    "        'body' : str(result)\n",
    "    }\n",
    "```"
   ]
  },
  {
   "cell_type": "markdown",
   "metadata": {},
   "source": [
    "Once you have copy and pasted the code above into the Lambda code editor, replace the `**ENDPOINT NAME HERE**` portion with the name of the endpoint that we deployed earlier. You can determine the name of the endpoint using the code cell below."
   ]
  },
  {
   "cell_type": "code",
   "execution_count": 53,
   "metadata": {},
   "outputs": [
    {
     "data": {
      "text/plain": [
       "'xgboost-2019-05-12-07-25-42-881'"
      ]
     },
     "execution_count": 53,
     "metadata": {},
     "output_type": "execute_result"
    }
   ],
   "source": [
    "xgb_predictor.endpoint"
   ]
  },
  {
   "cell_type": "markdown",
   "metadata": {},
   "source": [
    "In addition, you will need to copy the vocabulary dict to the appropriate place in the code at the beginning of the `lambda_handler` method. The cell below prints out the vocabulary dict in a way that is easy to copy and paste."
   ]
  },
  {
   "cell_type": "code",
   "execution_count": 54,
   "metadata": {},
   "outputs": [
    {
     "name": "stdout",
     "output_type": "stream",
     "text": [
      "{'are': 285, 'dying': 1393, 'at': 331, 'the': 4426, 'and': 226, 'their': 4431, 'everybody': 1540, 'is': 2360, 'concerned': 932, 'but': 636, 'nobody': 3022, 'seems': 3864, 'to': 4507, 'be': 418, 'able': 66, 'figure': 1711, 'out': 3141, 'why': 4878, 'how': 2181, 'this': 4457, 'happening': 2028, 'nor': 3032, 'can': 665, 'they': 4442, 'prevent': 3385, 'it': 2366, 'from': 1840, 'bear': 420, 'with': 4911, 'me': 2778, 'bela': 450, 'lugosi': 2686, 'responsible': 3656, 'for': 1784, 'as': 311, 'he': 2056, 'these': 4441, 'young': 4989, 'women': 4923, 'his': 2118, 'ancient': 225, 'wife': 4884, 'keep': 2449, 'her': 2085, 'alive': 186, 'continue': 969, 'finally': 1724, 'that': 4424, 'somebody': 4062, 'must': 2950, 'deaths': 1142, 'of': 3083, 'course': 1019, 'cant': 671, 'lets': 2580, 'just': 2437, 'ignore': 2224, 'ludicrous': 2685, 'move': 2921, 'on': 3105, 'if': 2222, 'you': 4986, 'get': 1899, 'through': 4477, 'first': 1736, 'twenty': 4612, 'minutes': 2859, 'mess': 2818, 'will': 4886, 'treated': 4573, 'lab': 2501, 'assistant': 326, 'one': 3107, 'has': 2043, 'murdered': 2940, 'explaining': 1588, 'finds': 1728, 'sleeping': 4025, 'in': 2257, 'much': 2934, 'more': 2904, 'comfortable': 892, 'than': 4420, 'bed': 436, 'other': 3135, 'vague': 4705, 'real': 3547, 'horror': 2168, 'films': 1721, 'kind': 2476, 'plots': 3310, 'female': 1693, 'journalist': 2420, 'follows': 1775, 'nose': 3037, 'remarkably': 3614, 'inept': 2281, 'police': 3322, 'nowhere': 3056, 'seen': 3865, 'then': 4436, 'fun': 1848, 'really': 3556, 'starts': 4159, 'cinematography': 820, 'acting': 99, 'ok': 3098, 'there': 4438, 'lot': 2661, 'well': 4843, 'dressed': 1358, 'very': 4723, 'good': 1937, 'looking': 2648, 'people': 3221, 'film': 1716, 'directing': 1260, 'fair': 1630, 'script': 3834, 'little': 2624, 'better': 472, 'material': 2766, 'deserved': 1200, 'nevertheless': 3002, 'fails': 1628, 'interest': 2323, 'all': 187, 'most': 2909, 'fan': 1648, 'best': 469, 'thing': 4450, 'about': 67, 'does': 1308, 'eventually': 1537, 'end': 1468, 'not': 3040, 'soon': 4074, 'enough': 1491, 'scene': 3809, 'dan': 1102, 'life': 2592, 'where': 4864, 'family': 1645, 'see': 3855, 'which': 4867, 'sex': 3907, 'finish': 1732, 'answer': 251, 'clues': 865, 'law': 2538, 'anything': 260, 'go': 1924, 'wrong': 4973, 'exactly': 1551, 'case': 707, 'burns': 628, 'steve': 4181, 'office': 3091, 'local': 2634, 'newspaper': 3006, 'an': 223, 'expert': 1585, 'giving': 1915, 'advice': 133, 'everyday': 1541, 'yet': 4984, 'comes': 891, 'realize': 3552, 'things': 4451, 'arent': 288, 'so': 4046, 'picture': 3269, 'perfect': 3224, 'own': 3158, 'amazing': 209, 'capturing': 679, 'successful': 4266, 'comedy': 890, 'tragedy': 4551, 'beauty': 430, 'them': 4432, 'besides': 468, 'movie': 2926, 'pretty': 3384, 'damn': 1100, 'hilarious': 2106, 'death': 1141, 'forces': 1788, 'raise': 3507, 'three': 4469, 'daughters': 1122, 'each': 1395, 'daughter': 1121, 'try': 4600, 'middle': 2833, 'into': 2332, 'teenage': 4389, 'away': 369, 'early': 1400, 'childhood': 790, 'take': 4349, 'turn': 4605, 'when': 4862, 'goes': 1930, 'island': 2361, 'reunion': 3669, 'across': 96, 'intriguing': 2335, 'woman': 4921, 'name': 2960, 'marie': 2737, 'she': 3923, 'book': 535, 'help': 2079, 'avoid': 363, 'awkward': 374, 'situations': 4009, 'whats': 4860, 'store': 4204, 'thrown': 4481, 'household': 2179, 'youve': 4995, 'or': 3124, 'miss': 2866, 'sunshine': 4294, 'youd': 4987, 'know': 2489, 'comedic': 888, 'timing': 4498, 'dynamic': 1394, 'actor': 103, 'awesome': 371, 'emotions': 1461, 'come': 886, 'frustration': 1843, 'sincere': 3991, 'house': 2178, 'itself': 2371, 'provides': 3450, 'warm': 4794, 'environment': 1505, 'inner': 2292, 'builds': 617, 'throughout': 4478, 'suspenseful': 4331, 'climax': 849, 'only': 3110, 'falls': 1640, 'short': 3946, 'some': 4061, 'predictable': 3367, 'same': 3778, 'time': 4495, 'made': 2697, 'up': 4683, 'both': 547, 'irony': 2357, 'within': 4912, 'definitely': 1162, 'worth': 4953, 'seeing': 3857, 'sole': 4055, 'enjoyment': 1488, 'watching': 4815, 'funny': 1852, 'we': 4823, 'often': 3095, 'ill': 2228, 'likely': 2601, 'enjoy': 1484, 'second': 3846, 'even': 1533, 'third': 4455, 'put': 3480, 'my': 2951, 'like': 2599, 'reasons': 3560, 'late': 2523, 'want': 4788, 'touch': 4533, 'think': 4452, 'dont': 1324, 'off': 3084, 'who': 4871, 'hate': 2046, 'tom': 4514, 'cruise': 1071, 'understand': 4643, 'cameron': 661, 'successfully': 4267, 'two': 4620, 'groups': 1981, 'too': 4522, 'hard': 2033, 'group': 1980, 'left': 2561, 'confused': 941, 'plot': 3309, 'takes': 4351, 'complete': 921, 'deep': 1154, 'philosophical': 3253, 'mystery': 2956, 'fans': 1650, 'characters': 760, 'completely': 922, 'explain': 1586, 'job': 2405, 'its': 2370, 'probably': 3407, 'performance': 3228, 'what': 4858, 'ive': 2372, 'though': 4461, 'havent': 2053, 'movies': 2927, 'majority': 2712, 'supporting': 4304, 'cast': 710, 'gives': 1914, 'solid': 4057, 'jason': 2383, 'lee': 2559, 'was': 4805, 'enjoyable': 1485, 'story': 4207, 'thats': 4425, 'sky': 4017, 'adventure': 130, 'romantic': 3733, 'mostly': 2910, 'many': 2732, 'similar': 3978, 'ideas': 2215, 'stories': 4205, 'occur': 3076, 'historical': 2119, 'philosophy': 3254, 'david': 1124, 'man': 2721, 'had': 2003, 'everything': 1544, 'wanted': 4789, 'less': 2575, 'lost': 2660, 'given': 1913, 'chance': 747, 'catch': 714, 'back': 378, 'facing': 1620, 'demons': 1178, 'full': 1846, 'scope': 3821, 'chooses': 800, 'reality': 3551, 'simplicity': 3984, 'find': 1726, 'could': 1007, 'never': 3001, 'happiness': 2031, 'were': 4848, 'disappointed': 1273, 'laid': 2508, 'necessary': 2984, 'audience': 352, 'knows': 2493, 'beyond': 476, 'shadow': 3912, 'doubt': 1332, 'aware': 368, 'circumstances': 822, 'makes': 2716, 'choice': 797, 'powerful': 3360, 'music': 2946, 'great': 1964, 'particularly': 3195, 'by': 642, 'song': 4071, 'id': 2212, 'give': 1912, 'stars': 4155, 'substance': 4258, 'those': 4460, 'approach': 282, 'dislike': 1288, 'because': 432, 'isnt': 2362, 'blown': 516, 'love': 2669, 'matches': 2764, 'different': 1248, 'elements': 1443, 'genres': 1889, 'step': 4175, 'demands': 1175, 'close': 853, 'intimate': 2331, 'part': 3193, 'viewer': 4738, 'fact': 1621, 'certainly': 738, 'limited': 2606, 'popularity': 3334, 'work': 4940, 'dialogues': 1235, 'no': 3020, 'conflicts': 940, 'doubts': 1333, 'feelings': 1686, 'filmmaker': 1719, 'viewers': 4739, 'emotional': 1459, 'instead': 2307, 'explore': 1594, 'study': 4242, 'themselves': 4435, 'result': 3660, 'understated': 4646, 'opposed': 3122, 'explicit': 1591, 'action': 100, 'scenes': 3811, 'set': 3898, 'between': 475, 'long': 2644, 'asked': 317, 'become': 433, 'novel': 3052, 'drama': 1346, 'entirely': 1503, 'writing': 4971, 'provide': 3448, 'imagination': 2236, 'past': 3207, 'experience': 1580, 'images': 2235, 'uses': 4697, 'shots': 3950, 'pacing': 3163, 'have': 2052, 'trademark': 4548, 'personal': 3240, 'perspective': 3245, 'silence': 3974, 'capture': 676, 'moments': 2887, 'high': 2100, 'intensity': 2317, 'non': 3027, 'language': 2516, 'sounds': 4084, 'believes': 456, 'words': 4938, 'us': 4690, 'far': 1653, 'background': 380, 'becomes': 434, 'dramatic': 1348, 'element': 1442, 'large': 2517, 'consists': 955, 'subtle': 4260, 'colors': 879, 'recorded': 3574, 'winter': 4900, 'light': 2595, 'presents': 3377, 'blue': 518, 'here': 2086, 'covered': 1023, 'gray': 1963, 'air': 164, 'cold': 872, 'been': 438, 'replaced': 3634, 'dirty': 1268, 'snow': 4045, 'village': 4743, 'streets': 4217, 'genius': 1887, 'camera': 659, 'display': 1291, 'above': 68, 'else': 1448, 'political': 3324, 'statement': 4162, 'aimed': 162, 'situation': 4008, 'century': 736, 'deeply': 1156, 'meaning': 2780, 'victims': 4730, 'confusion': 943, 'nations': 2971, 'waiting': 4772, 'room': 3735, 'border': 539, 'rest': 3657, 'humanity': 2189, 'wait': 4770, 'may': 2775, 'stuck': 4237, 'against': 147, 'unfortunately': 4654, 'still': 4188, 'carry': 700, 'hang': 2022, 'deeper': 1155, 'although': 201, 'views': 4742, 'known': 2492, 'clear': 839, 'any': 256, 'regarding': 3589, 'causes': 725, 'process': 3412, 'cultural': 1078, 'himself': 2111, 'likes': 2602, 'bring': 585, 'lessons': 2578, 'greek': 1970, 'italian': 2367, 'drawing': 1350, 'combined': 885, 'tradition': 4549, 'travel': 4567, 'alexander': 180, 'search': 3841, 'aging': 153, 'disappeared': 1271, 'heard': 2062, 'again': 146, 'brilliant': 583, 'existence': 1571, 'career': 686, 'live': 2625, 'camp': 662, 'lowest': 2678, 'low': 2676, 'became': 431, 'wondering': 4930, 'change': 749, 'world': 4946, 'father': 1666, 'stands': 4147, 'before': 440, 'grows': 1985, 'person': 3238, 'during': 1387, 'would': 4957, 'contemporary': 965, 'context': 968, 'draws': 1352, 'travels': 4569, 'ending': 1471, 'leave': 2555, 'carrying': 701, 'returning': 3667, 'home': 2142, 'somewhere': 4069, 'states': 4163, 'voice': 4761, 'over': 3148, 'beginning': 443, 'few': 1700, 'lines': 2612, 'forget': 1793, 'wind': 4893, 'blows': 517, 'your': 4991, 'eyes': 1613, 'religious': 3608, 'theme': 4433, 'introduced': 2337, 'form': 1798, 'yellow': 4981, 'suited': 4286, 'around': 297, 'fellow': 1691, 'human': 2188, 'beings': 449, 'also': 199, 'christ': 807, 'final': 1722, 'men': 2805, 'once': 3106, 'influence': 2286, 'appear': 273, 'figures': 1713, 'found': 1811, 'took': 4523, 'upon': 4684, 'ends': 1474, 'without': 4913, 'resolution': 3649, 'true': 4596, 'identity': 2217, 'character': 758, 'played': 3297, 'him': 2110, 'convincing': 985, 'important': 2247, 'question': 3487, 'whether': 4866, 'note': 3044, 'whereas': 4865, 'run': 3755, 'along': 195, 'river': 3707, 'thus': 4486, 'possible': 3350, 'remains': 3611, 'taken': 4350, 'point': 3316, 'view': 4736, 'shot': 3949, 'follow': 1772, 'account': 89, 'hope': 2155, 'somehow': 4063, 'thought': 4462, 'parts': 3199, 'corny': 997, 'understandable': 4644, 'since': 3990, 'years': 4979, 'ago': 154, 'morgan': 2905, 'convincingly': 986, 'jack': 2373, 'mike': 2838, 'im': 2232, 'big': 478, 'frank': 1821, 'sinatra': 3989, 'silly': 3976, 'top': 4525, 'musical': 2947, 'higher': 2101, 'opening': 3114, 'mr': 2929, 'bore': 540, 'such': 4268, 'resemblance': 3645, 'fully': 1847, 'expected': 1577, 'certain': 737, 'need': 2987, 'striking': 4226, 'dialogue': 1234, 'hardly': 2036, 'master': 2757, 'trouble': 4592, 'bringing': 586, 'failing': 1627, 'lies': 2591, 'fatal': 1664, 'whole': 4873, 'likewise': 2603, 'dozen': 1338, 'british': 589, 'war': 4792, 'usual': 4699, 'suspects': 4328, 'do': 1302, 'purpose': 3474, 'failed': 1626, 'bomb': 531, 'way': 4820, 'london': 2641, 'courage': 1018, 'face': 1616, 'danger': 1109, 'king': 2479, 'george': 1893, 'worthy': 4956, 'subject': 4253, 'might': 2835, 'term': 4405, 'appearance': 274, 'being': 448, 'together': 4511, 'meet': 2793, 'actors': 104, 'remember': 3616, 'blood': 512, 'younger': 4990, 'gradually': 1952, 'getting': 1901, 'until': 4680, 'sure': 4308, 'gory': 1943, 'produced': 3414, 'last': 2521, 'entertained': 1498, 'scared': 3805, 'dentist': 1180, 'turned': 4606, 'simple': 3983, 'mentally': 2809, 'perhaps': 3235, 'bodies': 526, 'clever': 841, 'twist': 4617, 'protagonist': 3441, 'dimensional': 1253, 'bad': 382, 'guy': 2000, 'motivation': 2914, 'development': 1225, 'believable': 453, 'feels': 1687, 'sympathy': 4343, 'hoping': 2160, 'justice': 2438, 'myself': 2953, 'cover': 1022, 'tracks': 4545, 'return': 3665, 'normal': 3033, 'violence': 4747, 'tons': 4520, 'tension': 4404, 'something': 4066, 'modern': 2882, 'gore': 1941, 'tend': 4400, 'lack': 2502, 'emotionally': 1460, 'child': 789, 'patient': 3211, 'reaches': 3538, 'mouth': 2920, 'sake': 3775, 'encounter': 1466, 'wont': 4932, 'spoil': 4121, 'happens': 2029, 'hits': 2125, 'worst': 4952, 'flaws': 1752, 'importantly': 2248, 'another': 250, 'reviewer': 3677, 'mentioned': 2811, 'taking': 4352, 'place': 3282, 'days': 1130, 'drops': 1372, 'bit': 488, 'evidence': 1546, 'small': 4033, 'strange': 4211, 'after': 143, 'suddenly': 4273, 'sight': 3969, 'thoroughly': 4459, 'uncomfortable': 4637, 'game': 1864, 'should': 3951, 'now': 3054, 'came': 656, 'believe': 454, 'always': 203, 'classic': 835, 'super': 4295, 'mario': 2738, 'friend': 1835, 'sit': 4003, 'play': 3296, 'hours': 2177, 'trying': 4601, 'beat': 423, 'did': 1241, 'nearly': 2981, 'advanced': 128, 'essential': 1522, 'entertaining': 1499, 'challenging': 744, 'fantasy': 1652, 'except': 1556, 'graphics': 1959, '1996': 26, 'rock': 3720, 'ben': 463, 'stiller': 4189, 'doesnt': 1309, 'act': 97, 'react': 3540, 'going': 1931, 'theres': 4440, 'mary': 2751, 'stand': 4143, 'hair': 2005, 'works': 4945, 'straight': 4210, 'formula': 1802, 'breaks': 571, 'down': 1335, 'difficult': 1249, 'surrounded': 4318, 'comic': 893, 'talent': 4354, 'hank': 2024, 'philip': 3252, 'hoffman': 2128, 'having': 2054, 'said': 3774, 'relies': 3606, 'humour': 2194, 'jokes': 2415, 'laugh': 2529, 'basketball': 409, 'throws': 4482, 'smile': 4036, 'reaction': 3541, 'however': 2183, 'everyone': 1542, 'role': 3726, 'joey': 2408, 'crush': 1072, 'scenario': 3808, 'numbers': 3061, 'lacks': 2505, 'heart': 2064, 'root': 3737, 'failure': 1629, 'poor': 3328, 'pops': 3332, 'tv': 4610, 'slow': 4031, 'night': 3013, 'youll': 4988, 'regret': 3591, 'cash': 709, 'totally': 4532, 'minute': 2858, 'brilliantly': 584, 'lots': 2662, 'interesting': 2325, 'original': 3129, 'angles': 237, 'techniques': 4384, 'deaf': 1134, 'picked': 3266, 'friends': 1837, 'alike': 185, 'intention': 2319, 'hes': 2093, 'ex': 1549, 'con': 928, 'advantage': 129, 'revenge': 3675, 'hurt': 2202, 'requires': 3642, 'reading': 3544, 'skills': 4014, 'pull': 3461, 'dark': 1115, 'noir': 3023, 'couple': 1016, 'truly': 4597, 'excellent': 1555, 'finale': 1723, 'director': 1264, 'leading': 2547, 'use': 4692, 'sound': 4081, 'keeps': 2451, 'consistent': 953, 'noise': 3024, 'throw': 4479, 'black': 493, 'erotic': 1515, 'sexual': 3908, 'got': 1944, 'sort': 4077, 'hollywood': 2137, 'wants': 4791, 'make': 2713, 'strong': 4229, 'porn': 3336, 'industry': 2280, 'truth': 4599, 'directed': 1259, 'acted': 98, 'mediocre': 2791, 'grade': 1951, 'start': 4156, 'drawn': 1351, 'general': 1880, 'public': 3460, 'offered': 3088, 'piece': 3272, 'example': 1553, 'state': 4160, 'art': 304, 'gay': 1876, 'making': 2718, 'hopefully': 2157, 'festival': 1697, 'allowed': 190, 'die': 1243, 'natural': 2973, 'video': 4733, 'open': 3112, 'weekend': 4838, 'april': 284, '10': 0, '2002': 32, 'success': 4265, 'strongly': 4231, 'influenced': 2287, 'amount': 219, 'alcohol': 176, 'party': 3200, 'theyre': 4445, 'gonna': 1936, 'loved': 2670, 'scary': 3807, 'huge': 2185, 'parody': 3192, 'favorite': 1671, 'humor': 2192, 'sometimes': 4067, 'intelligent': 2314, 'boys': 559, 'seemed': 3862, 'grasp': 1960, 'concept': 930, 'perfectly': 3226, 'forgot': 1796, 'sequel': 3885, 'comical': 894, 'alas': 172, 'mistakes': 2873, 'begins': 444, 'promise': 3430, 'liked': 2600, 'especially': 1520, 'gag': 1861, 'quality': 3484, 'times': 4497, 'laughed': 2532, 'spirit': 4113, 'talking': 4360, 'marriage': 2743, 'meanwhile': 2785, 'saying': 3800, 'call': 651, 'kinda': 2477, 'save': 3794, 'dance': 1103, 'beats': 426, 'girl': 1909, 'while': 4868, 'new': 3003, 'moves': 2925, 'lived': 2626, 'match': 2762, 'side': 3965, 'laughs': 2534, 'pure': 3471, 'trash': 4565, 'filled': 1715, 'cheap': 774, 'gross': 1978, 'gags': 1862, 'overdone': 3152, 'several': 3905, 'ray': 3533, 'ii': 2226, 'under': 4639, 'mind': 2849, 'incredibly': 2270, 'unfunny': 4655, 'shock': 3938, 'alone': 194, '2000': 30, '2001': 31, 'rate': 3526, 'immediately': 2242, 'renting': 3629, 'decided': 1149, 'defined': 1160, 'absolute': 71, 'zero': 4996, 'scale': 3802, 'nothing': 3047, 'done': 1322, 'worse': 4951, 'day': 1129, 'ones': 3108, 'lonely': 2643, 'lady': 2507, 'saw': 3798, 'interview': 2329, 'perry': 3237, 'wrote': 4974, 'among': 217, 'summer': 4291, 'mad': 2696, 'related': 3594, 'write': 4967, 'screenplay': 3831, 'robbins': 3712, 'sent': 3880, 'treatment': 4574, 'didnt': 1242, 'understood': 4647, 'screenwriter': 3833, 'someone': 4064, 'filmed': 1717, 'released': 3603, 'died': 1244, 'bet': 470, 'arrival': 299, 'heaven': 2068, 'personally': 3243, 'thank': 4421, 'god': 1926, 'saving': 3797, 'involvement': 2347, 'alien': 183, 'hunter': 2199, 'every': 1539, 'mexico': 2827, 'suck': 4269, 'mixed': 2877, 'contact': 961, 'beach': 419, 'stargate': 4151, 'boot': 538, 'begin': 442, 'describe': 1194, 'wise': 4903, 'right': 3696, 'affair': 135, 'james': 2378, 'mentions': 2813, 'needs': 2990, 'shower': 3957, 'leslie': 2574, 'asks': 319, 'join': 2412, 'turns': 4609, 'ever': 1538, 'needed': 2988, 'mean': 2779, 'white': 4870, 'suits': 4287, 'wandering': 4785, 'research': 3644, 'base': 402, 'broke': 593, '30': 42, 'seconds': 3848, 'actual': 108, 'thrill': 4471, 'entire': 1502, 'remarkable': 3613, 'serious': 3891, 'sci': 3815, 'fi': 1701, 'horribly': 2164, 'clichéd': 845, 'virtually': 4751, 'screen': 3829, 'half': 2007, 'title': 4504, 'viewing': 4740, 'children': 792, 'space': 4090, 'friday': 1834, '13th': 5, 'fame': 1642, 'teenagers': 4391, 'dress': 1357, 'extras': 1608, 'attack': 337, 'exciting': 1563, 'apparently': 270, 'fine': 1729, 'model': 2880, 'latest': 2526, 'john': 2409, 'lynch': 2691, 'read': 3543, 'acts': 107, 'insane': 2296, 'disappointing': 1274, 'proper': 3436, 'mini': 2854, 'series': 3890, 'planet': 3289, 'unbearable': 4633, 'nonsense': 3030, 'examples': 1554, 'shown': 3959, 'houses': 2180, 'major': 2711, 'city': 825, 'already': 197, 'passed': 3202, 'secondly': 3847, 'care': 684, 'sea': 3838, 'access': 83, 'town': 4541, 'direct': 1258, 'impossible': 2249, 'single': 3996, 'fights': 1710, 'ridiculous': 3693, 'laughter': 2535, 'television': 4394, 'station': 4164, 'incompetent': 2266, 'marty': 2749, 'simon': 3982, 'gets': 1900, 'burned': 626, 'due': 1382, 'cruel': 1070, 'stunt': 4245, 'gone': 1935, 'flash': 1745, 'forward': 1808, 'decade': 1144, 'involved': 2346, 'including': 2264, 'year': 4978, 'school': 3813, 'court': 1020, 'killer': 2470, 'hiding': 2099, 'closed': 854, 'guilty': 1995, 'pleasure': 3306, 'knew': 2486, 'feel': 1684, 'compelled': 915, 'watch': 4811, 'beer': 439, 'hand': 2015, 'willing': 4889, 'overlook': 3153, 'absolutely': 72, 'horrid': 2165, 'say': 3799, 'guess': 1989, 'atmosphere': 333, 'cool': 989, 'kills': 2474, 'eye': 1611, 'candy': 668, 'donna': 1323, 'topless': 4527, 'ladies': 2506, 'gratuitous': 1961, 'dvd': 1391, 'track': 4544, 'trailer': 4554, 'trailers': 4555, 'bloody': 513, 'monster': 2892, 'dancing': 1107, 'gave': 1875, 'points': 3319, 'am': 204, '80s': 59, 'heavy': 2070, 'metal': 2823, 'bedroom': 437, 'boy': 557, 'priest': 3392, 'twisted': 4618, 'wicked': 4879, 'rise': 3702, 'killing': 2472, 'business': 633, 'soundtrack': 4085, 'incredible': 2269, 'fits': 1741, 'trick': 4582, 'treat': 4572, 'buy': 640, 'gene': 1879, 'simmons': 3981, 'glory': 1922, 'grey': 1973, 'gripping': 1976, 'amazingly': 210, 'look': 2646, 'basically': 407, 'idea': 2213, 'society': 4050, 'cats': 721, 'rather': 3528, 'edie': 1419, 'chosen': 805, 'seem': 3861, 'stranger': 4213, 'sense': 3877, 'old': 3100, 'almost': 193, 'pile': 3275, 'clothes': 860, 'growing': 1983, 'wearing': 4831, 'head': 2057, 'hint': 2112, 'age': 148, 'eight': 1436, 'beautiful': 428, 'womens': 4924, 'lives': 2628, 'mother': 2911, 'earlier': 1399, 'married': 2744, 'sings': 3997, 'recording': 3575, 'tea': 4373, 'decades': 1145, 'prince': 3396, 'charming': 768, 'dreams': 1355, 'domestic': 1318, 'highlights': 2104, 'include': 2261, 'explains': 1589, 'outfit': 3144, 'sequence': 3887, 'birthday': 487, 'climactic': 848, 'argument': 291, 'deliver': 1169, 'suggest': 4280, 'kenneth': 2455, 'anger': 235, 'moment': 2886, 'sequences': 3888, 'conflict': 939, 'soldier': 4053, 'todd': 4510, 'physical': 3262, 'quite': 3495, 'ways': 4822, 'peoples': 3222, 'somewhat': 4068, 'means': 2783, 'nonetheless': 3029, 'kudos': 2497, 'makers': 2715, 'creating': 1039, 'genre': 1888, 'soul': 4079, 'kurt': 2499, 'russell': 3761, 'recent': 3566, 'lesser': 2576, 'khan': 2459, 'wedding': 4836, 'strangers': 4214, 'couples': 1017, 'spend': 4105, 'secrets': 3852, 'revealed': 3671, 'hearts': 2066, 'broken': 594, 'private': 3404, 'twists': 4619, 'surprise': 4312, 'enjoyed': 1486, 'starring': 4154, 'leads': 2548, 'chemistry': 782, 'sister': 4001, 'suggested': 4281, 'rent': 3626, 'co': 867, 'self': 3869, 'skip': 4016, 'fest': 1696, 'mix': 2876, 'romance': 3732, 'hong': 2149, 'kong': 2494, 'cinema': 816, 'youre': 4992, 'further': 1853, 'entertainment': 1500, 'dollar': 1314, 'michael': 2829, 'bought': 552, 'anyway': 261, 'documentary': 1307, 'religion': 3607, 'directors': 1266, 'flashbacks': 1747, 'add': 115, 'line': 2610, 'order': 3126, 'consider': 949, 'debut': 1143, 'maybe': 2776, 'value': 4709, 'future': 1856, 'date': 1118, 'extraordinary': 1607, 'crime': 1055, 'thriller': 4472, 'international': 2326, 'week': 4837, 'exceptionally': 1559, 'favourite': 1673, 'dr': 1340, 'walked': 4776, 'thrillers': 4473, 'synopsis': 4344, 'brothers': 599, 'ethan': 1528, 'planning': 3291, 'rob': 3710, 'york': 4985, 'forth': 1804, 'period': 3236, 'robbery': 3711, 'key': 2458, 'repeated': 3631, 'least': 2554, 'masterpiece': 2759, 'excitement': 1562, 'edge': 1418, 'seat': 3845, 'wrap': 4963, 'used': 4693, 'clichés': 846, 'post': 3352, 'literally': 2622, 'mention': 2810, 'storyline': 4208, 'easy': 1410, 'members': 2801, 'asking': 318, 'casting': 711, 'hadnt': 2004, 'tiny': 4500, 'complaint': 920, 'minor': 2857, 'easily': 1406, 'albert': 174, 'roles': 3727, 'cameo': 657, 'performances': 3229, 'impressive': 2253, 'facial': 1619, 'expression': 1602, 'brian': 576, 'perfection': 3225, 'felt': 1692, 'authentic': 358, 'cinematic': 818, 'watched': 4813, 'feeling': 1685, 'helped': 2080, 'build': 614, 'notes': 3046, 'effectively': 1430, 'playing': 3300, 'following': 1774, 'sat': 3786, 'addition': 118, 'unbelievable': 4634, 'spoiler': 4123, 'otherwise': 3137, 'devil': 1228, 'dead': 1132, 'league': 2549, 'aside': 315, 'sidney': 3968, 'lumet': 2688, 'spoke': 4125, 'onto': 3111, 'stage': 4139, 'speak': 4094, 'shy': 3962, 'comment': 898, 'ironic': 2355, 'considering': 952, 'graphic': 1958, 'tells': 4397, 'talented': 4355, 'shell': 3927, 'etc': 1527, 'nice': 3008, 'shows': 3960, 'next': 3007, 'jane': 2380, 'apart': 264, 'rated': 3527, 'common': 906, 'australian': 357, 'accept': 80, 'shes': 3930, 'cute': 1090, 'fascinating': 1658, 'thoughts': 4464, 'dealing': 1136, 'crew': 1053, 'notice': 3048, 'easier': 1405, 'killed': 2469, 'expect': 1575, 'unconvincing': 4638, 'wonder': 4926, 'fictional': 1703, 'herself': 2092, 'task': 4368, 'brand': 565, '1980s': 21, 'flick': 1754, 'fat': 1663, 'suspect': 4327, 'couldnt': 1008, 'knowing': 2490, 'foot': 1781, 'isolated': 2363, 'mansion': 2731, 'spends': 4107, 'doing': 1312, 'badly': 383, 'opens': 3115, 'honest': 2146, 'goodness': 1938, 'molly': 2884, 'sign': 3970, 'yourself': 4993, 'wishing': 4907, '1990s': 25, 'drop': 1369, 'stuff': 4243, 'wondered': 4927, 'teen': 4388, 'accents': 79, 'strangely': 4212, 'glad': 1916, 'science': 3816, 'theater': 4427, 'called': 652, 'doctor': 1304, 'thinking': 4453, 'cure': 1081, 'tour': 4538, 'cave': 727, 'bat': 410, 'scientist': 3818, 'shouldnt': 3952, 'stays': 4169, 'hospital': 2172, 'nurse': 3063, 'supposed': 4306, 'sheriff': 3929, 'murders': 2943, 'show': 3953, 'proved': 3446, 'waste': 4808, 'precious': 3366, 'drive': 1363, 'actually': 109, 'received': 3564, 'episode': 1507, 'cannot': 670, 'attempt': 340, 'ad': 110, 'spending': 4106, 'checking': 778, 'abc': 63, 'fit': 1740, 'fall': 1637, 'featuring': 1681, 'event': 1535, 'express': 1600, 'opinion': 3118, 'let': 2579, 'carl': 692, 'cuba': 1075, 'jr': 2423, 'born': 544, 'south': 4087, 'navy': 2976, 'radio': 3504, 'leaves': 2556, 'bus': 631, 'valuable': 4708, 'taught': 4370, 'quit': 3494, 'powers': 3361, 'guts': 1999, 'chief': 788, 'billy': 482, 'sunday': 4293, 'robert': 3713, 'de': 1131, 'niro': 3019, 'officer': 3092, 'hal': 2006, 'loose': 2650, 'car': 680, 'prove': 3445, 'loses': 2657, 'leg': 2562, 'accident': 84, 'board': 522, 'ship': 3934, 'despite': 1211, 'train': 4556, 'achieve': 92, 'joined': 2413, 'artificial': 306, 'highly': 2105, 'captain': 674, 'department': 1182, 'hearing': 2063, 'washington': 4806, 'meets': 2795, 'showing': 3958, 'overcome': 3151, 'odds': 3082, 'reason': 3557, 'deserves': 1201, 'covers': 1024, 'themes': 4434, 'serial': 3889, 'killers': 2471, 'fascinated': 1657, 'culture': 1079, 'former': 1800, 'union': 4661, 'compare': 911, 'portrayed': 3342, 'citizen': 824, 'details': 1219, 'source': 4086, 'constant': 957, 'realistic': 3550, 'henry': 2084, 'portrait': 3339, 'reminds': 3620, 'blow': 514, 'told': 4513, 'idiotic': 2219, 'babe': 375, 'safe': 3771, 'plan': 3287, 'baby': 376, 'list': 2617, 'star': 4150, 'power': 3359, 'plus': 3311, 'terrific': 4409, 'delivery': 1173, 'professor': 3422, 'guys': 2001, 'comedies': 889, 'wanna': 4786, 'amongst': 218, 'wild': 4885, 'style': 4249, 'wars': 4804, 'street': 4216, 'others': 3136, 'whenever': 4863, 'ask': 316, 'punch': 3466, 'spin': 4112, 'hype': 2207, 'upset': 4687, 'release': 3602, 'mainstream': 2709, 'justify': 2439, 'content': 966, 'animation': 242, 'free': 1827, 'money': 2888, 'filmmakers': 1720, 'hit': 2122, 'wonders': 4931, 'population': 3335, 'seemingly': 3863, 'production': 3419, 'contains': 964, 'native': 2972, 'simply': 3986, 'beliefs': 452, 'landscape': 2513, 'mate': 2765, 'share': 3920, 'missing': 2869, 'setting': 3900, 'european': 1530, 'drunken': 1376, 'rape': 3521, 'lead': 2545, 'realizes': 3554, '1930s': 11, 'theaters': 4428, 'enter': 1494, 'royal': 3746, 'canadian': 667, 'moral': 2902, 'trial': 4580, 'cut': 1089, 'dry': 1377, 'hold': 2129, 'code': 869, 'behavior': 446, 'outside': 3146, 'traditional': 4550, 'inevitable': 2282, 'mans': 2730, 'innocence': 2293, 'depth': 1190, 'issue': 2364, 'filming': 1718, 'animals': 240, 'todays': 4509, 'none': 3028, 'raw': 3532, 'nature': 2975, 'recommended': 3572, 'hotel': 2175, 'happily': 2030, 'channel': 753, 'brought': 600, 'throat': 4476, 'tiger': 4491, 'grandfather': 1954, 'slight': 4027, 'hooked': 2153, 'matter': 2769, 'yes': 4982, 'various': 4715, 'matters': 2770, 'dealt': 1138, 'flying': 1764, 'pointed': 3317, 'flight': 1757, 'anyone': 259, 'odd': 3080, 'miles': 2843, 'army': 295, 'pilot': 3276, 'admit': 122, 'crying': 1074, 'steal': 4170, 'ps': 3453, 'spy': 4135, 'training': 4558, 'ground': 1979, 'looked': 2647, 'twin': 4615, 'premise': 3370, 'prisoners': 3403, 'finding': 1727, 'magic': 2703, 'terror': 4412, 'ensues': 1493, 'chilling': 794, 'effects': 1431, 'fire': 1734, 'body': 527, 'scare': 3803, '12': 3, 'logic': 2638, 'obviously': 3072, 'budget': 610, 'remake': 3612, 'version': 4720, 'french': 1830, 'coming': 896, 'watchable': 4812, 'recommend': 3571, 'moved': 2922, 'chicago': 785, 'mistake': 2871, 'halloween': 2010, 'orson': 3132, 'welles': 4844, 'worlds': 4947, 'invasion': 2340, 'bunch': 623, 'involving': 2349, 'attempts': 343, 'kids': 2467, 'costumes': 1006, 'kid': 2464, 'suit': 4284, 'impression': 2252, 'threat': 4467, 'morning': 2906, 'proves': 3447, 'four': 1812, 'fourth': 1813, 'american': 213, 'ford': 1789, 'irish': 2353, 'civil': 826, 'adapted': 114, 'united': 4664, 'pictures': 3270, 'parents': 3188, 'decision': 1151, 'victor': 4731, 'plays': 3301, 'wallace': 4782, 'claim': 828, '20': 29, 'girlfriend': 1910, 'attempted': 341, 'investigate': 2342, 'behind': 447, 'incident': 2260, 'clue': 864, 'closer': 856, 'guilt': 1994, 'drinking': 1362, 'don': 1320, 'trapped': 4564, 'vicious': 4728, 'circle': 821, 'depression': 1189, 'captures': 678, 'attention': 345, 'amusing': 221, 'obvious': 3071, 'indeed': 2271, 'bitter': 491, 'loss': 2659, 'relatively': 3600, 'possibly': 3351, 'considered': 951, 'consequences': 947, 'actions': 101, 'criticism': 1063, 'occasionally': 3075, 'support': 4303, 'terrorist': 4413, 'history': 2121, 'pass': 3201, 'portrays': 3344, 'dedicated': 1153, 'proud': 3444, 'main': 2707, 'driven': 1365, 'intense': 2316, 'poverty': 3357, 'ordinary': 3128, 'confidence': 938, 'mainly': 2708, 'pity': 3281, 'lifetime': 2594, 'terrible': 4407, 'oscar': 3133, 'winning': 4898, 'total': 4531, 'awards': 367, 'six': 4010, 'award': 366, 'secretary': 3850, 'essentially': 1523, 'aids': 161, 'hire': 2116, 'paul': 3214, 'jail': 2376, 'hear': 2061, 'later': 2525, 'stretched': 4222, 'credibility': 1047, 'unpleasant': 4674, 'positive': 3346, 'seeking': 3859, 'san': 3780, 'francisco': 1819, 'running': 3756, 'pop': 3330, 'zombies': 4998, 'realizing': 3555, 'era': 1513, 'started': 4157, 'oddly': 3081, 'score': 3822, 'moving': 2928, 'figured': 1712, 'zombie': 4997, 'burning': 627, 'equally': 1510, 'dull': 1384, 'curiosity': 1082, 'praise': 3364, 'smooth': 4041, 'skin': 4015, 'creates': 1038, 'imagery': 2234, 'nominated': 3025, 'won': 4925, 'editing': 1421, 'moody': 2899, 'holly': 2136, 'touching': 4536, 'connection': 946, 'worn': 4948, 'bone': 533, 'our': 3139, 'kicks': 2463, 'beautifully': 429, 'patrick': 3213, 'ride': 3692, 'ron': 3734, 'stayed': 4167, 'episodes': 1508, 'sad': 3767, 'cried': 1054, 'remarks': 3615, 'ritter': 3705, 'wish': 4904, 'showed': 3956, 'propaganda': 3435, 'facts': 1624, 'five': 1743, 'extended': 1604, 'mass': 2753, 'includes': 2263, 'wealth': 4826, 'news': 3005, 'footage': 1782, 'interviews': 2330, 'parties': 3196, 'improvement': 2256, 'achievement': 94, 'program': 3424, 'repeat': 3630, 'bbc': 417, 'events': 1536, 'detailed': 1218, 'appropriate': 283, 'named': 2961, 'occurred': 3077, 'fiction': 1702, '1999': 27, 'coherent': 871, 'unnecessary': 4672, 'arguably': 289, 'witness': 4914, 'awful': 372, 'accent': 78, 'kiss': 2483, 'bang': 393, 'creatures': 1046, 'suffer': 4275, 'realise': 3548, 'word': 4937, 'church': 813, 'jesus': 2399, 'latter': 2528, 'attend': 344, 'sons': 4073, 'families': 1644, 'ward': 4793, 'spring': 4134, 'evening': 1534, 'center': 732, 'documentaries': 1306, 'intrigued': 2334, 'length': 2569, 'motion': 2913, 'written': 4972, 'tears': 4380, 'imagine': 2238, 'testament': 4417, 'joseph': 2419, 'smith': 4038, 'message': 2819, 'jon': 2416, 'voight': 4764, 'midnight': 2834, 'cowboy': 1025, 'reminiscent': 3621, 'portrayal': 3341, 'daniel': 1111, 'lewis': 2586, 'bill': 481, 'typical': 4623, 'identify': 2216, 'levels': 2585, 'buck': 605, 'naive': 2958, 'altogether': 202, 'pulls': 3464, 'survive': 4321, 'escape': 1517, 'gritty': 1977, 'loser': 2655, 'clearly': 840, 'secret': 3849, 'insight': 2298, 'unforgettable': 4652, 'frightening': 1839, 'eric': 1514, 'helen': 2075, 'hunt': 2198, 'oh': 3096, 'earth': 1403, 'wonderful': 4928, 'surprises': 4314, 'hour': 2176, 'sorry': 4076, 'central': 735, 'putting': 3482, 'daily': 1097, 'report': 3635, 'plain': 3286, 'sarah': 3785, 'based': 404, 'centered': 733, 'horrible': 2163, 'sitcom': 4004, 'absurd': 73, '25': 40, 'criminal': 1057, 'appeal': 271, 'jay': 2386, 'silent': 3975, 'bob': 524, 'strike': 4224, 'comparison': 914, 'suppose': 4305, 'reviews': 3679, 'negative': 2991, 'critical': 1062, 'advertising': 132, 'obnoxious': 3067, 'critics': 1064, 'correct': 1000, 'status': 4165, 'immensely': 2243, 'psychotic': 3459, 'imdb': 2240, 'liking': 2604, 'golden': 1934, 'eddie': 1416, 'hills': 2109, 'cop': 991, 'murphy': 2944, 'whos': 4876, 'assigned': 325, 'unusual': 4681, 'titled': 4505, 'temple': 4398, 'doom': 1326, 'jones': 2418, 'special': 4097, 'actress': 105, 'stunning': 4244, 'scenery': 3810, 'shop': 3945, 'craig': 1030, 'whose': 4877, 'ingredients': 2289, 'loosely': 2651, 'muslim': 2949, 'either': 1438, 'ignorant': 2223, 'faith': 1633, 'lying': 2690, 'market': 2740, 'selling': 3873, 'west': 4852, 'mental': 2808, 'current': 1084, 'east': 1407, 'elsewhere': 1449, 'multiple': 2936, 'brother': 598, 'relationship': 3597, 'indian': 2274, 'medium': 2792, 'aspects': 322, 'novels': 3053, 'typically': 4624, 'depicted': 1183, 'treats': 4575, 'inspired': 2301, 'mill': 2845, 'eyed': 1612, 'son': 4070, 'rules': 3754, 'spite': 4117, 'winner': 4897, 'quest': 3486, 'distant': 1295, 'countries': 1013, 'anime': 243, 'available': 361, 'dubbed': 1379, 'african': 142, 'japanese': 2382, 'samurai': 3779, 'sword': 4340, 'unless': 4669, 'sides': 3967, 'unique': 4662, 'recently': 3567, 'country': 1014, 'september': 3884, '11': 2, 'tell': 4395, 'iran': 2350, 'teacher': 4375, 'struggles': 4235, 'teach': 4374, 'students': 4239, 'happened': 2027, 'fail': 1625, 'france': 1816, 'involves': 2348, 'writes': 4970, 'letter': 2581, 'lover': 2672, 'unaware': 4632, 'terrorists': 4414, 'places': 3284, 'learns': 2553, 'march': 2734, 'africa': 141, 'whom': 4875, 'bin': 483, 'reporter': 3636, 'frequently': 1832, 'attacks': 339, 'basic': 406, 'discovered': 1280, 'uk': 4626, 'battle': 414, 'treasure': 4571, 'exist': 1569, 'government': 1948, 'fight': 1707, 'system': 4345, 'forced': 1787, 'water': 4816, 'food': 1778, 'becoming': 435, 'beaten': 424, 'plight': 3308, 'struggle': 4234, 'superb': 4296, 'stanley': 4148, 'margaret': 2735, 'betty': 474, 'warren': 4801, 'standing': 4146, 'sentimental': 3882, 'wealthy': 4827, 'psychiatrist': 3455, 'hopeless': 2158, 'patients': 3212, 'pay': 3216, 'joe': 2407, 'reveal': 3670, 'hell': 2077, 'games': 1865, 'gem': 1877, 'liners': 2611, 'guessing': 1991, 'exception': 1557, 'utter': 4701, 'control': 977, 'loving': 2675, 'surprising': 4315, 'towards': 4540, 'america': 212, 'anti': 254, 'segment': 3867, 'ken': 2453, 'shocking': 3940, 'painful': 3171, 'americans': 214, 'writers': 4969, 'choose': 799, 'anybody': 257, 'surprised': 4313, '3000': 43, 'weight': 4840, 'thousands': 4466, 'wake': 4774, 'tragic': 4552, 'subsequent': 4257, 'months': 2897, 'solution': 4059, 'bush': 632, 'fathers': 1667, 'went': 4847, 'built': 618, 'freedom': 1828, 'sees': 3866, 'drink': 1361, 'bullet': 620, 'flicks': 1755, 'particular': 3194, 'mine': 2853, 'needless': 2989, 'similarities': 3979, 'living': 2629, 'intentionally': 2320, 'opposite': 3123, 'laughable': 2530, 'witnessed': 4915, 'hysterical': 2208, 'cases': 708, 'sloppy': 4030, 'downright': 1337, 'stupid': 4247, 'door': 1328, 'flies': 1756, 'pulled': 3462, 'string': 4227, 'neck': 2985, 'heads': 2059, 'ability': 65, 'goofy': 1939, 'gotten': 1947, 'rating': 3529, 'favor': 1670, 'hello': 2078, 'dave': 1123, 'jackie': 2374, 'chan': 746, 'familiar': 1643, 'stereotypes': 4179, 'sadly': 3769, 'sandler': 3781, 'fantastic': 1651, 'losing': 2658, 'tough': 4537, 'owner': 3159, 'favorites': 1672, 'crash': 1033, 'laughing': 2533, 'ready': 3546, 'happen': 2026, 'section': 3853, 'independent': 2272, 'laws': 2540, 'explosion': 1596, 'discovery': 1282, 'forgotten': 1797, 'unexpected': 4650, 'opportunity': 3121, 'please': 3304, 'delight': 1167, 'wayne': 4821, 'sir': 4000, 'welcome': 4842, 'amazed': 208, 'level': 2584, 'toy': 4542, 'rubber': 3747, 'hide': 2097, 'shape': 3919, 'ed': 1415, 'wood': 4933, 'masterpieces': 2760, 'compared': 912, 'student': 4238, 'theyll': 4444, 'definition': 1163, 'darker': 1116, 'visually': 4758, 'granted': 1957, 'funniest': 1851, 'crude': 1069, 'pie': 3271, 'funnier': 1850, 'type': 4621, 'batman': 413, 'continues': 971, 'leader': 2546, 'kevin': 2457, 'heroes': 2089, 'fighting': 1709, 'villains': 4745, 'plans': 3292, 'evil': 1548, 'robot': 3717, 'stop': 4201, 'gain': 1863, 'appears': 278, 'backgrounds': 381, 'colour': 880, 'buildings': 616, 'futuristic': 1857, 'nonsensical': 3031, 'cartoon': 704, 'blame': 499, 'rank': 3518, 'ann': 244, 'looks': 2649, 'roger': 3724, 'thumbs': 4485, 'tunes': 4603, 'land': 2511, 'faced': 1617, 'michelle': 2830, 'butt': 638, 'shame': 3918, 'bugs': 613, 'animated': 241, 'annoying': 249, 'format': 1799, 'hence': 2083, 'hip': 2114, 'male': 2719, 'peter': 3247, 'manages': 2725, 'irritating': 2359, 'fake': 1635, 'speech': 4102, 'pseudo': 3454, 'turning': 4608, 'moronic': 2907, 'christian': 808, 'practice': 3363, 'talk': 4358, 'jaw': 2384, 'meant': 2784, 'per': 3223, 'medical': 2790, 'conceived': 929, 'legal': 2563, 'features': 1680, '90s': 61, 'letters': 2582, 'unrealistic': 4677, 'defense': 1159, 'noble': 3021, 'murderer': 2941, 'thief': 4448, 'retarded': 3663, 'paris': 3189, 'president': 3378, 'product': 3418, 'western': 4853, 'touches': 4535, 'unbelievably': 4635, 'whatever': 4859, 'garbage': 1870, 'bored': 541, 'audiences': 353, 'eat': 1411, 'richard': 3686, 'curious': 1083, 'serves': 3895, 'racism': 3502, 'reflect': 3584, 'issues': 2365, 'portray': 3340, '70s': 56, '40s': 49, 'seven': 3903, 'led': 2558, 'centers': 734, 'learning': 2552, 'soldiers': 4054, 'service': 3896, 'company': 910, 'german': 1896, 'innocent': 2294, 'cheek': 779, 'established': 1524, 'hero': 2088, 'books': 536, 'clean': 838, 'thinks': 4454, 'twice': 4613, 'murder': 2939, 'cares': 690, 'blond': 510, '45': 50, 'desert': 1198, 'victim': 4729, 'likable': 2598, 'subtitles': 4259, 'useful': 4694, 'blew': 505, 'depicts': 1186, 'today': 4508, 'homosexual': 2145, 'allows': 192, 'rage': 3505, 'lovers': 2673, 'seriously': 3892, 'stated': 4161, 'awe': 370, 'karloff': 2445, 'price': 3389, 'slightly': 4029, 'disturbed': 1299, 'lovable': 2668, 'creepy': 1052, 'larger': 2519, 'relief': 3605, 'brief': 579, 'outstanding': 3147, 'awake': 365, 'sitting': 4007, 'pulling': 3463, 'spooky': 4128, 'wide': 4880, 'generally': 1881, 'flop': 1760, 'plausible': 3295, 'minds': 2852, 'rarely': 3524, 'quiet': 3492, 'front': 1841, 'terms': 4406, 'leaving': 2557, 'copy': 994, 'ryan': 3765, 'buffs': 612, 'remind': 3618, 'wouldnt': 4958, 'bother': 548, 'emma': 1457, 'reduced': 3579, 'severe': 3906, 'focus': 1766, 'cutting': 1092, 'red': 3576, 'kate': 2446, 'alan': 171, 'elizabeth': 1445, 'dolph': 1317, 'tony': 4521, 'scott': 3824, 'shooting': 3943, 'domino': 1319, 'using': 4698, 'offer': 3087, 'edited': 1420, 'torture': 4529, 'studios': 4241, 'questionable': 3488, 'attitudes': 347, 'ratings': 3530, 'pg': 3250, '13': 4, 'suspicious': 4332, '70': 55, 'million': 2847, 'cuts': 1091, 'puts': 3481, 'ass': 323, 'studio': 4240, '3d': 46, 'miller': 2846, 'sin': 3988, 'adaptation': 113, 'color': 877, 'massive': 2756, 'technical': 4381, 'aspect': 321, 'direction': 1261, 'possibilities': 3348, 'maintain': 2710, 'interested': 2324, 'till': 4493, 'investigation': 2343, 'initial': 2290, 'pet': 3246, 'montage': 2894, 'flat': 1748, 'cliché': 844, 'dialogs': 1233, 'limits': 2607, 'artistic': 308, 'challenge': 743, 'potential': 3355, 'visuals': 4759, 'excuse': 1564, 'shakespeare': 3915, 'hamlet': 2013, 'starting': 4158, 'versions': 4721, 'guarantee': 1987, 'usually': 4700, 'namely': 2962, 'exploration': 1593, 'keeping': 2450, 'branagh': 564, 'managed': 2723, 'average': 362, 'memorable': 2802, 'convey': 982, 'inside': 2297, 'wasnt': 4807, 'derek': 1192, 'nicholas': 3010, 'famous': 1647, 'gothic': 1945, 'settings': 3901, 'overall': 3150, 'exceptional': 1558, 'stylish': 4251, 'definite': 1161, 'magical': 2704, 'tune': 4602, 'shocked': 3939, 'win': 4892, 'academy': 77, 'sum': 4289, 'near': 2979, 'closing': 859, 'feature': 1678, 'vast': 4716, 'present': 3374, 'relevant': 3604, 'mundane': 2938, 'routine': 3743, 'rich': 3685, 'thin': 4449, 'sorts': 4078, 'alongside': 196, 'notably': 3042, 'weak': 4824, 'resulting': 3661, 'mildly': 2840, 'quickly': 3491, 'bare': 398, 'individual': 2277, 'hired': 2117, 'working': 4944, 'class': 833, 'dumb': 1385, 'blonde': 511, 'amy': 222, 'unlikely': 4671, 'decides': 1150, 'husband': 2204, 'learn': 2550, 'differences': 1247, 'vegas': 4717, 'aforementioned': 139, 'performers': 3232, 'semi': 3874, 'personality': 3242, 'demand': 1174, 'produce': 3413, 'engaging': 1481, 'talents': 4356, 'fell': 1690, 'rare': 3523, 'scripts': 3836, 'presented': 3376, 'page': 3167, 'multi': 2935, 'necessarily': 2983, 'plastic': 3294, 'capital': 673, 'sets': 3899, 'painted': 3174, 'blues': 519, 'ultimate': 4627, 'purely': 3472, 'boat': 523, 'kick': 2460, 'proceedings': 3410, 'respect': 3652, 'headed': 2058, 'shallow': 3917, 'review': 3676, 'jamie': 2379, 'spent': 4108, 'females': 1694, 'fear': 1676, 'degree': 1164, 'wounded': 4961, 'encounters': 1467, 'reaching': 3539, 'pain': 3170, 'bridge': 578, 'birth': 486, 'happy': 2032, 'pursuit': 3476, 'effort': 1432, 'realism': 3549, '60s': 54, 'exists': 1573, 'nostalgic': 3039, 'unintentionally': 4659, 'holes': 2133, 'ocean': 3079, 'players': 3299, 'dare': 1113, 'rip': 3700, 'obsessed': 3069, 'protagonists': 3442, 'relationships': 3598, 'drugs': 1374, 'boss': 546, 'sexuality': 3909, 'forever': 1792, 'removed': 3624, 'wendy': 4846, 'upper': 4685, 'lacking': 2504, 'underrated': 4642, 'standard': 4144, 'focuses': 1768, 'overly': 3155, 'bar': 396, 'mistaken': 2872, 'road': 3709, 'kill': 2468, 'location': 2635, 'fabulous': 1615, 'mysterious': 2955, 'largely': 2518, 'cage': 645, 'flynn': 1765, 'dennis': 1179, 'hopper': 2161, 'boring': 543, 'grand': 1953, 'thrilling': 4474, 'delivered': 1170, 'member': 2800, 'ahead': 159, 'thomas': 4458, 'stress': 4220, 'chair': 742, 'table': 4346, 'physically': 3263, 'committed': 905, 'create': 1036, 'generations': 1884, 'directorial': 1265, '1940s': 13, 'miscast': 2862, 'older': 3101, 'cry': 1073, 'comments': 901, 'ten': 4399, 'lifestyle': 2593, 'brenda': 575, 'dated': 1119, 'adults': 126, 'quick': 3490, 'bits': 490, 'area': 286, 'lake': 2509, 'screening': 3830, 'spoof': 4127, 'send': 3875, 'deal': 1135, 'tongue': 4518, 'unfortunate': 4653, 'luck': 2681, 'changed': 750, 'size': 4012, 'beast': 422, 'frequent': 1831, 'disbelief': 1277, 'monsters': 2893, 'double': 1331, 'problem': 3408, 'sam': 3777, 'rough': 3741, 'according': 88, 'cia': 814, 'blowing': 515, 'building': 615, 'par': 3184, 'adds': 119, 'letting': 2583, 'burt': 629, 'regular': 3592, 'bo': 521, 'tried': 4584, 'lazy': 2543, 'liberal': 2588, 'social': 4049, 'commentary': 899, 'busy': 635, 'clumsy': 866, '40': 48, 'collection': 874, 'random': 3514, 'met': 2822, 'airport': 167, 'conversation': 980, 'ships': 3935, 'suspense': 4330, 'lay': 2542, 'ninja': 3018, 'warriors': 4803, 'china': 795, 'surprisingly': 4316, 'arrive': 300, 'break': 569, 'smaller': 4034, 'nasty': 2968, 'arthur': 305, 'hill': 2108, 'refuses': 3587, 'stay': 4166, '1970s': 17, 'promising': 3433, 'hands': 2020, 'la': 2500, 'prison': 3401, 'serving': 3897, 'mistress': 2874, 'nightmares': 3015, 'cell': 730, 'neighbor': 2992, 'worry': 4950, 'ah': 158, 'insulting': 2310, 'spoilers': 4124, 'endless': 1473, 'tape': 4365, 'cops': 993, 'guns': 1998, 'rescue': 3643, 'chasing': 772, 'mall': 2720, 'witnesses': 4916, 'wonderfully': 4929, 'cousin': 1021, 'cared': 685, 'girls': 1911, 'trust': 4598, 'wanting': 4790, '50': 51, 'mafia': 2700, 'anthony': 253, 'cole': 873, 'row': 3744, 'mob': 2879, 'problems': 3409, 'agent': 150, 'directs': 1267, 'worked': 4941, 'stilted': 4190, '15': 7, 'credit': 1049, 'nude': 3058, 'asleep': 320, 'vincent': 4746, 'decent': 1147, 'anywhere': 263, 'estate': 1525, 'neighborhood': 2993, 'lane': 2515, 'illogical': 2231, 'scares': 3806, 'stephen': 4176, 'zone': 4999, 'shining': 3933, 'redeeming': 3577, 'danny': 1112, 'glover': 1923, 'neither': 2996, 'tense': 4403, 'cable': 644, 'associated': 327, 'soft': 4051, 'core': 995, 'vehicle': 4718, 'jeff': 2390, 'entertain': 1497, 'tag': 4348, 'carried': 698, 'impressed': 2251, 'combination': 883, 'difference': 1246, 'remotely': 3623, 'ned': 2986, 'kelly': 2452, 'passionate': 3206, 'efforts': 1433, 'legend': 2564, 'listen': 2619, 'popular': 3333, 'represent': 3637, 'authority': 360, 'dangerous': 1110, 'expecting': 1578, 'accurate': 90, 'gang': 1867, 'refreshing': 3586, 'thankfully': 4422, 'cheesy': 781, 'poorly': 3329, 'detail': 1217, 'areas': 287, 'ironically': 2356, 'appealing': 272, 'global': 1920, 'expectations': 1576, 'missed': 2867, 'fortunately': 1805, 'added': 116, 'christmas': 810, 'akshay': 169, 'heavily': 2069, 'matrix': 2767, 'kung': 2498, 'fu': 1844, 'executed': 1565, 'bollywood': 530, 'box': 555, 'actresses': 106, 'caliber': 649, 'college': 875, 'walking': 4779, 'useless': 4695, 'crap': 1031, 'boyfriend': 558, 'chased': 770, 'dude': 1381, 'mask': 2752, 'drew': 1360, 'survivors': 4325, 'claims': 830, 'chick': 786, 'theatrical': 4430, 'names': 2963, '14': 6, 'dialog': 1232, 'ie': 2221, 'twelve': 4611, 'angry': 238, 'yeah': 4977, 'dire': 1257, 'locations': 2636, 'stunts': 4246, 'dancers': 1105, 'vampire': 4711, 'sean': 3840, 'harry': 2039, 'check': 777, 'reflection': 3585, 'gun': 1996, 'props': 3439, 'bothered': 549, 'barely': 399, 'credits': 1050, 'plenty': 3307, 'deserve': 1199, 'friendship': 1838, 'struggling': 4236, 'folks': 1771, 'notch': 3043, 'italy': 2368, 'england': 1482, 'alfred': 181, 'joan': 2404, 'walker': 4778, 'lawrence': 2539, 'jim': 2402, 'richardson': 3688, 'photographed': 3258, 'farce': 1654, 'worthwhile': 4955, 'importance': 2246, 'caring': 691, 'sun': 4292, 'english': 1483, 'tedious': 4387, 'guide': 1993, 'desire': 1205, 'description': 1197, 'caught': 722, 'hart': 2041, 'witch': 4909, 'motivations': 2915, 'dogs': 1311, 'cat': 713, 'bound': 553, 'journey': 2421, 'fox': 1814, 'energy': 1478, 'brings': 587, 'field': 1704, 'veteran': 4724, 'visible': 4753, 'laura': 2536, 'smart': 4035, 'meeting': 2794, 'crazy': 1035, 'visit': 4755, 'touched': 4534, 'jumping': 2431, 'plane': 3288, 'fly': 1763, 'relations': 3596, 'lovely': 2671, 'eva': 1531, 'parker': 3191, 'dies': 1245, 'ice': 2210, 'angel': 231, 'attractive': 351, 'psychic': 3456, 'bell': 458, 'ashley': 313, 'attracted': 349, 'ghost': 1902, 'bud': 607, 'william': 4887, 'stole': 4194, 'test': 4416, 'agree': 155, 'number': 3060, 'heck': 2071, 'media': 2789, 'naturally': 2974, 'creators': 1044, 'ultimately': 4628, 'crack': 1027, 'fitting': 1742, 'overrated': 3156, 'chose': 804, 'trek': 4578, 'develop': 1222, 'fairly': 1631, 'paint': 3173, 'stopped': 4202, 'stupidity': 4248, 'ruin': 3750, 'wore': 4939, 'developed': 1223, 'lesbian': 2573, 'uninteresting': 4660, 'canada': 666, 'weeks': 4839, 'aged': 149, 'bank': 394, 'concerning': 933, 'effect': 1428, 'assume': 328, 'urban': 4688, 'india': 2273, 'prepared': 3371, 'potentially': 3356, 'phone': 3255, 'gorgeous': 1942, 'tarzan': 4367, 'saga': 3773, 'hunters': 2200, 'individuals': 2278, 'heroic': 2090, 'lion': 2614, 'reactions': 3542, 'depiction': 1185, 'brando': 566, 'southern': 4088, 'rights': 3697, 'race': 3499, 'appearing': 277, 'japan': 2381, 'emotion': 1458, 'foreign': 1790, 'blunt': 520, 'embarrassed': 1453, 'represented': 3638, 'credible': 1048, 'interaction': 2322, 'memories': 2803, 'experiences': 1582, 'pair': 3176, 'convinced': 984, 'bottom': 551, 'shelf': 3926, 'dust': 1388, 'bucks': 606, 'swear': 4334, 'celluloid': 731, 'forms': 1801, 'lower': 2677, 'designed': 1203, 'divorce': 1301, 'ended': 1470, 'dream': 1354, 'songs': 4072, 'arms': 294, 'walks': 4780, 'weird': 4841, 'unintentional': 4658, 'vietnam': 4735, 'jimmy': 2403, 'carter': 703, 'fashioned': 1660, 'chapter': 757, 'adventures': 131, 'doc': 1303, 'savage': 3793, 'legendary': 2565, 'producer': 3415, 'pulp': 3465, 'lucas': 2680, 'theatre': 4429, 'adding': 117, 'harder': 2035, 'superman': 4301, 'scientific': 3817, 'intellectual': 2312, 'heston': 2094, 'germany': 1898, 'albeit': 173, 'values': 4710, 'overlooked': 3154, 'stretch': 4221, 'construction': 960, 'lawyer': 2541, 'brain': 562, 'practically': 3362, 'risk': 3704, 'titles': 4506, 'fare': 1655, 'menace': 2806, 'delivering': 1171, 'cinemas': 817, 'scottish': 3825, 'relation': 3595, 'pool': 3327, 'gold': 1932, 'deadly': 1133, 'wrapped': 4964, 'discover': 1279, 'tone': 4517, 'werent': 4849, 'styles': 4250, 'blacks': 494, 'ho': 2127, 'lyrics': 2692, 'calls': 654, 'giant': 1905, 'intended': 2315, 'joke': 2414, 'explanation': 1590, 'pamela': 3179, 'adam': 111, 'adams': 112, 'bigger': 479, 'paper': 3183, 'handled': 2019, 'fashion': 1659, 'notion': 3050, 'green': 1971, 'enthusiasm': 1501, 'anderson': 227, 'design': 1202, 'handsome': 2021, 'fred': 1825, 'superhero': 4299, '100': 1, 'opportunities': 3120, 'enemy': 1477, 'promised': 3431, 'fresh': 1833, 'stooges': 4200, 'featured': 1679, 'larry': 2520, 'team': 4378, 'tiresome': 4502, 'cars': 702, 'horses': 2171, 'wear': 4830, 'lousy': 2667, 'summary': 4290, 'tries': 4585, 'okay': 3099, 'hanging': 2023, 'pick': 3265, 'wasted': 4809, 'warn': 4797, 'justin': 2440, 'scream': 3826, 'destroy': 1213, 'andy': 230, 'dick': 1239, 'ian': 2209, 'expressions': 1603, 'amateur': 206, 'primary': 3394, 'freeman': 1829, 'cary': 706, 'suffering': 4277, 'contrast': 975, 'breath': 573, 'corruption': 1002, 'admire': 121, 'homage': 2141, 'impress': 2250, 'choices': 798, 'mark': 2739, 'pieces': 3273, 'incoherent': 2265, 'trip': 4588, 'stan': 4142, 'escaped': 1518, 'chaos': 755, 'entry': 1504, 'mere': 2814, 'imitation': 2241, 'laurel': 2537, 'structure': 4233, 'shoots': 3944, 'inspiration': 2300, 'gordon': 1940, 'douglas': 1334, 'previously': 3388, 'solo': 4058, 'measure': 2786, 'charlie': 765, 'hall': 2009, 'guest': 1992, 'appearances': 275, 'experiment': 1583, 'constantly': 958, 'runs': 3757, 'fever': 1699, 'adult': 125, 'shoot': 3942, 'struck': 4232, 'exact': 1550, 'ugly': 4625, 'colorful': 878, 'accompanied': 86, 'greatest': 1966, 'essence': 1521, 'shake': 3914, 'rubbish': 3748, 'contain': 962, 'stick': 4185, 'countryside': 1015, 'crowd': 1067, 'meaningless': 2782, 'project': 3427, 'passing': 3204, 'gas': 1874, 'nuts': 3064, 'hook': 2152, 'taste': 4369, 'whoever': 4872, 'lights': 2597, 'deceased': 1146, 'chris': 806, 'captivating': 675, 'faces': 1618, 'suffers': 4278, 'superior': 4300, 'instant': 2305, 'wins': 4899, 'doctors': 1305, 'attempting': 342, 'masses': 2755, 'information': 2288, 'alex': 179, 'rain': 3506, 'olivier': 3103, 'horrific': 2166, 'humans': 2190, 'machines': 2694, 'minimal': 2855, 'created': 1037, '1980': 20, 'confusing': 942, 'cult': 1077, 'tim': 4494, 'pretentious': 3383, 'punishment': 3467, 'writer': 4968, 'psycho': 3457, 'kept': 2456, 'beating': 425, 'surely': 4309, 'illegal': 2229, 'assault': 324, 'unwatchable': 4682, 'kitchen': 2485, 'shall': 3916, 'youth': 4994, 'garden': 1872, 'valley': 4707, 'disappoint': 1272, 'max': 2774, 'fix': 1744, 'tooth': 4524, 'sucked': 4270, 'hole': 2132, 'pit': 3278, 'landing': 2512, 'moon': 2900, 'talks': 4361, 'computer': 927, 'thirty': 4456, 'riding': 3695, 'randomly': 3515, 'apparent': 269, 'asian': 314, 'grew': 1972, 'extremely': 1610, 'distracting': 1297, 'cause': 723, 'pointless': 3318, 'lame': 2510, 'forty': 1807, 'beloved': 461, 'subtlety': 4261, 'timothy': 4499, 'dalton': 1098, 'tight': 4492, 'handed': 2016, 'rochester': 3719, 'engaged': 1480, 'excited': 1561, 'charlotte': 766, 'grave': 1962, 'normally': 3034, 'helps': 2082, 'author': 359, 'executive': 1567, 'huh': 2187, 'range': 3516, 'davis': 1126, 'ruby': 3749, 'imagined': 2239, 'destruction': 1216, 'cheating': 776, 'drug': 1373, 'discovers': 1281, 'player': 3298, 'followed': 1773, 'biggest': 480, 'holmes': 2139, 'held': 2074, 'focused': 1767, 'walls': 4783, 'joy': 2422, 'brutal': 603, 'furthermore': 1854, 'carrie': 697, 'cliche': 843, 'sold': 4052, 'fisher': 1739, 'tends': 4402, 'thanks': 4423, 'glorious': 1921, 'drives': 1367, 'concerns': 934, 'abandoned': 62, 'searching': 3842, 'spare': 4093, 'luke': 2687, 'duke': 1383, 'jessica': 2398, 'simpson': 3987, 'uncle': 4636, 'jesse': 2397, 'nelson': 2997, 'reynolds': 3684, 'strip': 4228, 'below': 462, 'portraying': 3343, 'johnny': 2410, 'singing': 3995, 'complex': 923, 'prior': 3400, 'longer': 2645, 'troubled': 4593, 'twins': 4616, 'rick': 3689, 'morris': 2908, 'atlantis': 332, 'closely': 855, 'ups': 4686, 'theyve': 4446, 'blend': 504, '2007': 37, 'pathetic': 3210, 'crocodile': 1065, 'animal': 239, 'creature': 1045, 'claimed': 829, 'mature': 2773, 'manner': 2729, 'sick': 3963, 'appalling': 268, 'childrens': 793, 'forbidden': 1785, 'pre': 3365, 'projects': 3428, 'travesty': 4570, 'suicide': 4283, 'dinosaur': 1255, 'decide': 1148, 'territory': 4411, 'complicated': 925, 'celebrity': 729, 'godzilla': 1929, 'hey': 2095, 'traveling': 4568, 'jealous': 2388, 'alternate': 200, 'revelation': 3674, 'winds': 4895, 'reel': 3581, 'nuclear': 3057, 'ha': 2002, 'waters': 4817, 'buddy': 609, 'recognition': 3568, 'gotta': 1946, 'understanding': 4645, 'destiny': 1212, 'destroying': 1215, 'agrees': 157, 'rush': 3759, 'chest': 784, 'thick': 4447, 'robots': 3718, 'spots': 4132, 'ears': 1402, 'disney': 1289, 'fault': 1668, 'push': 3477, 'urge': 4689, 'businessman': 634, 'partner': 3198, 'eve': 1532, 'warned': 4798, 'doomed': 1327, 'fate': 1665, 'spirits': 4115, 'tale': 4353, 'charles': 764, 'dickens': 1240, 'timeless': 4496, 'friendly': 1836, 'undoubtedly': 4648, 'terrifying': 4410, 'grim': 1974, 'faithful': 1634, 'included': 2262, 'text': 4419, 'scrooge': 3837, 'hidden': 2096, 'nowadays': 3055, 'trained': 4557, 'merely': 2815, 'stewart': 4184, 'caine': 647, 'redemption': 3578, 'lesson': 2577, 'warming': 4795, 'holiday': 2134, 'season': 3843, 'copies': 992, 'miracle': 2860, 'worthless': 4954, 'brad': 560, 'draw': 1349, 'says': 3801, 'ms': 2931, 'knock': 2488, 'magnificent': 2705, 'fast': 1661, 'manage': 2722, 'stock': 4193, 'lighting': 2596, 'blind': 506, 'skill': 4013, 'poetry': 3314, 'speaking': 4095, 'shorts': 3948, 'jean': 2389, 'bergman': 466, 'charm': 767, '1950s': 14, 'princess': 3397, 'everywhere': 1545, 'lucky': 2683, 'aid': 160, 'falling': 1639, 'walk': 4775, 'vaguely': 4706, 'satire': 3788, 'bright': 581, 'bumbling': 622, 'convince': 983, 'satisfy': 3790, 'mel': 2796, 'selfish': 3870, 'motives': 2916, 'suggests': 4282, 'sue': 4274, 'devoid': 1230, 'dramas': 1347, 'dad': 1095, 'thru': 4483, 'slapstick': 4019, 'steps': 4177, 'torn': 4528, 'duo': 1386, 'homeless': 2143, '1933': 12, 'powell': 3358, 'warner': 4799, 'musicals': 2948, 'broadway': 592, 'choreography': 802, 'classics': 837, 'pace': 3161, 'cagney': 646, 'deals': 1137, 'sharp': 3922, 'hugh': 2186, 'surreal': 4317, 'nick': 3012, 'morality': 2903, 'dog': 1310, 'masters': 2761, 'explained': 1587, 'destroyed': 1214, 'flashback': 1746, 'donald': 1321, 'bobby': 525, 'improve': 2254, 'brooks': 596, 'susan': 4326, 'brown': 601, 'notable': 3041, 'grow': 1982, 'marry': 2745, 'shadows': 3913, 'photography': 3260, 'placed': 3283, 'hollow': 2135, 'genuinely': 1892, 'invisible': 2344, 'basis': 408, 'bath': 411, 'jerry': 2396, 'competition': 918, 'merit': 2816, 'franchise': 1817, 'factor': 1622, 'omen': 3104, 'rule': 3753, 'supposedly': 4307, 'weve': 4856, 'experienced': 1581, 'sequels': 3886, 'regardless': 3590, 'exercise': 1568, 'genuine': 1891, 'politics': 3326, 'community': 908, 'epic': 1506, 'composed': 926, 'previous': 3387, 'purposes': 3475, 'appreciate': 279, 'properly': 3437, 'grandmother': 1955, 'raising': 3509, 'providing': 3451, 'library': 2589, 'regard': 3588, 'describes': 1196, 'abuse': 74, 'california': 650, '35': 45, 'aint': 163, 'reputation': 3640, 'costs': 1004, 'survival': 4320, 'familys': 1646, 'evident': 1547, 'rented': 3628, 'spectacular': 4101, 'technically': 4382, 'flawless': 1751, 'movement': 2923, 'breathtaking': 574, 'rising': 3703, 'image': 2233, 'warrior': 4802, 'heat': 2067, 'offering': 3089, 'hearted': 2065, 'vision': 4754, 'nancy': 2964, 'memory': 2804, 'hardy': 2037, 'recall': 3562, 'sisters': 4002, 'andrew': 228, '50s': 52, 'quirky': 3493, 'parent': 3187, 'heights': 2073, 'mom': 2885, 'roberts': 3714, 'aunt': 355, 'julia': 2427, 'solve': 4060, 'extra': 1606, 'activities': 102, 'scooby': 3820, 'doo': 1325, 'bag': 384, 'explosions': 1597, 'alert': 178, 'generation': 1883, 'vivid': 4760, 'tales': 4357, 'buff': 611, 'contrived': 976, 'strength': 4219, 'principal': 3398, 'poignant': 3315, 'clark': 832, 'finest': 1730, 'martial': 2747, 'arts': 310, 'van': 4713, 'foul': 1810, 'moore': 2901, 'bull': 619, 'rambo': 3511, 'equal': 1509, 'dropped': 1370, 'usa': 4691, 'introduction': 2339, 'wwii': 4975, 'affected': 137, 'rural': 3758, 'toilet': 4512, 'carradine': 695, 'sheer': 3925, 'slap': 4018, 'closet': 858, 'afford': 138, 'anymore': 258, 'franco': 1820, 'rushed': 3760, 'generous': 1886, 'outrageous': 3145, 'nudity': 3059, 'extreme': 1609, 'incomprehensible': 2267, 'naked': 2959, 'repetitive': 3633, 'technique': 4383, 'methods': 2825, 'presence': 3373, 'tree': 4576, 'stomach': 4196, 'sweet': 4336, 'pal': 3177, 'brooklyn': 595, 'dubbing': 1380, 'exposed': 1598, 'wrestling': 4966, 'mountains': 2918, 'crappy': 1032, 'cgi': 740, 'pig': 3274, 'prize': 3405, 'europe': 1529, 'disaster': 1276, '1983': 22, 'vacation': 4704, 'chase': 769, 'unable': 4631, 'national': 2970, 'christians': 809, 'passion': 3205, 'solely': 4056, 'attitude': 346, 'offensive': 3086, 'infamous': 2284, 'masterful': 2758, 'hot': 2174, 'professional': 3421, 'jungle': 2434, 'blake': 498, 'starred': 4153, 'neil': 2995, 'burton': 630, 'porno': 3337, 'bears': 421, 'hates': 2048, 'transition': 4561, 'paying': 3217, 'everyones': 1543, 'map': 2733, 'mid': 2832, 'matched': 2763, 'listening': 2620, 'bonus': 534, 'frustrated': 1842, 'handle': 2018, 'un': 4630, 'equipment': 1511, 'buying': 641, 'stronger': 4230, 'provoking': 3452, 'category': 718, 'campy': 664, 'awfully': 373, 'blade': 495, 'edward': 1426, 'robinson': 3716, 'politically': 3325, 'presentation': 3375, 'receive': 3563, 'mothers': 2912, 'shut': 3961, 'corpse': 999, 'terribly': 4408, 'therefore': 4439, 'reviewers': 3678, 'steals': 4172, 'virus': 4752, 'helicopter': 2076, 'slowly': 4032, 'flesh': 1753, 'eating': 1413, 'fulci': 1845, 'atrocious': 335, 'saved': 3795, 'picking': 3267, 'loves': 2674, 'succeeded': 4263, 'bland': 500, 'sends': 3876, 'remaining': 3610, 'handful': 2017, 'horse': 2170, 'spirited': 4114, 'captured': 677, 'cynical': 1093, 'suffered': 4276, 'downhill': 1336, 'telling': 4396, 'narrator': 2967, 'occasion': 3073, 'kicking': 2462, 'property': 3438, 'obsession': 3070, 'slick': 4026, 'consistently': 954, 'delivers': 1172, 'leonard': 2572, 'reference': 3582, 'digital': 1251, 'lit': 2621, 'effective': 1429, 'flow': 1762, 'amateurish': 207, 'numerous': 3062, 'surface': 4310, 'health': 2060, 'capable': 672, 'performing': 3233, 'intelligence': 2313, 'benefit': 465, 'wears': 4832, 'classical': 836, 'fx': 1858, 'crucial': 1068, 'originally': 3131, 'annoyed': 248, '2nd': 41, 'thousand': 4465, 'performs': 3234, 'carries': 699, 'changes': 751, 'newly': 3004, 'satisfied': 3789, 'ticket': 4487, 'crafted': 1029, 'psychological': 3458, 'rose': 3739, 'believed': 455, 'sensitive': 3879, 'endure': 1475, 'sports': 4130, 'honor': 2150, 'commercial': 902, 'forgive': 1795, 'suffice': 4279, 'sink': 3999, 'mood': 2898, 'mst3k': 2932, 'mission': 2870, 'inspector': 2299, 'gadget': 1860, 'switch': 4339, 'bacall': 377, 'mixture': 2878, 'caused': 724, 'learned': 2551, 'indie': 2276, 'lately': 2524, 'football': 1783, 'mouse': 2919, 'disturbing': 1300, 'desperation': 1210, 'demented': 1176, 'screaming': 3827, 'cringe': 1059, 'helping': 2081, 'unpredictable': 4675, 'jennifer': 2392, 'angela': 232, 'sandra': 3782, 'driver': 1366, 'existent': 1572, 'hideous': 2098, 'resources': 3651, 'shoes': 3941, 'buried': 624, 'mirror': 2861, 'teeth': 4393, 'finished': 1733, 'coffee': 870, 'contract': 973, 'careful': 688, 'wishes': 4906, 'qualities': 3483, 'unfolds': 4651, 'variety': 4714, 'intrigue': 2333, 'suitable': 4285, 'teens': 4392, 'progresses': 3426, 'remain': 3609, 'hopes': 2159, 'decisions': 1152, 'distinct': 1296, 'voices': 4763, 'packed': 3166, 'soccer': 4048, 'position': 3345, 'determined': 1221, 'frankly': 1823, 'intent': 2318, 'causing': 726, 'believing': 457, 'explored': 1595, 'lust': 2689, 'disgusting': 1286, 'cheated': 775, 'protect': 3443, 'jerk': 2395, 'recognize': 3569, 'specific': 4099, 'vote': 4766, 'brazil': 568, 're': 3535, 'brosnan': 597, 'desperately': 1209, 'sticks': 4186, 'blank': 501, 'unlike': 4670, 'questions': 3489, 'ripped': 3701, 'unsettling': 4679, 'bond': 532, 'conversations': 981, 'sudden': 4272, 'childish': 791, 'desperate': 1208, 'affect': 136, 'piano': 3264, 'satisfying': 3791, 'spiritual': 4116, 'chases': 771, 'battles': 415, 'reach': 3536, 'wolf': 4920, 'werewolf': 4850, 'kane': 2442, 'someones': 4065, 'transformation': 4560, 'resembles': 3646, 'cg': 739, 'hardcore': 2034, 'visual': 4757, 'victoria': 4732, 'arrived': 301, 'castle': 712, 'queen': 3485, 'subjects': 4254, 'connected': 945, 'lol': 2640, 'titanic': 4503, 'sucks': 4271, 'leo': 2571, 'rogers': 3725, 'emphasis': 1463, 'described': 1195, 'walter': 4784, 'raymond': 3534, 'reed': 3580, 'widmark': 4882, 'plague': 3285, 'rats': 3531, 'mayor': 2777, 'clint': 850, 'panic': 3181, 'villain': 4744, 'knowledge': 2491, 'succeeds': 4264, 'tap': 4364, 'hop': 2154, 'miserably': 2864, 'pan': 3180, 'overacting': 3149, 'brady': 561, 'los': 2653, 'angeles': 233, 'wet': 4855, 'seeks': 3860, 'promises': 3432, 'primarily': 3393, 'force': 1786, 'singer': 3993, 'sing': 3992, 'opera': 3116, 'mexican': 2826, 'restaurant': 3658, 'lose': 2654, 'concert': 935, 'conventional': 979, 'wisdom': 4902, 'charismatic': 763, 'resort': 3650, 'uneven': 4649, 'flawed': 1750, 'folk': 1770, 'robin': 3715, 'hood': 2151, 'accused': 91, 'notorious': 3051, 'ran': 3513, 'unoriginal': 4673, 'pays': 3218, 'showdown': 3955, 'returns': 3668, 'hasnt': 2044, 'secretly': 3851, 'narration': 2965, 'serve': 3893, 'frankenstein': 1822, 'trio': 4587, 'fay': 1674, 'museum': 2945, 'device': 1227, 'dracula': 1341, 'shirley': 3936, 'defeat': 1157, 'tricks': 4583, 'cleverly': 842, 'crisis': 1060, 'conclusion': 936, 'virginia': 4750, 'cross': 1066, 'throwing': 4480, 'balls': 390, 'wannabe': 4787, 'blockbuster': 509, 'manager': 2724, 'matt': 2768, 'keaton': 2448, 'antics': 255, 'eg': 1434, 'judy': 2426, 'reminded': 3619, 'recognized': 3570, 'australia': 356, 'hilariously': 2107, 'prequel': 3372, 'convoluted': 987, 'streisand': 4218, 'oz': 3160, 'factory': 1623, 'ruthless': 3764, 'editor': 1423, 'tonight': 4519, 'perform': 3227, 'quote': 3496, 'offers': 3090, 'creative': 1041, 'waves': 4819, 'afterwards': 145, 'afraid': 140, 'slasher': 4020, 'kinds': 2478, 'christopher': 811, 'tribute': 4581, 'stellar': 4174, 'loyal': 2679, 'couldve': 1009, 'proof': 3434, 'dinosaurs': 1256, 'survived': 4322, 'alright': 198, 'park': 3190, 'watches': 4814, 'initially': 2291, 'silver': 3977, 'dvds': 1392, 'security': 3854, 'guard': 1988, 'disappointment': 1275, 'oscars': 3134, 'dawn': 1127, 'descent': 1193, 'dawson': 1128, 'empty': 1465, 'jazz': 2387, 'raped': 3522, 'breaking': 570, 'club': 863, 'wouldve': 4959, 'junk': 2436, 'humorous': 2193, 'sinister': 3998, 'kay': 2447, 'band': 391, 'horrors': 2169, 'staring': 4152, 'fifteen': 1706, 'barbara': 397, 'stanwyck': 4149, 'bette': 471, 'womans': 4922, 'trite': 4589, 'saves': 3796, 'vampires': 4712, 'jumped': 2430, 'shark': 3921, 'heres': 2087, 'feet': 1688, 'results': 3662, 'staying': 4168, 'attacked': 338, 'presumably': 3380, 'tired': 4501, 'britain': 588, '75': 57, 'banned': 395, 'annie': 247, 'bathroom': 412, 'greatly': 1967, 'commercials': 903, '24': 39, '90': 60, 'impact': 2244, 'violent': 4748, 'jonathan': 2417, 'baker': 385, 'jeffrey': 2391, 'listed': 2618, 'gandhi': 1866, 'sacrifice': 3766, 'enemies': 1476, 'nation': 2969, 'turkey': 4604, 'displays': 1293, 'considerable': 950, 'whatsoever': 4861, 'smoking': 4040, 'elderly': 1440, 'harvey': 2042, 'chances': 748, 'heroine': 2091, 'arrogant': 303, 'north': 3036, 'sid': 3964, 'worried': 4949, 'pretend': 3381, 'aka': 168, 'enjoys': 1489, 'sneak': 4043, 'exploitation': 1592, 'costume': 1005, 'loud': 2664, 'sub': 4252, 'sally': 3776, 'roman': 3731, 'guessed': 1990, 'proceeds': 3411, 'utterly': 4702, 'scientists': 3819, 'chain': 741, 'occurs': 3078, 'kissing': 2484, 'dignity': 1252, 'riveting': 3708, 'speaks': 4096, 'inventive': 2341, 'ages': 152, 'noticed': 3049, 'hitchcock': 2123, 'thrills': 4475, 'williams': 4888, 'tied': 4489, 'johnson': 2411, 'truck': 4595, 'howard': 2182, 'frame': 1815, 'vs': 4767, 'cardboard': 682, 'revolutionary': 3681, 'behave': 445, 'corrupt': 1001, 'broad': 590, 'blatant': 502, 'embarrassing': 1454, 'drivel': 1364, 'texas': 4418, 'minded': 2850, 'sell': 3871, 'versus': 4722, 'imaginative': 2237, 'craft': 1028, 'complexity': 924, 'directly': 1263, 'relate': 3593, 'jewish': 2401, 'universal': 4665, 'disease': 1285, 'accepted': 82, 'paid': 3169, 'accidentally': 85, 'horrifying': 2167, 'feed': 1683, 'homer': 2144, 'trap': 4563, 'soviet': 4089, 'rocket': 3721, 'pack': 3165, 'university': 4667, 'inspiring': 2302, '1960s': 15, 'tremendous': 4579, 'ellen': 1446, 'site': 4005, 'realized': 3553, 'remembered': 3617, 'vhs': 4725, 'disneys': 1290, 'contained': 963, 'allow': 189, 'hundreds': 2196, 'haunting': 2051, 'hammer': 2014, 'knife': 2487, 'ghosts': 1903, 'carpenter': 694, 'uwe': 4703, 'boll': 529, 'brains': 563, 'insult': 2309, 'shines': 3932, 'narrative': 2966, 'depicting': 1184, 'tortured': 4530, 'literature': 2623, '20th': 38, 'saturday': 3792, 'duty': 1390, 'universe': 4666, 'gifted': 1907, 'floor': 1759, 'mrs': 2930, 'artist': 307, 'surrounding': 4319, 'anna': 245, 'shortly': 3947, 'sentence': 3881, 'toward': 4539, 'seed': 3856, 'neighbors': 2994, 'karen': 2444, 'grant': 1956, 'catholic': 720, 'st': 4137, 'francis': 1818, 'trees': 4577, 'fortune': 1806, 'window': 4894, 'talked': 4359, 'pregnant': 3369, '80': 58, 'earl': 1398, 'began': 441, 'judge': 2424, 'hyde': 2206, 'staff': 4138, 'che': 773, 'drag': 1342, 'repeatedly': 3632, 'round': 3742, 'screens': 3832, 'lily': 2605, 'balance': 387, 'gentle': 1890, 'expressed': 1601, 'occasional': 3074, 'gift': 1906, 'profound': 3423, 'monk': 2889, 'satan': 3787, 'giallo': 1904, 'dreadful': 1353, 'count': 1010, 'companion': 909, 'devoted': 1231, 'ensemble': 1492, 'butler': 637, 'pleasant': 3302, 'elaborate': 1439, 'idiot': 2218, 'purchase': 3469, 'amitabh': 216, 'godfather': 1927, 'kapoor': 2443, 'mile': 2842, 'cake': 648, 'hat': 2045, 'icon': 2211, 'chuck': 812, 'marks': 2742, 'julie': 2428, 'gender': 1878, 'teenager': 4390, 'ease': 1404, 'hanks': 2025, 'madness': 2698, 'focusing': 1769, 'prefer': 3368, 'rabbit': 3498, 'argue': 290, 'laughably': 2531, 'errors': 1516, 'warning': 4800, 'lacked': 2503, 'stolen': 4195, 'eager': 1396, 'bride': 577, 'storm': 4206, 'da': 1094, 'bold': 528, 'tender': 4401, 'dozens': 1339, 'wooden': 4934, 'cost': 1003, 'rid': 3690, 'wing': 4896, 'ideal': 2214, 'witty': 4917, 'creativity': 1042, 'jobs': 2406, 'belongs': 460, 'military': 2844, 'concern': 931, 'improved': 2255, 'mars': 2746, 'pride': 3391, 'gerard': 1895, 'poster': 3353, 'diana': 1237, 'seventies': 3904, 'sixties': 4011, 'revolution': 3680, 'hippie': 2115, 'fancy': 1649, 'roll': 3728, 'paced': 3162, 'irrelevant': 2358, 'nights': 3016, 'forgettable': 1794, 'locked': 2637, 'uninspired': 4657, 'acceptable': 81, 'gary': 1873, 'absence': 70, 'forest': 1791, 'choreographed': 801, 'condition': 937, 'wave': 4818, 'inappropriate': 2259, 'merits': 2817, 'diane': 1238, 'hundred': 2195, '2005': 35, 'cup': 1080, 'bleak': 503, 'arrested': 298, 'holding': 2130, 'vice': 4727, 'prisoner': 3402, 'greater': 1965, 'photographer': 3259, 'pitt': 3280, 'inevitably': 2283, 'ted': 4386, 'creation': 1040, 'producers': 3416, 'theory': 4437, 'steel': 4173, 'diamond': 1236, 'birds': 485, 'stone': 4197, 'weapons': 4829, 'racist': 3503, 'wow': 4962, 'maker': 2714, 'block': 508, 'judging': 2425, 'sits': 4006, 'soap': 4047, 'arrives': 302, 'signs': 3973, 'firstly': 1737, 'marketing': 2741, 'corner': 996, 'legs': 2566, 'swimming': 4338, 'significant': 3972, 'cards': 683, 'reads': 3545, 'honestly': 2147, 'empire': 1464, 'stood': 4199, 'obscure': 3068, 'atmospheric': 334, 'tad': 4347, 'machine': 2693, 'senseless': 3878, 'boredom': 542, 'jumps': 2432, 'aired': 165, 'depressing': 1188, 'painfully': 3172, 'corporate': 998, 'engage': 1479, 'provided': 3449, 'represents': 3639, 'mindless': 2851, 'fed': 1682, 'fond': 1776, 'separate': 3883, 'fields': 1705, 'bruce': 602, 'waited': 4771, 'jump': 2429, 'hitler': 2124, 'financial': 1725, 'paranoia': 3186, 'accomplished': 87, 'partly': 3197, 'instance': 2304, 'unknown': 4668, 'viewed': 4737, 'steven': 4182, 'dolls': 1316, 'dollars': 1315, 'doll': 1313, 'charge': 761, 'weakest': 4825, 'advise': 134, 'wholly': 4874, 'dragon': 1344, 'mountain': 2917, 'supernatural': 4302, 'responsibility': 3655, 'carrey': 696, 'comedian': 887, 'troubles': 4594, 'answers': 252, 'via': 4726, 'mail': 2706, 'grace': 1950, 'false': 1641, 'ridiculously': 3694, 'cusack': 1088, 'backdrop': 379, 'eastern': 1408, 'planned': 3290, 'shirt': 3937, 'nine': 3017, 'record': 3573, 'makeup': 2717, 'safety': 3772, 'lees': 2560, 'dreary': 1356, 'mild': 2839, 'types': 4622, 'inane': 2258, 'abilities': 64, 'noted': 3045, 'execution': 1566, 'horrendous': 2162, 'references': 3583, 'opened': 3113, 'lone': 2642, 'spot': 4131, 'nicely': 3009, 'seasons': 3844, 'tear': 4379, 'pleased': 3305, 'scarecrow': 3804, 'combine': 884, 'nomination': 3026, 'martin': 2748, 'installment': 2303, 'voiced': 4762, 'wit': 4908, 'dragged': 1343, 'cox': 1026, 'cook': 988, 'tall': 4362, 'garbo': 1871, 'holds': 2131, 'enjoying': 1487, 'standards': 4145, 'sellers': 3872, 'poem': 3312, 'eccentric': 1414, 'teaching': 4377, 'spike': 4111, 'barry': 401, 'wound': 4960, 'belief': 451, 'comics': 895, 'photos': 3261, 'fool': 1779, 'miike': 2837, 'gruesome': 1986, 'sophisticated': 4075, 'changing': 752, 'angle': 236, 'rival': 3706, 'chinese': 796, 'prime': 3395, 'macy': 2695, 'anyways': 262, 'messed': 2821, 'beneath': 464, 'wasting': 4810, 'blah': 496, '17': 9, 'manhattan': 2726, 'dorothy': 1330, 'popcorn': 3331, 'earned': 1401, '3rd': 47, 'mentioning': 2812, 'embarrassment': 1455, 'rex': 3683, 'june': 2433, 'trilogy': 4586, 'twilight': 4614, 'itll': 2369, 'reached': 3537, 'peace': 3219, 'controversial': 978, '30s': 44, 'relatives': 3601, 'sounded': 4082, 'discussion': 1284, 'glimpse': 1919, 'pitch': 3279, 'dig': 1250, 'fill': 1714, 'melodrama': 2797, 'meaningful': 2781, 'hoped': 2156, 'continued': 970, 'mgm': 2828, 'detective': 1220, 'method': 2824, 'signed': 3971, 'plant': 3293, 'wacky': 4769, 'al': 170, 'lie': 2590, 'santa': 3783, 'sadistic': 3768, 'offended': 3085, 'generated': 1882, 'appreciated': 280, 'achieved': 93, 'spoken': 4126, 'lloyd': 2630, 'chaplin': 756, 'exposure': 1599, 'possessed': 3347, 'jackson': 2375, 'kim': 2475, 'richards': 3687, 'curtis': 1087, 'briefly': 580, 'admittedly': 123, 'equivalent': 1512, 'fish': 1738, 'ruins': 3752, 'wall': 4781, 'discuss': 1283, 'highlight': 2103, 'clips': 852, 'screams': 3828, 'brilliance': 582, 'ramones': 3512, '1st': 28, 'brutally': 604, 'flaw': 1749, 'melodramatic': 2798, 'pushed': 3478, 'illness': 2230, 'em': 1452, 'kings': 2481, 'pages': 3168, 'portion': 3338, 'hurts': 2203, 'apartment': 265, 'appeared': 276, 'airplane': 166, 'path': 3209, 'taxi': 4371, 'beatty': 427, 'calm': 655, 'massacre': 2754, 'andrews': 229, 'visits': 4756, 'threatening': 4468, 'sounding': 4083, 'messages': 2820, 'honesty': 2148, 'print': 3399, 'demon': 1177, 'troops': 4591, 'reveals': 3673, 'reasonably': 3559, 'russian': 3762, 'possibility': 3349, 'scripted': 3835, 'artists': 309, 'historically': 2120, 'network': 3000, 'killings': 2473, 'catching': 716, 'required': 3641, 'education': 1424, 'harsh': 2040, 'eighties': 1437, 'retired': 3664, 'sexy': 3911, 'implausible': 2245, 'millions': 2848, 'sullivan': 4288, 'carefully': 689, 'introduce': 2336, 'hudson': 2184, 'loads': 2633, 'rooms': 3736, 'eerie': 1427, 'drags': 1345, 'jeremy': 2394, 'adorable': 124, 'lucy': 2684, 'cinderella': 815, 'streep': 4215, 'compelling': 916, 'ourselves': 3140, 'priceless': 3390, 'escapes': 1519, 'fbi': 1675, 'outcome': 3142, 'turner': 4607, 'edition': 1422, 'disappear': 1270, 'highest': 2102, 'hints': 2113, 'intentions': 2321, 'preview': 3386, 'resist': 3648, 'columbo': 881, 'darkness': 1117, 'smoke': 4039, 'wizard': 4919, 'broadcast': 591, 'chicks': 787, 'ashamed': 312, 'bands': 392, 'agreed': 156, 'drunk': 1375, 'le': 2544, 'gabriel': 1859, 'colonel': 876, 'ambitious': 211, 'press': 3379, 'cd': 728, 'mechanical': 2788, 'arm': 292, 'rotten': 3740, 'bizarre': 492, 'eastwood': 1409, 'westerns': 4854, 'disjointed': 1287, 'inferior': 2285, 'generic': 1885, 'wed': 4835, 'fallen': 1638, 'threw': 4470, 'breasts': 572, 'ruined': 3751, 'succeed': 4262, 'persons': 3244, 'angels': 234, 'sadness': 3770, 'iii': 2227, 'develops': 1226, 'attorney': 348, 'vulnerable': 4768, 'cannibal': 669, 'faster': 1662, 'painting': 3175, 'iron': 2354, 'luckily': 2682, 'whilst': 4869, 'bite': 489, 'spielberg': 4110, 'workers': 4943, 'progress': 3425, 'official': 3094, 'photo': 3257, '2003': 33, 'speed': 4103, 'calling': 653, 'floating': 1758, 'bay': 416, 'berlin': 467, 'hed': 2072, 'technology': 4385, 'innovative': 2295, 'classes': 834, 'nazi': 2977, 'kicked': 2461, 'adequate': 120, 'prostitute': 3440, 'endearing': 1469, 'sexually': 3910, 'ego': 1435, 'eyre': 1614, 'attraction': 350, 'woody': 4936, 'allen': 188, 'respected': 3653, 'von': 4765, 'rolled': 3729, 'carol': 693, 'spain': 4091, 'driving': 1368, 'spanish': 4092, 'fighter': 1708, 'maria': 2736, 'cinematographer': 819, 'models': 2881, 'productions': 3420, 'rocks': 3722, 'paulie': 3215, 'fears': 1677, 'currently': 1085, 'iraq': 2351, 'rolling': 3730, 'card': 681, 'square': 4136, 'trade': 4547, 'user': 4696, 'souls': 4080, 'nightmare': 3014, 'petty': 3249, 'similarly': 3980, 'poetic': 3313, 'producing': 3417, 'dub': 1378, 'stereotype': 4178, 'yesterday': 4983, 'superbly': 4297, 'acid': 95, 'marvelous': 2750, 'afternoon': 144, 'clown': 862, 'dressing': 1359, 'attached': 336, 'performed': 3230, 'lord': 2652, 'rings': 3699, 'ought': 3138, 'nostalgia': 3038, 'expensive': 1579, 'disc': 1278, 'spoiled': 4122, 'der': 1191, 'pleasantly': 3303, 'glenn': 1918, 'championship': 745, 'cameras': 660, 'strictly': 4223, 'tomatoes': 4515, 'woods': 4935, 'trail': 4553, 'sympathetic': 4342, '16': 8, 'target': 4366, 'bird': 484, 'charisma': 762, 'enters': 1496, 'cooper': 990, 'creator': 1043, 'revolves': 3682, 'topic': 4526, 'cliff': 847, 'et': 1526, 'purple': 3473, 'abusive': 75, 'goldberg': 1933, 'lively': 2627, 'paltrow': 3178, 'nyc': 3065, 'basement': 405, 'introduces': 2338, 'cube': 1076, 'connect': 944, 'unit': 4663, 'stealing': 4171, 'opinions': 3119, 'stops': 4203, 'smiling': 4037, 'personalities': 3241, 'greed': 1968, 'stinks': 4192, 'louis': 2665, 'hbo': 2055, 'cheese': 780, 'movements': 2924, 'instantly': 2306, 'purchased': 3470, 'catches': 715, 'dear': 1140, 'viewings': 4741, 'advance': 127, 'triumph': 4590, 'phony': 3256, '1990': 24, 'gods': 1928, 'ring': 3698, 'burn': 625, 'juvenile': 2441, 'landscapes': 2514, 'bible': 477, 'menacing': 2807, 'dating': 1120, 'junior': 2435, 'videos': 4734, 'wives': 4918, 'settle': 3902, 'commit': 904, 'kidding': 2465, 'split': 4120, '18': 10, 'wes': 4851, 'operation': 3117, 'developing': 1224, 'pushing': 3479, 'boom': 537, 'load': 2631, 'seek': 3858, 'counter': 1011, 'shed': 3924, 'clothing': 861, 'rental': 3627, 'sleep': 4024, 'polished': 3323, 'craven': 1034, 'latin': 2527, 'emily': 1456, 'maggie': 2702, 'tie': 4488, 'superficial': 4298, 'surviving': 4323, 'overwhelming': 3157, 'elephant': 1444, 'catchy': 717, 'hated': 2047, 'kennedy': 2454, 'translation': 4562, 'critic': 1061, 'segments': 3868, 'delightful': 1168, 'ballet': 389, 'dancer': 1104, 'toys': 4543, 'oliver': 3102, 'outer': 3143, 'denzel': 1181, 'simplistic': 3985, 'displayed': 1292, 'designs': 1204, 'complain': 919, 'combat': 882, 'pants': 3182, 'characterization': 759, 'relative': 3599, 'sappy': 3784, 'grown': 1984, 'spider': 4109, 'sidekick': 3966, 'commented': 900, 'channels': 754, 'mysteries': 2954, 'ralph': 3510, 'bakshi': 386, 'roots': 3738, 'racial': 3501, 'belong': 459, 'ear': 1397, 'enterprise': 1495, 'neat': 2982, 'singers': 3994, 'revealing': 3672, 'ranks': 3519, 'falk': 1636, 'slightest': 4028, 'parallel': 3185, 'lemmon': 2567, 'stale': 4141, 'farm': 1656, 'chorus': 803, 'pearl': 3220, 'sport': 4129, 'boxing': 556, 'humble': 2191, 'ridden': 3691, 'hitting': 2126, 'analysis': 224, 'symbolism': 4341, 'sleazy': 4023, 'countless': 1012, 'scores': 3823, 'avoided': 364, 'terry': 4415, 'creep': 1051, 'deliberately': 1166, 'experiments': 1584, 'underground': 4640, 'anne': 246, 'empathy': 1462, 'korean': 2495, 'myers': 2952, 'daddy': 1096, 'buddies': 608, 'baseball': 403, 'stereotypical': 4180, 'witches': 4910, 'spell': 4104, 'murderous': 2942, 'widely': 4881, 'doors': 1329, 'harris': 2038, 'pro': 3406, 'lengthy': 2570, 'virgin': 4749, 'hunting': 2201, 'goal': 1925, 'month': 2896, 'catherine': 719, 'reasonable': 3558, 'exotic': 1574, 'spread': 4133, 'host': 2173, 'object': 3066, 'jenny': 2393, 'wished': 4905, 'endings': 1472, 'fooled': 1780, 'halfway': 2008, 'nail': 2957, 'madonna': 2699, 'hollywoods': 2138, 'crimes': 1056, 'pot': 3354, 'yelling': 4980, 'criminals': 1058, 'chess': 783, 'idiots': 2220, 'eaten': 1412, 'subplot': 4255, 'worker': 4942, 'monkeys': 2891, 'armed': 293, 'restored': 3659, 'swedish': 4335, 'lena': 2568, 'splendid': 4119, 'fetched': 1698, 'pacino': 3164, 'stinker': 4191, 'mighty': 2836, 'rangers': 3517, 'cartoons': 705, 'borrowed': 545, 'glass': 1917, 'elvira': 1450, 'weapon': 4828, 'abysmal': 76, 'norman': 3035, 'dean': 1139, 'roy': 3745, 'freak': 1824, 'tame': 4363, 'campbell': 663, 'sutherland': 4333, 'mtv': 2933, 'involve': 2345, 'instinct': 2308, 'despair': 1207, 'distance': 1294, 'taylor': 4372, 'careers': 687, 'pink': 3277, 'elvis': 1451, 'continuity': 972, 'louise': 2666, 'contest': 967, 'unreal': 4676, 'hatred': 2049, 'willis': 4890, 'feminist': 1695, 'bargain': 400, 'misses': 2868, 'daring': 1114, 'snl': 4044, 'ball': 388, 'fairy': 1632, 'web': 4833, 'civilization': 827, 'interpretation': 2328, 'staged': 4140, 'husbands': 2205, 'germans': 1897, 'widow': 4883, 'ruth': 3763, 'funeral': 1849, 'nazis': 2978, 'returned': 3666, '2006': 36, 'nearby': 2980, 'ignored': 2225, 'conspiracy': 956, 'kidnapped': 2466, 'thugs': 4484, 'appreciation': 281, 'stones': 4198, 'lasted': 2522, 'increasingly': 2268, 'gangster': 1868, 'meat': 2787, 'comparing': 913, 'alcoholic': 177, 'excessive': 1560, 'gangsters': 1869, 'strikes': 4225, 'coach': 868, 'rachel': 3500, 'ties': 4490, 'montana': 2895, 'americas': 215, 'freddy': 1826, 'haunted': 2050, 'stiff': 4187, 'walken': 4777, 'bullets': 621, 'rap': 3520, 'raised': 3508, 'performer': 3231, 'website': 4834, 'contrary': 974, 'enormous': 1490, 'amounts': 220, 'bottle': 550, 'blob': 507, 'slave': 4022, 'pat': 3208, 'existed': 1570, '2004': 34, 'internet': 2327, 'nervous': 2999, 'del': 1165, 'indians': 2275, 'holy': 2140, 'constructed': 959, 'disagree': 1269, 'manipulative': 2727, 'grab': 1949, 'pretending': 3382, 'shine': 3931, 'orders': 3127, 'cabin': 643, 'extent': 1605, 'picks': 3268, 'thoughtful': 4463, 'kubrick': 2496, 'orange': 3125, 'storytelling': 4209, '60': 53, 'losers': 2656, 'devils': 1229, 'wilson': 4891, 'brave': 567, 'punk': 3468, 'loaded': 2632, 'faults': 1669, 'cities': 823, 'miserable': 2863, 'theyd': 4443, 'resident': 3647, 'fired': 1735, 'inducing': 2279, 'elegant': 1441, '1972': 18, 'waitress': 4773, 'persona': 3239, 'exaggerated': 1552, 'neo': 2998, 'felix': 1689, 'ultra': 4629, 'jaws': 2385, 'allowing': 191, 'matthau': 2771, 'logical': 2639, 'edgar': 1417, 'specifically': 4100, 'passes': 3203, 'polanski': 3321, 'shelley': 3928, 'winters': 4901, 'competent': 917, 'hung': 2197, '1984': 23, 'agents': 151, 'unseen': 4678, 'jake': 2377, 'educational': 1425, 'dropping': 1371, 'album': 175, 'nicholson': 3011, 'magazine': 2701, 'subplots': 4256, 'formulaic': 1803, 'underlying': 4641, 'online': 3109, 'ham': 2011, 'ireland': 2352, 'rat': 3525, 'warmth': 4796, 'misery': 2865, 'seagal': 3839, 'phantom': 3251, 'quotes': 3497, 'minimum': 2856, 'ape': 266, 'originality': 3130, 'mickey': 2831, 'amanda': 205, 'arnold': 296, 'scheme': 3812, 'mummy': 2937, 'dinner': 1254, 'communist': 907, 'served': 3894, 'kingdom': 2480, 'peters': 3248, 'lincoln': 2608, 'fonda': 1777, 'alice': 182, 'rebel': 3561, 'foster': 1809, 'monkey': 2890, 'greedy': 1969, 'hamilton': 2012, 'damage': 1099, 'integrity': 2311, 'abraham': 69, 'mitchell': 2875, 'lisa': 2616, 'finger': 1731, 'remote': 3622, 'vengeance': 4719, 'wreck': 4965, 'matthew': 2772, 'oil': 3097, 'gundam': 1997, 'tracy': 4546, 'snake': 4042, 'command': 897, 'linda': 2609, 'dances': 1106, 'jet': 2400, 'li': 2587, 'distribution': 1298, 'ginger': 1908, 'unhappy': 4656, 'dutch': 1389, '1968': 16, 'link': 2613, 'splatter': 4118, 'melting': 2799, 'desired': 1206, 'tommy': 4516, 'trashy': 4566, 'clip': 851, 'prom': 3429, 'rocky': 3723, 'survivor': 4324, 'slaughter': 4021, 'cameos': 658, 'conservative': 948, 'showcase': 3954, 'claire': 831, 'closest': 857, 'lips': 2615, 'surfing': 4311, 'depressed': 1187, 'rendition': 3625, 'blair': 497, 'button': 639, 'teachers': 4376, 'officers': 3093, 'assumed': 329, 'transfer': 4559, 'whale': 4857, 'danes': 1108, 'florida': 1761, 'damon': 1101, 'response': 3654, 'kirk': 2482, 'audio': 354, 'apes': 267, '1973': 19, 'aliens': 184, 'suspend': 4329, 'bettie': 473, 'stevens': 4183, 'grinch': 1975, 'fury': 1855, 'mildred': 2841, 'species': 4098, 'schools': 3814, 'elm': 1447, 'davies': 1125, 'curse': 1086, 'receives': 3565, 'directions': 1262, 'swim': 4337, 'wells': 4845, 'lou': 2663, 'bourne': 554, 'defend': 1158, 'ya': 4976, 'mann': 2728, 'pokemon': 3320, 'modesty': 2883, 'georges': 1894, 'astaire': 330}\n"
     ]
    }
   ],
   "source": [
    "print(str(vocabulary))"
   ]
  },
  {
   "cell_type": "markdown",
   "metadata": {},
   "source": [
    "Once you have added the endpoint name to the Lambda function, click on **Save**. Your Lambda function is now up and running. Next we need to create a way for our web app to execute the Lambda function."
   ]
  },
  {
   "cell_type": "markdown",
   "metadata": {},
   "source": [
    "### Setting up API Gateway\n",
    "\n",
    "Now that our Lambda function is set up, it is time to create a new API using API Gateway that will trigger the Lambda function we have just created.\n",
    "\n",
    "Using AWS Console, navigate to **Amazon API Gateway** and then click on **Get started**.\n",
    "\n",
    "On the next page, make sure that **New API** is selected and give the new api a name, for example, `sentiment_analysis_web_app`. Then, click on **Create API**.\n",
    "\n",
    "Now we have created an API, however it doesn't currently do anything. What we want it to do is to trigger the Lambda function that we created earlier.\n",
    "\n",
    "Select the **Actions** dropdown menu and click **Create Method**. A new blank method will be created, select its dropdown menu and select **POST**, then click on the check mark beside it.\n",
    "\n",
    "For the integration point, make sure that **Lambda Function** is selected and click on the **Use Lambda Proxy integration**. This option makes sure that the data that is sent to the API is then sent directly to the Lambda function with no processing. It also means that the return value must be a proper response object as it will also not be processed by API Gateway.\n",
    "\n",
    "Type the name of the Lambda function you created earlier into the **Lambda Function** text entry box and then click on **Save**. Click on **OK** in the pop-up box that then appears, giving permission to API Gateway to invoke the Lambda function you created.\n",
    "\n",
    "The last step in creating the API Gateway is to select the **Actions** dropdown and click on **Deploy API**. You will need to create a new Deployment stage and name it anything you like, for example `prod`.\n",
    "\n",
    "You have now successfully set up a public API to access your SageMaker model. Make sure to copy or write down the URL provided to invoke your newly created public API as this will be needed in the next step. This URL can be found at the top of the page, highlighted in blue next to the text **Invoke URL**."
   ]
  },
  {
   "cell_type": "markdown",
   "metadata": {},
   "source": [
    "## Step 7: Deploying our web app\n",
    "\n",
    "Now that we have a publicly available API, we can start using it in a web app. For our purposes, we have provided a simple static html file which can make use of the public api you created earlier.\n",
    "\n",
    "In the `website` folder there should be a file called `index.html`. Download the file to your computer and open that file up in a text editor of your choice. There should be a line which contains **\\*\\*REPLACE WITH PUBLIC API URL\\*\\***. Replace this string with the url that you wrote down in the last step and then save the file.\n",
    "\n",
    "Now, if you open `index.html` on your local computer, your browser will behave as a local web server and you can use the provided site to interact with your SageMaker model.\n",
    "\n",
    "If you'd like to go further, you can host this html file anywhere you'd like, for example using github or hosting a static site on Amazon's S3. Once you have done this you can share the link with anyone you'd like and have them play with it too!\n",
    "\n",
    "> **Important Note** In order for the web app to communicate with the SageMaker endpoint, the endpoint has to actually be deployed and running. This means that you are paying for it. Make sure that the endpoint is running when you want to use the web app but that you shut it down when you don't need it, otherwise you will end up with a surprisingly large AWS bill."
   ]
  },
  {
   "cell_type": "markdown",
   "metadata": {},
   "source": [
    "### Delete the endpoint\n",
    "\n",
    "Remember to always shut down your endpoint if you are no longer using it. You are charged for the length of time that the endpoint is running so if you forget and leave it on you could end up with an unexpectedly large bill."
   ]
  },
  {
   "cell_type": "code",
   "execution_count": null,
   "metadata": {},
   "outputs": [],
   "source": [
    "xgb_predictor.delete_endpoint()"
   ]
  },
  {
   "cell_type": "markdown",
   "metadata": {},
   "source": [
    "## Optional: Clean up\n",
    "\n",
    "The default notebook instance on SageMaker doesn't have a lot of excess disk space available. As you continue to complete and execute notebooks you will eventually fill up this disk space, leading to errors which can be difficult to diagnose. Once you are completely finished using a notebook it is a good idea to remove the files that you created along the way. Of course, you can do this from the terminal or from the notebook hub if you would like. The cell below contains some commands to clean up the created files from within the notebook."
   ]
  },
  {
   "cell_type": "code",
   "execution_count": null,
   "metadata": {},
   "outputs": [],
   "source": [
    "# First we will remove all of the files contained in the data_dir directory\n",
    "!rm $data_dir/*\n",
    "\n",
    "# And then we delete the directory itself\n",
    "!rmdir $data_dir\n",
    "\n",
    "# Similarly we remove the files in the cache_dir directory and the directory itself\n",
    "!rm $cache_dir/*\n",
    "!rmdir $cache_dir"
   ]
  },
  {
   "cell_type": "code",
   "execution_count": null,
   "metadata": {},
   "outputs": [],
   "source": []
  }
 ],
 "metadata": {
  "kernelspec": {
   "display_name": "conda_python3",
   "language": "python",
   "name": "conda_python3"
  },
  "language_info": {
   "codemirror_mode": {
    "name": "ipython",
    "version": 3
   },
   "file_extension": ".py",
   "mimetype": "text/x-python",
   "name": "python",
   "nbconvert_exporter": "python",
   "pygments_lexer": "ipython3",
   "version": "3.6.5"
  }
 },
 "nbformat": 4,
 "nbformat_minor": 2
}
